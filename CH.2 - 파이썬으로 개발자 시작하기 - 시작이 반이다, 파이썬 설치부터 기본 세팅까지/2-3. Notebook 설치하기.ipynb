{
 "cells": [
  {
   "cell_type": "markdown",
   "id": "52f1ab16",
   "metadata": {},
   "source": [
    "## Notebook을 이용해 파이썬을 사용할 수 있습니다. \n",
    "Notebook은 파이썬의 학습을 돕는 유용한 툴로, 이 강의에선 모든 실습에 해당 Jupyter Notebook을 사용합니다.\n"
   ]
  },
  {
   "cell_type": "code",
   "execution_count": 2,
   "id": "de303e61",
   "metadata": {},
   "outputs": [
    {
     "output_type": "execute_result",
     "data": {
      "text/plain": [
       "17"
      ]
     },
     "metadata": {},
     "execution_count": 2
    }
   ],
   "source": [
    "10+7"
   ]
  },
  {
   "cell_type": "code",
   "execution_count": 3,
   "id": "e7519fbf",
   "metadata": {},
   "outputs": [
    {
     "output_type": "execute_result",
     "data": {
      "text/plain": [
       "9"
      ]
     },
     "metadata": {},
     "execution_count": 3
    }
   ],
   "source": [
    "6+3"
   ]
  },
  {
   "source": [
    "한 셀에\n",
    "여러 줄을 한번에 실행할 수 도 있습니다. \n"
   ],
   "cell_type": "markdown",
   "metadata": {}
  },
  {
   "cell_type": "code",
   "execution_count": 4,
   "metadata": {},
   "outputs": [
    {
     "output_type": "stream",
     "name": "stdout",
     "text": [
      "9\n18\n56\n"
     ]
    }
   ],
   "source": [
    "print(8+1)\n",
    "print(10+8)\n",
    "print(7*8)"
   ]
  },
  {
   "cell_type": "code",
   "execution_count": 5,
   "metadata": {},
   "outputs": [
    {
     "output_type": "stream",
     "name": "stdout",
     "text": [
      "hello python world\nHell5 Pyth5n W5rld\n"
     ]
    }
   ],
   "source": [
    "name = \"Hello Python World\"\n",
    "print(name.lower())\n",
    "print(name.replace(\"o\", \"5\"))"
   ]
  },
  {
   "cell_type": "code",
   "execution_count": null,
   "metadata": {},
   "outputs": [],
   "source": []
  }
 ],
 "metadata": {
  "kernelspec": {
   "name": "python395jvsc74a57bd0822589b945c8e7396763bfada28918f5c773fbb0d49e4910d762b379e2d96f59",
   "display_name": "Python 3.9.5 64-bit"
  },
  "language_info": {
   "codemirror_mode": {
    "name": "ipython",
    "version": 3
   },
   "file_extension": ".py",
   "mimetype": "text/x-python",
   "name": "python",
   "nbconvert_exporter": "python",
   "pygments_lexer": "ipython3",
   "version": "3.9.5"
  }
 },
 "nbformat": 4,
 "nbformat_minor": 5
}