{
 "cells": [
  {
   "cell_type": "markdown",
   "id": "73a74997",
   "metadata": {},
   "source": [
    "## 여러개의 명령어를 한번에 실행하기\n",
    "`.py` 파일을 만들어서 여러개를 한번에 실행해 봅시다. \n",
    "VSCode에서 이를 실행해봅시다."
   ]
  },
  {
   "cell_type": "code",
   "execution_count": 3,
   "id": "0d95e00e",
   "metadata": {},
   "outputs": [
    {
     "name": "stdout",
     "output_type": "stream",
     "text": [
      "#\n",
      "##\n",
      "###\n",
      "####\n",
      "#####\n",
      "######\n",
      "#######\n",
      "########\n",
      "#########\n",
      "##########\n"
     ]
    }
   ],
   "source": [
    "print(\"#\")\n",
    "print(\"#\"*2)\n",
    "print(\"#\"*3)\n",
    "print(\"#\"*4)\n",
    "print(\"#\"*5)\n",
    "print(\"#\"*6)\n",
    "print(\"#\"*7)\n",
    "print(\"#\"*8)\n",
    "print(\"#\"*9)\n",
    "print(\"#\"*10)"
   ]
  },
  {
   "cell_type": "code",
   "execution_count": 4,
   "id": "48d42f21",
   "metadata": {},
   "outputs": [
    {
     "name": "stdout",
     "output_type": "stream",
     "text": [
      "#\n",
      "##\n",
      "###\n",
      "####\n",
      "#####\n",
      "######\n",
      "#######\n",
      "########\n",
      "#########\n",
      "##########\n"
     ]
    }
   ],
   "source": [
    "# 주석을 달아볼 수도 있습니다.\n",
    "\"\"\" 주석을 길게 달수도 있어요.\n",
    "    작성자 : 이도행 코치\n",
    "    제작 연도 : 2021      \"\"\"\n",
    "print(\"#\")\n",
    "print(\"#\"*2)\n",
    "print(\"#\"*3)\n",
    "print(\"#\"*4)\n",
    "print(\"#\"*5)\n",
    "print(\"#\"*6)\n",
    "print(\"#\"*7)\n",
    "print(\"#\"*8)\n",
    "print(\"#\"*9)\n",
    "print(\"#\"*10)"
   ]
  }
 ],
 "metadata": {
  "kernelspec": {
   "display_name": "Python 3",
   "language": "python",
   "name": "python3"
  },
  "language_info": {
   "codemirror_mode": {
    "name": "ipython",
    "version": 3
   },
   "file_extension": ".py",
   "mimetype": "text/x-python",
   "name": "python",
   "nbconvert_exporter": "python",
   "pygments_lexer": "ipython3",
   "version": "3.9.4"
  }
 },
 "nbformat": 4,
 "nbformat_minor": 5
}
