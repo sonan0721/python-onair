{
 "cells": [
  {
   "cell_type": "markdown",
   "id": "89e8e010",
   "metadata": {},
   "source": [
    "## 숫자형\n",
    "\n",
    "일반적으로 많이 사용되는 숫자는\n",
    "\"정수\"와, \"실수\"로 나뉩니다.\n",
    "\n",
    "파이썬에서 정수는 int 라고 칭하고, 실수는 float로 칭하고 있습니다.\n"
   ]
  },
  {
   "cell_type": "code",
   "execution_count": 1,
   "id": "7ab8731b",
   "metadata": {},
   "outputs": [
    {
     "data": {
      "text/plain": [
       "int"
      ]
     },
     "execution_count": 1,
     "metadata": {},
     "output_type": "execute_result"
    }
   ],
   "source": [
    "type(10)"
   ]
  },
  {
   "cell_type": "code",
   "execution_count": 33,
   "id": "10e67cab",
   "metadata": {},
   "outputs": [
    {
     "data": {
      "text/plain": [
       "float"
      ]
     },
     "execution_count": 33,
     "metadata": {},
     "output_type": "execute_result"
    }
   ],
   "source": [
    "type(3.14)"
   ]
  },
  {
   "cell_type": "markdown",
   "id": "36b5c069",
   "metadata": {},
   "source": [
    "### 타입의 구분\n",
    "왠만하면 연산이 들어가면 실수형이 됩니다."
   ]
  },
  {
   "cell_type": "code",
   "execution_count": 3,
   "id": "542d14ec",
   "metadata": {},
   "outputs": [
    {
     "data": {
      "text/plain": [
       "int"
      ]
     },
     "execution_count": 3,
     "metadata": {},
     "output_type": "execute_result"
    }
   ],
   "source": [
    "type(3+5) # 정수 + 정수 = 정수"
   ]
  },
  {
   "cell_type": "code",
   "execution_count": 34,
   "id": "8ffc8f44",
   "metadata": {},
   "outputs": [
    {
     "data": {
      "text/plain": [
       "float"
      ]
     },
     "execution_count": 34,
     "metadata": {},
     "output_type": "execute_result"
    }
   ],
   "source": [
    "type(3 + 3.14) # 정수 + 실수 = 실수"
   ]
  },
  {
   "cell_type": "markdown",
   "id": "dcc90768",
   "metadata": {},
   "source": [
    "### 파이썬의 정수는 무한의 크기를 가질 수 있습니다. \n"
   ]
  },
  {
   "cell_type": "code",
   "execution_count": 6,
   "id": "2183b255",
   "metadata": {},
   "outputs": [],
   "source": [
    "a = 123819078903478901725902379058129038590123859012783095712903570912375901723905712"
   ]
  },
  {
   "cell_type": "code",
   "execution_count": 35,
   "id": "8a4ce350",
   "metadata": {},
   "outputs": [
    {
     "data": {
      "text/plain": [
       "int"
      ]
     },
     "execution_count": 35,
     "metadata": {},
     "output_type": "execute_result"
    }
   ],
   "source": [
    "type(a)"
   ]
  },
  {
   "cell_type": "markdown",
   "id": "a073b42d",
   "metadata": {},
   "source": [
    "### 다양한 연산"
   ]
  },
  {
   "cell_type": "code",
   "execution_count": 9,
   "id": "2e5a74f6",
   "metadata": {},
   "outputs": [
    {
     "data": {
      "text/plain": [
       "float"
      ]
     },
     "execution_count": 9,
     "metadata": {},
     "output_type": "execute_result"
    }
   ],
   "source": [
    "type(13/3)"
   ]
  },
  {
   "cell_type": "code",
   "execution_count": 23,
   "id": "f9d3dfed",
   "metadata": {},
   "outputs": [
    {
     "data": {
      "text/plain": [
       "4.333333333333333"
      ]
     },
     "execution_count": 23,
     "metadata": {},
     "output_type": "execute_result"
    }
   ],
   "source": [
    "13/3"
   ]
  },
  {
   "cell_type": "code",
   "execution_count": 24,
   "id": "e1661871",
   "metadata": {},
   "outputs": [
    {
     "data": {
      "text/plain": [
       "4"
      ]
     },
     "execution_count": 24,
     "metadata": {},
     "output_type": "execute_result"
    }
   ],
   "source": [
    "13 // 3"
   ]
  },
  {
   "cell_type": "code",
   "execution_count": 25,
   "id": "0bf30318",
   "metadata": {},
   "outputs": [
    {
     "data": {
      "text/plain": [
       "1"
      ]
     },
     "execution_count": 25,
     "metadata": {},
     "output_type": "execute_result"
    }
   ],
   "source": [
    "13 % 3"
   ]
  },
  {
   "cell_type": "code",
   "execution_count": 11,
   "id": "fd6a99f8",
   "metadata": {},
   "outputs": [
    {
     "data": {
      "text/plain": [
       "9"
      ]
     },
     "execution_count": 11,
     "metadata": {},
     "output_type": "execute_result"
    }
   ],
   "source": [
    "3 ** 2"
   ]
  },
  {
   "cell_type": "code",
   "execution_count": 12,
   "id": "364f7a58",
   "metadata": {},
   "outputs": [
    {
     "data": {
      "text/plain": [
       "1"
      ]
     },
     "execution_count": 12,
     "metadata": {},
     "output_type": "execute_result"
    }
   ],
   "source": [
    "3 % 2"
   ]
  },
  {
   "cell_type": "code",
   "execution_count": 18,
   "id": "afab648b",
   "metadata": {},
   "outputs": [],
   "source": [
    "a = 2"
   ]
  },
  {
   "cell_type": "code",
   "execution_count": 19,
   "id": "49a326a6",
   "metadata": {},
   "outputs": [],
   "source": [
    "a = a* 3"
   ]
  },
  {
   "cell_type": "code",
   "execution_count": 20,
   "id": "009065da",
   "metadata": {},
   "outputs": [
    {
     "name": "stdout",
     "output_type": "stream",
     "text": [
      "6\n"
     ]
    }
   ],
   "source": [
    "print(a)"
   ]
  },
  {
   "cell_type": "code",
   "execution_count": 21,
   "id": "7fdc8672",
   "metadata": {},
   "outputs": [],
   "source": [
    "a *= 3"
   ]
  },
  {
   "cell_type": "code",
   "execution_count": 22,
   "id": "d3108efc",
   "metadata": {},
   "outputs": [
    {
     "name": "stdout",
     "output_type": "stream",
     "text": [
      "18\n"
     ]
    }
   ],
   "source": [
    "print(a)"
   ]
  },
  {
   "cell_type": "code",
   "execution_count": 26,
   "id": "7b66cf63",
   "metadata": {},
   "outputs": [
    {
     "data": {
      "text/plain": [
       "6.0"
      ]
     },
     "execution_count": 26,
     "metadata": {},
     "output_type": "execute_result"
    }
   ],
   "source": [
    "(3+2)*6/5"
   ]
  },
  {
   "cell_type": "code",
   "execution_count": 27,
   "id": "39b7e5b5",
   "metadata": {},
   "outputs": [
    {
     "data": {
      "text/plain": [
       "6"
      ]
     },
     "execution_count": 27,
     "metadata": {},
     "output_type": "execute_result"
    }
   ],
   "source": [
    "int(6.0)"
   ]
  },
  {
   "cell_type": "code",
   "execution_count": 28,
   "id": "50c3cefe",
   "metadata": {},
   "outputs": [
    {
     "data": {
      "text/plain": [
       "6.0"
      ]
     },
     "execution_count": 28,
     "metadata": {},
     "output_type": "execute_result"
    }
   ],
   "source": [
    "float(6)"
   ]
  },
  {
   "cell_type": "code",
   "execution_count": 29,
   "id": "560b7f96",
   "metadata": {},
   "outputs": [],
   "source": [
    "a = 10"
   ]
  },
  {
   "cell_type": "code",
   "execution_count": 30,
   "id": "351279f0",
   "metadata": {},
   "outputs": [],
   "source": [
    "a = -a"
   ]
  },
  {
   "cell_type": "code",
   "execution_count": 31,
   "id": "57c7bd7d",
   "metadata": {},
   "outputs": [
    {
     "data": {
      "text/plain": [
       "-10"
      ]
     },
     "execution_count": 31,
     "metadata": {},
     "output_type": "execute_result"
    }
   ],
   "source": [
    "a"
   ]
  },
  {
   "cell_type": "code",
   "execution_count": 36,
   "id": "20c5a89e",
   "metadata": {},
   "outputs": [
    {
     "data": {
      "text/plain": [
       "20"
      ]
     },
     "execution_count": 36,
     "metadata": {},
     "output_type": "execute_result"
    }
   ],
   "source": [
    "2 + 3 * 6"
   ]
  },
  {
   "cell_type": "markdown",
   "id": "9ea16caf",
   "metadata": {},
   "source": [
    "## 불(bool) 형\n",
    "\n",
    "불(bool)은 참, 또는 거짓의 값을 가집니다.\n",
    "\n",
    "`이것이 참이다.`\n",
    "\n",
    "`이것이 거짓이다`\n",
    "\n",
    "를 표현하기 위해 다양한 비교 연산자들이 존재합니다.\n"
   ]
  },
  {
   "cell_type": "code",
   "execution_count": 55,
   "id": "47737d51",
   "metadata": {},
   "outputs": [
    {
     "data": {
      "text/plain": [
       "bool"
      ]
     },
     "execution_count": 55,
     "metadata": {},
     "output_type": "execute_result"
    }
   ],
   "source": [
    "type(True)"
   ]
  },
  {
   "cell_type": "code",
   "execution_count": 37,
   "id": "72ad4e39",
   "metadata": {},
   "outputs": [
    {
     "data": {
      "text/plain": [
       "False"
      ]
     },
     "execution_count": 37,
     "metadata": {},
     "output_type": "execute_result"
    }
   ],
   "source": [
    "3+2 < 4"
   ]
  },
  {
   "cell_type": "code",
   "execution_count": 38,
   "id": "fc3cf810",
   "metadata": {},
   "outputs": [],
   "source": [
    "a= 3+2"
   ]
  },
  {
   "cell_type": "code",
   "execution_count": 39,
   "id": "d769238a",
   "metadata": {},
   "outputs": [
    {
     "data": {
      "text/plain": [
       "True"
      ]
     },
     "execution_count": 39,
     "metadata": {},
     "output_type": "execute_result"
    }
   ],
   "source": [
    "a <= a+1"
   ]
  },
  {
   "cell_type": "code",
   "execution_count": 41,
   "id": "4109dfcf",
   "metadata": {},
   "outputs": [
    {
     "data": {
      "text/plain": [
       "False"
      ]
     },
     "execution_count": 41,
     "metadata": {},
     "output_type": "execute_result"
    }
   ],
   "source": [
    "3 == 4"
   ]
  },
  {
   "cell_type": "code",
   "execution_count": 43,
   "id": "52b34d2a",
   "metadata": {},
   "outputs": [
    {
     "data": {
      "text/plain": [
       "True"
      ]
     },
     "execution_count": 43,
     "metadata": {},
     "output_type": "execute_result"
    }
   ],
   "source": [
    "3 != 4"
   ]
  },
  {
   "cell_type": "code",
   "execution_count": 44,
   "id": "f24f8394",
   "metadata": {},
   "outputs": [
    {
     "data": {
      "text/plain": [
       "True"
      ]
     },
     "execution_count": 44,
     "metadata": {},
     "output_type": "execute_result"
    }
   ],
   "source": [
    "3 == 3.0"
   ]
  },
  {
   "cell_type": "code",
   "execution_count": 45,
   "id": "0385e2b4",
   "metadata": {},
   "outputs": [
    {
     "data": {
      "text/plain": [
       "True"
      ]
     },
     "execution_count": 45,
     "metadata": {},
     "output_type": "execute_result"
    }
   ],
   "source": [
    "9/3 == 3"
   ]
  },
  {
   "cell_type": "code",
   "execution_count": 46,
   "id": "2639e8b7",
   "metadata": {},
   "outputs": [
    {
     "data": {
      "text/plain": [
       "False"
      ]
     },
     "execution_count": 46,
     "metadata": {},
     "output_type": "execute_result"
    }
   ],
   "source": [
    "1.66 == 1.666"
   ]
  },
  {
   "cell_type": "code",
   "execution_count": 47,
   "id": "c6301d08",
   "metadata": {},
   "outputs": [
    {
     "data": {
      "text/plain": [
       "True"
      ]
     },
     "execution_count": 47,
     "metadata": {},
     "output_type": "execute_result"
    }
   ],
   "source": [
    "3*3 > 5"
   ]
  },
  {
   "cell_type": "code",
   "execution_count": 48,
   "id": "918eeec6",
   "metadata": {},
   "outputs": [
    {
     "data": {
      "text/plain": [
       "True"
      ]
     },
     "execution_count": 48,
     "metadata": {},
     "output_type": "execute_result"
    }
   ],
   "source": [
    "3+3 > 5 and 9 != 8"
   ]
  },
  {
   "cell_type": "code",
   "execution_count": 49,
   "id": "ad188c5a",
   "metadata": {},
   "outputs": [],
   "source": [
    "a = 10"
   ]
  },
  {
   "cell_type": "code",
   "execution_count": 50,
   "id": "0e35e5c5",
   "metadata": {},
   "outputs": [
    {
     "data": {
      "text/plain": [
       "True"
      ]
     },
     "execution_count": 50,
     "metadata": {},
     "output_type": "execute_result"
    }
   ],
   "source": [
    "a < 2 or a > 9"
   ]
  },
  {
   "cell_type": "code",
   "execution_count": 56,
   "id": "e913e660",
   "metadata": {},
   "outputs": [
    {
     "data": {
      "text/plain": [
       "True"
      ]
     },
     "execution_count": 56,
     "metadata": {},
     "output_type": "execute_result"
    }
   ],
   "source": [
    "not(3 == 5)"
   ]
  },
  {
   "cell_type": "code",
   "execution_count": 57,
   "id": "673cca5d",
   "metadata": {},
   "outputs": [
    {
     "data": {
      "text/plain": [
       "False"
      ]
     },
     "execution_count": 57,
     "metadata": {},
     "output_type": "execute_result"
    }
   ],
   "source": [
    "not(True)"
   ]
  },
  {
   "cell_type": "code",
   "execution_count": 53,
   "id": "1705f521",
   "metadata": {},
   "outputs": [
    {
     "data": {
      "text/plain": [
       "True"
      ]
     },
     "execution_count": 53,
     "metadata": {},
     "output_type": "execute_result"
    }
   ],
   "source": [
    "True and True"
   ]
  },
  {
   "cell_type": "code",
   "execution_count": 54,
   "id": "81127bea",
   "metadata": {},
   "outputs": [
    {
     "data": {
      "text/plain": [
       "True"
      ]
     },
     "execution_count": 54,
     "metadata": {},
     "output_type": "execute_result"
    }
   ],
   "source": [
    "True or False"
   ]
  }
 ],
 "metadata": {
  "kernelspec": {
   "display_name": "Python 3",
   "language": "python",
   "name": "python3"
  },
  "language_info": {
   "codemirror_mode": {
    "name": "ipython",
    "version": 3
   },
   "file_extension": ".py",
   "mimetype": "text/x-python",
   "name": "python",
   "nbconvert_exporter": "python",
   "pygments_lexer": "ipython3",
   "version": "3.9.4"
  }
 },
 "nbformat": 4,
 "nbformat_minor": 5
}
