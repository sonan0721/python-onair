{
 "cells": [
  {
   "cell_type": "markdown",
   "id": "7ed1f281",
   "metadata": {},
   "source": [
    "### 매개변수와 리턴에 대해서 배우기\n",
    "- 매개변수(파라미터)\n",
    "\n",
    "함수에 파라미터를 넘길 수 있습니다."
   ]
  },
  {
   "cell_type": "code",
   "execution_count": 1,
   "id": "6c9d8881",
   "metadata": {},
   "outputs": [],
   "source": [
    "def printRectangle(size):\n",
    "    for i in range(size):\n",
    "        print(\"#\"*size)"
   ]
  },
  {
   "cell_type": "code",
   "execution_count": 3,
   "id": "ef949428",
   "metadata": {},
   "outputs": [
    {
     "name": "stdout",
     "output_type": "stream",
     "text": [
      "###############\n",
      "###############\n",
      "###############\n",
      "###############\n",
      "###############\n",
      "###############\n",
      "###############\n",
      "###############\n",
      "###############\n",
      "###############\n",
      "###############\n",
      "###############\n",
      "###############\n",
      "###############\n",
      "###############\n"
     ]
    }
   ],
   "source": [
    "printRectangle(15)"
   ]
  },
  {
   "cell_type": "code",
   "execution_count": 5,
   "id": "a976e86a",
   "metadata": {},
   "outputs": [],
   "source": [
    "## 이전에 만들었던, 홀수 체크 함수\n",
    "\n",
    "def isOdd(num):\n",
    "    if (num % 2) == 1 :\n",
    "        return True\n",
    "    else :\n",
    "        return False"
   ]
  },
  {
   "cell_type": "code",
   "execution_count": 6,
   "id": "d2047836",
   "metadata": {},
   "outputs": [
    {
     "name": "stdout",
     "output_type": "stream",
     "text": [
      "True\n"
     ]
    }
   ],
   "source": [
    "print(isOdd(12389))"
   ]
  },
  {
   "cell_type": "markdown",
   "id": "83bc13d3",
   "metadata": {},
   "source": [
    "### 함수 심화\n",
    "- 매개변수에 타입 지정 ( : 타입)\n",
    "- 미리 정의된 매개변수 ( -> 타입)\n"
   ]
  },
  {
   "cell_type": "code",
   "execution_count": 8,
   "id": "3bb79a17",
   "metadata": {},
   "outputs": [],
   "source": [
    "# -> 와 : 을 이용해서 타입을 지정할 수 있습니다.\n",
    "def isOdd(num : int) -> bool :\n",
    "    if (num % 2) == 1 :\n",
    "        return True\n",
    "    else :\n",
    "        return False"
   ]
  },
  {
   "cell_type": "markdown",
   "id": "1e510671",
   "metadata": {},
   "source": [
    "### 매개변수 두개 이상 넘기기"
   ]
  },
  {
   "cell_type": "code",
   "execution_count": 9,
   "id": "9f223c29",
   "metadata": {},
   "outputs": [],
   "source": [
    "def printRectangle(width, height):\n",
    "    for i in range(height):\n",
    "        print(\"#\"*width)"
   ]
  },
  {
   "cell_type": "code",
   "execution_count": 10,
   "id": "d11dee29",
   "metadata": {},
   "outputs": [
    {
     "name": "stdout",
     "output_type": "stream",
     "text": [
      "####################\n",
      "####################\n",
      "####################\n",
      "####################\n",
      "####################\n"
     ]
    }
   ],
   "source": [
    "printRectangle(20, 5)"
   ]
  },
  {
   "cell_type": "markdown",
   "id": "75ae504a",
   "metadata": {},
   "source": [
    "### 함수를 사용하여, 여러가지 데이터를 동시에 적용시키기\n"
   ]
  },
  {
   "cell_type": "code",
   "execution_count": 12,
   "id": "aae58c4f",
   "metadata": {},
   "outputs": [],
   "source": [
    "def levelup(mon):\n",
    "    mon[\"레벨\"] = mon[\"레벨\"] +1\n",
    "    print(mon)\n",
    "    if mon[\"레벨\"] == 16 :\n",
    "        mon[\"이름\"] = mon[\"진화시 이름\"]\n",
    "        print(mon[\"진화시 이름\"] + \"이 되었습니다.\")\n"
   ]
  },
  {
   "cell_type": "code",
   "execution_count": 14,
   "id": "8d30d172",
   "metadata": {},
   "outputs": [],
   "source": [
    "pokemon = {\"레벨\": 1, \"이름\":\"파이리\" , \"진화시 이름\" : \"리자드\"}\n",
    "pokemon1 = {\"레벨\": 1, \"이름\":\"피카츄\" , \"진화시 이름\" :\"라이츄\"}"
   ]
  },
  {
   "cell_type": "code",
   "execution_count": 15,
   "id": "ef0cc5f3",
   "metadata": {},
   "outputs": [
    {
     "name": "stdout",
     "output_type": "stream",
     "text": [
      "{'레벨': 2, '이름': '파이리', '진화시 이름': '리자드'}\n",
      "{'레벨': 2, '이름': '피카츄', '진화시 이름': '라이츄'}\n",
      "{'레벨': 3, '이름': '파이리', '진화시 이름': '리자드'}\n",
      "{'레벨': 3, '이름': '피카츄', '진화시 이름': '라이츄'}\n",
      "{'레벨': 4, '이름': '파이리', '진화시 이름': '리자드'}\n",
      "{'레벨': 4, '이름': '피카츄', '진화시 이름': '라이츄'}\n",
      "{'레벨': 5, '이름': '파이리', '진화시 이름': '리자드'}\n",
      "{'레벨': 5, '이름': '피카츄', '진화시 이름': '라이츄'}\n",
      "{'레벨': 6, '이름': '파이리', '진화시 이름': '리자드'}\n",
      "{'레벨': 6, '이름': '피카츄', '진화시 이름': '라이츄'}\n",
      "{'레벨': 7, '이름': '파이리', '진화시 이름': '리자드'}\n",
      "{'레벨': 7, '이름': '피카츄', '진화시 이름': '라이츄'}\n",
      "{'레벨': 8, '이름': '파이리', '진화시 이름': '리자드'}\n",
      "{'레벨': 8, '이름': '피카츄', '진화시 이름': '라이츄'}\n",
      "{'레벨': 9, '이름': '파이리', '진화시 이름': '리자드'}\n",
      "{'레벨': 9, '이름': '피카츄', '진화시 이름': '라이츄'}\n",
      "{'레벨': 10, '이름': '파이리', '진화시 이름': '리자드'}\n",
      "{'레벨': 10, '이름': '피카츄', '진화시 이름': '라이츄'}\n",
      "{'레벨': 11, '이름': '파이리', '진화시 이름': '리자드'}\n",
      "{'레벨': 11, '이름': '피카츄', '진화시 이름': '라이츄'}\n",
      "{'레벨': 12, '이름': '파이리', '진화시 이름': '리자드'}\n",
      "{'레벨': 12, '이름': '피카츄', '진화시 이름': '라이츄'}\n",
      "{'레벨': 13, '이름': '파이리', '진화시 이름': '리자드'}\n",
      "{'레벨': 13, '이름': '피카츄', '진화시 이름': '라이츄'}\n",
      "{'레벨': 14, '이름': '파이리', '진화시 이름': '리자드'}\n",
      "{'레벨': 14, '이름': '피카츄', '진화시 이름': '라이츄'}\n",
      "{'레벨': 15, '이름': '파이리', '진화시 이름': '리자드'}\n",
      "{'레벨': 15, '이름': '피카츄', '진화시 이름': '라이츄'}\n",
      "{'레벨': 16, '이름': '파이리', '진화시 이름': '리자드'}\n",
      "리자드이 되었습니다.\n",
      "{'레벨': 16, '이름': '피카츄', '진화시 이름': '라이츄'}\n",
      "라이츄이 되었습니다.\n",
      "{'레벨': 17, '이름': '리자드', '진화시 이름': '리자드'}\n",
      "{'레벨': 17, '이름': '라이츄', '진화시 이름': '라이츄'}\n",
      "{'레벨': 18, '이름': '리자드', '진화시 이름': '리자드'}\n",
      "{'레벨': 18, '이름': '라이츄', '진화시 이름': '라이츄'}\n",
      "{'레벨': 19, '이름': '리자드', '진화시 이름': '리자드'}\n",
      "{'레벨': 19, '이름': '라이츄', '진화시 이름': '라이츄'}\n",
      "{'레벨': 20, '이름': '리자드', '진화시 이름': '리자드'}\n",
      "{'레벨': 20, '이름': '라이츄', '진화시 이름': '라이츄'}\n",
      "{'레벨': 21, '이름': '리자드', '진화시 이름': '리자드'}\n",
      "{'레벨': 21, '이름': '라이츄', '진화시 이름': '라이츄'}\n"
     ]
    }
   ],
   "source": [
    "for i in range(20) :\n",
    "    levelup(pokemon) \n",
    "    levelup(pokemon1)"
   ]
  }
 ],
 "metadata": {
  "kernelspec": {
   "display_name": "Python 3",
   "language": "python",
   "name": "python3"
  },
  "language_info": {
   "codemirror_mode": {
    "name": "ipython",
    "version": 3
   },
   "file_extension": ".py",
   "mimetype": "text/x-python",
   "name": "python",
   "nbconvert_exporter": "python",
   "pygments_lexer": "ipython3",
   "version": "3.9.5"
  }
 },
 "nbformat": 4,
 "nbformat_minor": 5
}
