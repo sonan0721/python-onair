{
 "cells": [
  {
   "cell_type": "markdown",
   "id": "9a3ed0b0",
   "metadata": {},
   "source": [
    "### 함수 예시\n",
    "- print 하는 함수 만들기\n",
    "- 역할을 몰아서 만들어보기\n",
    "\n",
    "` def 이름() :`"
   ]
  },
  {
   "cell_type": "code",
   "execution_count": 1,
   "id": "7c146e3b",
   "metadata": {},
   "outputs": [],
   "source": [
    "def printRectangle():\n",
    "    print('####')\n",
    "    print('####')\n",
    "    print('####')\n",
    "    print('####')"
   ]
  },
  {
   "cell_type": "code",
   "execution_count": 4,
   "id": "b873c10f",
   "metadata": {},
   "outputs": [
    {
     "name": "stdout",
     "output_type": "stream",
     "text": [
      "####\n",
      "####\n",
      "####\n",
      "####\n"
     ]
    }
   ],
   "source": [
    "printRectangle()"
   ]
  },
  {
   "cell_type": "markdown",
   "id": "c6a6e2f7",
   "metadata": {},
   "source": [
    "이전에 했던, 포켓몬 데이터를 그때그때 명령을 치는게 아니라,\n",
    "레벨업을 쉽게 만들 수 있습니다.\n"
   ]
  },
  {
   "cell_type": "code",
   "execution_count": 5,
   "id": "7995bc59",
   "metadata": {},
   "outputs": [],
   "source": [
    "pokemon = {\"레벨\": 1, \"이름\":\"파이리\"}\n",
    "\n",
    "def levelup():\n",
    "    pokemon[\"레벨\"] = pokemon[\"레벨\"] +1\n",
    "    print(pokemon)\n",
    "    if pokemon[\"레벨\"] == 16 :\n",
    "        pokemon[\"이름\"] = \"리자드\"\n",
    "        print(\"파이리가 리자드로 진화했습니다.\")\n"
   ]
  },
  {
   "cell_type": "code",
   "execution_count": 6,
   "id": "b9d72a1f",
   "metadata": {},
   "outputs": [
    {
     "name": "stdout",
     "output_type": "stream",
     "text": [
      "{'레벨': 2, '이름': '파이리'}\n"
     ]
    }
   ],
   "source": [
    "levelup()"
   ]
  },
  {
   "cell_type": "code",
   "execution_count": 7,
   "id": "f2524a2f",
   "metadata": {},
   "outputs": [
    {
     "name": "stdout",
     "output_type": "stream",
     "text": [
      "{'레벨': 3, '이름': '파이리'}\n",
      "{'레벨': 4, '이름': '파이리'}\n",
      "{'레벨': 5, '이름': '파이리'}\n",
      "{'레벨': 6, '이름': '파이리'}\n",
      "{'레벨': 7, '이름': '파이리'}\n",
      "{'레벨': 8, '이름': '파이리'}\n",
      "{'레벨': 9, '이름': '파이리'}\n",
      "{'레벨': 10, '이름': '파이리'}\n",
      "{'레벨': 11, '이름': '파이리'}\n",
      "{'레벨': 12, '이름': '파이리'}\n",
      "{'레벨': 13, '이름': '파이리'}\n",
      "{'레벨': 14, '이름': '파이리'}\n",
      "{'레벨': 15, '이름': '파이리'}\n",
      "{'레벨': 16, '이름': '파이리'}\n",
      "파이리가 리자드로 진화했습니다.\n",
      "{'레벨': 17, '이름': '리자드'}\n",
      "{'레벨': 18, '이름': '리자드'}\n",
      "{'레벨': 19, '이름': '리자드'}\n",
      "{'레벨': 20, '이름': '리자드'}\n",
      "{'레벨': 21, '이름': '리자드'}\n",
      "{'레벨': 22, '이름': '리자드'}\n"
     ]
    }
   ],
   "source": [
    "for i in range(20):\n",
    "    levelup()"
   ]
  }
 ],
 "metadata": {
  "kernelspec": {
   "display_name": "Python 3",
   "language": "python",
   "name": "python3"
  },
  "language_info": {
   "codemirror_mode": {
    "name": "ipython",
    "version": 3
   },
   "file_extension": ".py",
   "mimetype": "text/x-python",
   "name": "python",
   "nbconvert_exporter": "python",
   "pygments_lexer": "ipython3",
   "version": "3.9.5"
  }
 },
 "nbformat": 4,
 "nbformat_minor": 5
}
