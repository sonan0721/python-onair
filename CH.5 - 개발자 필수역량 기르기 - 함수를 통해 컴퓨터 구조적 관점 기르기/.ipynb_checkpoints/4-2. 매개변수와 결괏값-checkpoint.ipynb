{
 "cells": [
  {
   "cell_type": "markdown",
   "id": "7ed1f281",
   "metadata": {},
   "source": [
    "### 매개변수와 리턴에 대해서 배우기\n",
    "- 매개변수\n",
    "- 리턴"
   ]
  },
  {
   "cell_type": "code",
   "execution_count": null,
   "id": "6c9d8881",
   "metadata": {},
   "outputs": [],
   "source": []
  },
  {
   "cell_type": "markdown",
   "id": "83bc13d3",
   "metadata": {},
   "source": [
    "### 함수 심화\n",
    "- 매개변수에 타입 지정\n",
    "- 미리 정의된 매개변수\n"
   ]
  },
  {
   "cell_type": "code",
   "execution_count": null,
   "id": "3bb79a17",
   "metadata": {},
   "outputs": [],
   "source": []
  },
  {
   "cell_type": "markdown",
   "id": "f42262a6",
   "metadata": {},
   "source": [
    "### 함수 스코프\n",
    "- 함수에서 선언된 변수가 밖에선 모른다.\n",
    "- 바뀌는게 적용되는지\n",
    "- global 사용\n"
   ]
  },
  {
   "cell_type": "code",
   "execution_count": null,
   "id": "773dcaac",
   "metadata": {},
   "outputs": [],
   "source": []
  }
 ],
 "metadata": {
  "kernelspec": {
   "display_name": "Python 3",
   "language": "python",
   "name": "python3"
  },
  "language_info": {
   "codemirror_mode": {
    "name": "ipython",
    "version": 3
   },
   "file_extension": ".py",
   "mimetype": "text/x-python",
   "name": "python",
   "nbconvert_exporter": "python",
   "pygments_lexer": "ipython3",
   "version": "3.9.4"
  }
 },
 "nbformat": 4,
 "nbformat_minor": 5
}
