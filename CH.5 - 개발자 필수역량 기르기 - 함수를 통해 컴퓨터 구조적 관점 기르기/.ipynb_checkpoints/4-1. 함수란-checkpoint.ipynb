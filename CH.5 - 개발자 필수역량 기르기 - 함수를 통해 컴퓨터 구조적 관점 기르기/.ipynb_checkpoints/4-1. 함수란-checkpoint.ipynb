{
 "cells": [
  {
   "cell_type": "markdown",
   "id": "9a3ed0b0",
   "metadata": {},
   "source": [
    "### 함수 예시\n",
    "- print 하는 함수 만들기\n",
    "- 역할을 몰아서 만들어보기\n",
    "\n",
    "` def 이름() :`"
   ]
  }
 ],
 "metadata": {
  "kernelspec": {
   "display_name": "Python 3",
   "language": "python",
   "name": "python3"
  },
  "language_info": {
   "codemirror_mode": {
    "name": "ipython",
    "version": 3
   },
   "file_extension": ".py",
   "mimetype": "text/x-python",
   "name": "python",
   "nbconvert_exporter": "python",
   "pygments_lexer": "ipython3",
   "version": "3.9.4"
  }
 },
 "nbformat": 4,
 "nbformat_minor": 5
}
