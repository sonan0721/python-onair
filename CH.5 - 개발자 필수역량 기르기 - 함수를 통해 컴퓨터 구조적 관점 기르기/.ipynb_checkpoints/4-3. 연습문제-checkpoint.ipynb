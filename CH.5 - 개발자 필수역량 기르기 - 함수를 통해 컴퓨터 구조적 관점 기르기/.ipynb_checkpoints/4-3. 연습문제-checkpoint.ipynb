{
 "cells": [
  {
   "attachments": {},
   "cell_type": "markdown",
   "id": "67077550",
   "metadata": {},
   "source": [
    "### 매개변수로 정수의 리스트를 갖고, 결괏값으로 해당 리스트의 평균값을 반환하는 함수를 짜보세요."
   ]
  },
  {
   "cell_type": "code",
   "execution_count": null,
   "id": "54a6f299",
   "metadata": {},
   "outputs": [],
   "source": []
  },
  {
   "attachments": {},
   "cell_type": "markdown",
   "id": "3c9eb7bb",
   "metadata": {},
   "source": [
    "### N을 매개변수로 하는, turtle로 N각형을 그리는 함수를 짜보세요"
   ]
  },
  {
   "cell_type": "code",
   "execution_count": null,
   "id": "426feb72",
   "metadata": {},
   "outputs": [],
   "source": []
  },
  {
   "attachments": {},
   "cell_type": "markdown",
   "id": "70e99479",
   "metadata": {},
   "source": [
    "### 정수를 매개변수로하고, 결괏값으로 bool값을 반환하는 소수(Prime) 판별 함수를 짜보세요."
   ]
  },
  {
   "cell_type": "code",
   "execution_count": null,
   "id": "6eb99f98",
   "metadata": {},
   "outputs": [],
   "source": []
  }
 ],
 "metadata": {
  "kernelspec": {
   "display_name": "Python 3",
   "language": "python",
   "name": "python3"
  },
  "language_info": {
   "codemirror_mode": {
    "name": "ipython",
    "version": 3
   },
   "file_extension": ".py",
   "mimetype": "text/x-python",
   "name": "python",
   "nbconvert_exporter": "python",
   "pygments_lexer": "ipython3",
   "version": "3.9.4"
  }
 },
 "nbformat": 4,
 "nbformat_minor": 5
}
