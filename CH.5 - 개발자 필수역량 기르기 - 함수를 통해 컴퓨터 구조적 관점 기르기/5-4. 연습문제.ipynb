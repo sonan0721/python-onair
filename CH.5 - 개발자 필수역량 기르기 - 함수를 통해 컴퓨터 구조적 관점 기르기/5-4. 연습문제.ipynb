{
 "cells": [
  {
   "cell_type": "markdown",
   "id": "67077550",
   "metadata": {},
   "source": [
    "### 매개변수로 정수의 리스트를 갖고, 결괏값으로 해당 리스트의 평균값을 반환하는 함수를 짜보세요."
   ]
  },
  {
   "cell_type": "code",
   "execution_count": 1,
   "id": "54a6f299",
   "metadata": {},
   "outputs": [
    {
     "name": "stdout",
     "output_type": "stream",
     "text": [
      "34\n",
      "5\n",
      "6.8\n"
     ]
    }
   ],
   "source": [
    "nums = [1,3,5,10, 15]\n",
    "print(sum(nums))\n",
    "print(len(nums))\n",
    "print(34/5)"
   ]
  },
  {
   "cell_type": "code",
   "execution_count": 2,
   "id": "a0c63da8",
   "metadata": {},
   "outputs": [],
   "source": [
    "def average(nums) :\n",
    "    avg = sum(nums)/len(nums)\n",
    "    return avg\n"
   ]
  },
  {
   "cell_type": "code",
   "execution_count": 3,
   "id": "61b25855",
   "metadata": {},
   "outputs": [
    {
     "data": {
      "text/plain": [
       "6.8"
      ]
     },
     "execution_count": 3,
     "metadata": {},
     "output_type": "execute_result"
    }
   ],
   "source": [
    "average(nums)"
   ]
  },
  {
   "cell_type": "markdown",
   "id": "3c9eb7bb",
   "metadata": {},
   "source": [
    "### N을 매개변수로 하는, turtle로 N각형을 그리는 함수를 짜보세요"
   ]
  },
  {
   "cell_type": "code",
   "execution_count": 4,
   "id": "426feb72",
   "metadata": {},
   "outputs": [],
   "source": [
    "import turtle\n",
    "\n",
    "def drawN(n):\n",
    "    for i in range(n):  #n각형이면 range(n)\n",
    "        turtle.forward(50)\n",
    "        turtle.right(360/n) # n각형이면 360/n\n"
   ]
  },
  {
   "cell_type": "code",
   "execution_count": 5,
   "id": "0830411d",
   "metadata": {},
   "outputs": [],
   "source": [
    "drawN(5)"
   ]
  },
  {
   "cell_type": "markdown",
   "id": "70e99479",
   "metadata": {},
   "source": [
    "### 정수를 매개변수로하고, 결괏값으로 bool값을 반환하는 소수(Prime) 판별 함수를 짜보세요."
   ]
  },
  {
   "cell_type": "code",
   "execution_count": 3,
   "id": "6eb99f98",
   "metadata": {},
   "outputs": [],
   "source": [
    "def isPrime(num):\n",
    "    existsDivider = False\n",
    "    for i in range(2, num):\n",
    "        if num%i == 0 :\n",
    "            existsDivider = True\n",
    "    # divider가 존재하면, prime이 아니다.\n",
    "    # 즉 prime은 divder가 존재하지 않아야한다.\n",
    "    return existsDivider == False"
   ]
  },
  {
   "cell_type": "code",
   "execution_count": 4,
   "id": "23195d7f",
   "metadata": {},
   "outputs": [
    {
     "data": {
      "text/plain": [
       "True"
      ]
     },
     "execution_count": 4,
     "metadata": {},
     "output_type": "execute_result"
    }
   ],
   "source": [
    "isPrime(2347)"
   ]
  },
  {
   "cell_type": "code",
   "execution_count": 6,
   "id": "4f619fa0",
   "metadata": {},
   "outputs": [
    {
     "data": {
      "text/plain": [
       "False"
      ]
     },
     "execution_count": 6,
     "metadata": {},
     "output_type": "execute_result"
    }
   ],
   "source": [
    "isPrime(462)"
   ]
  }
 ],
 "metadata": {
  "kernelspec": {
   "display_name": "Python 3",
   "language": "python",
   "name": "python3"
  },
  "language_info": {
   "codemirror_mode": {
    "name": "ipython",
    "version": 3
   },
   "file_extension": ".py",
   "mimetype": "text/x-python",
   "name": "python",
   "nbconvert_exporter": "python",
   "pygments_lexer": "ipython3",
   "version": "3.9.5"
  }
 },
 "nbformat": 4,
 "nbformat_minor": 5
}
