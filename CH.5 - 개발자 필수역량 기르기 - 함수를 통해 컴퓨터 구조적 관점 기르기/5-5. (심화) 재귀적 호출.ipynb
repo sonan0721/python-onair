{
 "cells": [
  {
   "cell_type": "markdown",
   "id": "69aed0cc",
   "metadata": {},
   "source": [
    "## 실습 주제\n",
    "\n",
    "피보나치, 팩토리얼, 프랙탈 하나"
   ]
  },
  {
   "cell_type": "markdown",
   "id": "4088de35",
   "metadata": {},
   "source": [
    "### 피보나치 함수 만들기\n",
    "`fib(n)`"
   ]
  },
  {
   "cell_type": "code",
   "execution_count": null,
   "id": "5f2e268c",
   "metadata": {},
   "outputs": [],
   "source": []
  },
  {
   "cell_type": "markdown",
   "id": "218e9e61",
   "metadata": {},
   "source": [
    "### 팩토리얼 함수 만들기\n",
    "`factorial(n)`"
   ]
  },
  {
   "cell_type": "code",
   "execution_count": null,
   "id": "f5208ce7",
   "metadata": {},
   "outputs": [],
   "source": []
  },
  {
   "cell_type": "markdown",
   "id": "c7ecf361",
   "metadata": {},
   "source": [
    "### 프랙탈 하나 만들기\n",
    "drawSomething(n)"
   ]
  },
  {
   "cell_type": "code",
   "execution_count": null,
   "id": "cad11da2",
   "metadata": {},
   "outputs": [],
   "source": []
  }
 ],
 "metadata": {
  "kernelspec": {
   "display_name": "Python 3",
   "language": "python",
   "name": "python3"
  },
  "language_info": {
   "codemirror_mode": {
    "name": "ipython",
    "version": 3
   },
   "file_extension": ".py",
   "mimetype": "text/x-python",
   "name": "python",
   "nbconvert_exporter": "python",
   "pygments_lexer": "ipython3",
   "version": "3.9.4"
  }
 },
 "nbformat": 4,
 "nbformat_minor": 5
}
