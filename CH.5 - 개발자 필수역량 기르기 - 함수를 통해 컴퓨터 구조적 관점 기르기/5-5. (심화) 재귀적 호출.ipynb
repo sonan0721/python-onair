{
 "cells": [
  {
   "cell_type": "markdown",
   "id": "69aed0cc",
   "metadata": {},
   "source": [
    "## 재귀적 호출은 개발자들도 어려운 개념중 하나!\n",
    "\n",
    "함수안에서 자기 자신을 재귀적으로 부르므로, 2가지가 반드시 필요합니다.\n",
    "\n",
    "- 함수 호출 종료 조건\n",
    "- 자기 자신을 호출 하는 부분\n",
    "\n",
    "### 실습\n",
    "합을 구하기, 피보나치"
   ]
  },
  {
   "cell_type": "markdown",
   "id": "4088de35",
   "metadata": {},
   "source": [
    "### 합을 구하기"
   ]
  },
  {
   "cell_type": "code",
   "execution_count": 12,
   "id": "5f2e268c",
   "metadata": {},
   "outputs": [],
   "source": [
    "def total(num):\n",
    "    print(num)\n",
    "    if num <= 0 :\n",
    "        return 0\n",
    "    if num == 1 :\n",
    "        return 1\n",
    "    return total(num-1) + num"
   ]
  },
  {
   "cell_type": "code",
   "execution_count": 13,
   "id": "b3571bbd",
   "metadata": {},
   "outputs": [
    {
     "name": "stdout",
     "output_type": "stream",
     "text": [
      "10\n",
      "9\n",
      "8\n",
      "7\n",
      "6\n",
      "5\n",
      "4\n",
      "3\n",
      "2\n",
      "1\n"
     ]
    },
    {
     "data": {
      "text/plain": [
       "55"
      ]
     },
     "execution_count": 13,
     "metadata": {},
     "output_type": "execute_result"
    }
   ],
   "source": [
    "total(10)"
   ]
  },
  {
   "cell_type": "markdown",
   "id": "6ee8d0a3",
   "metadata": {},
   "source": [
    "단순하게, 재귀적 호출을 줄이거나 할 수도 잇다.\n"
   ]
  },
  {
   "cell_type": "code",
   "execution_count": 10,
   "id": "b23ec0bd",
   "metadata": {},
   "outputs": [],
   "source": [
    "def total(num):\n",
    "    print(num)\n",
    "    if num <= 0 :\n",
    "        return 0\n",
    "    if num == 1 :\n",
    "        return 1\n",
    "    # num-1 대신에 num-3을 넣고, num-2,num-1을 미리 더해준다. \n",
    "    # 이러면 호출을 좀더 단순화할 수 있다. \n",
    "    return total(num-3) + num-2 + num-1 + num\n"
   ]
  },
  {
   "cell_type": "code",
   "execution_count": 11,
   "id": "c9c43413",
   "metadata": {},
   "outputs": [
    {
     "name": "stdout",
     "output_type": "stream",
     "text": [
      "10\n",
      "7\n",
      "4\n",
      "1\n"
     ]
    },
    {
     "data": {
      "text/plain": [
       "55"
      ]
     },
     "execution_count": 11,
     "metadata": {},
     "output_type": "execute_result"
    }
   ],
   "source": [
    "total(10)"
   ]
  },
  {
   "cell_type": "markdown",
   "id": "c7ecf361",
   "metadata": {},
   "source": [
    "### 피보나치 수열 구하기\n",
    "\n",
    "`0, 1, 1, 2, 3, 5, 8, 13, 21, 34, 55, 89, 144, ...`"
   ]
  },
  {
   "cell_type": "code",
   "execution_count": 18,
   "id": "cad11da2",
   "metadata": {},
   "outputs": [],
   "source": [
    "def fib(num):\n",
    "    if num <= 0:\n",
    "        return 0\n",
    "    elif num <= 2:\n",
    "        return 1\n",
    "    return fib(num-1) + fib(num-2)"
   ]
  },
  {
   "cell_type": "code",
   "execution_count": 21,
   "id": "5af06bc2",
   "metadata": {},
   "outputs": [
    {
     "name": "stdout",
     "output_type": "stream",
     "text": [
      "0\n",
      "1\n",
      "1\n",
      "2\n",
      "3\n",
      "5\n",
      "8\n",
      "13\n",
      "21\n",
      "34\n",
      "55\n",
      "89\n",
      "144\n"
     ]
    }
   ],
   "source": [
    "for num in range(13):\n",
    "    print(fib(num))"
   ]
  }
 ],
 "metadata": {
  "kernelspec": {
   "display_name": "Python 3",
   "language": "python",
   "name": "python3"
  },
  "language_info": {
   "codemirror_mode": {
    "name": "ipython",
    "version": 3
   },
   "file_extension": ".py",
   "mimetype": "text/x-python",
   "name": "python",
   "nbconvert_exporter": "python",
   "pygments_lexer": "ipython3",
   "version": "3.9.5"
  }
 },
 "nbformat": 4,
 "nbformat_minor": 5
}
