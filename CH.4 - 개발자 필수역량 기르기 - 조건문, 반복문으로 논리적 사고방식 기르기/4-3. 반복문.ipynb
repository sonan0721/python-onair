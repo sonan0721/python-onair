{
 "cells": [
  {
   "cell_type": "markdown",
   "id": "6f03c30f",
   "metadata": {},
   "source": [
    "## while 문\n",
    "- `while 조건` : 조건이 만족하는 동안 계속 반복한다.\n",
    "- `break` : 무조건, while문에서 벗어난다. (강제 반복 종료)\n",
    "- `continue` : 뒤에 남은 구문을 실행하지 않고, 조건을 다시 체크한다."
   ]
  },
  {
   "cell_type": "code",
   "execution_count": 1,
   "id": "c45a4cc8",
   "metadata": {},
   "outputs": [
    {
     "name": "stdout",
     "output_type": "stream",
     "text": [
      "레벨업!2\n",
      "레벨업!3\n",
      "레벨업!4\n",
      "레벨업!5\n",
      "레벨업!6\n",
      "레벨업!7\n",
      "레벨업!8\n",
      "레벨업!9\n",
      "레벨업!10\n",
      "레벨업!11\n",
      "레벨업!12\n",
      "레벨업!13\n",
      "레벨업!14\n",
      "레벨업!15\n",
      "레벨업!16\n",
      "레벨업!17\n",
      "레벨업!18\n",
      "레벨업!19\n",
      "레벨업!20\n"
     ]
    }
   ],
   "source": [
    "pokemon = {\"레벨\":1, \"이름\":\"파이리\"}\n",
    "while pokemon[\"레벨\"] < 20 :\n",
    "    pokemon[\"레벨\"] = pokemon[\"레벨\"] + 1\n",
    "    print(\"레벨업!\" + str(pokemon[\"레벨\"]))"
   ]
  },
  {
   "cell_type": "code",
   "execution_count": 2,
   "id": "787c7124",
   "metadata": {},
   "outputs": [
    {
     "name": "stdout",
     "output_type": "stream",
     "text": [
      "{'레벨': 20, '이름': '파이리'}\n"
     ]
    }
   ],
   "source": [
    "print(pokemon)"
   ]
  },
  {
   "cell_type": "markdown",
   "id": "89af45f6",
   "metadata": {},
   "source": [
    "### for 문\n",
    "while문은 조건이 만족하는 동안 반복하는 것이였다면, for문은 특정 자료구조의 모든 요소를 하나씩 돈다는 특징이 있다.\n",
    "\n",
    "- range로 for문 만들기\n",
    "- list로 for문 만들기\n",
    "\n",
    "그외에도, 배웠던 dict, tuple, set등도 모두 for문으로 만들 수 있다."
   ]
  },
  {
   "cell_type": "code",
   "execution_count": 9,
   "id": "93e67b6e",
   "metadata": {},
   "outputs": [
    {
     "data": {
      "text/plain": [
       "range(0, 3)"
      ]
     },
     "execution_count": 9,
     "metadata": {},
     "output_type": "execute_result"
    }
   ],
   "source": [
    "# range 문법 이용하기\n",
    "# range는 주어진 숫자만큼의 리스트를 자동으로 만들어준다.\n",
    "range(3) # [0,1,2]\n"
   ]
  },
  {
   "cell_type": "code",
   "execution_count": 11,
   "id": "93bdae7a",
   "metadata": {},
   "outputs": [
    {
     "name": "stdout",
     "output_type": "stream",
     "text": [
      "0 - 퍼블리\n",
      "1 - 커리어리\n",
      "2 - 스킬업\n"
     ]
    }
   ],
   "source": [
    "l = [\"퍼블리\", \"커리어리\", \"스킬업\"]\n",
    "for i in range(3):\n",
    "    print(str(i) + \" - \"+l[i])\n"
   ]
  },
  {
   "cell_type": "code",
   "execution_count": 12,
   "id": "387a4cc3",
   "metadata": {},
   "outputs": [
    {
     "name": "stdout",
     "output_type": "stream",
     "text": [
      "퍼블리\n",
      "커리어리\n",
      "스킬업\n"
     ]
    }
   ],
   "source": [
    "# list를 바로 이용하기\n",
    "l = [\"퍼블리\", \"커리어리\", \"스킬업\"]\n",
    "for n in l:\n",
    "    print(n)\n"
   ]
  },
  {
   "cell_type": "markdown",
   "id": "7d8e66a7",
   "metadata": {},
   "source": [
    "### list compensation\n",
    "리스트안에 반복문을 이용해, 새로운 리스트를 만들 수 있다. \n",
    "*파이썬에만 있는 기능*\n",
    "\n",
    "- 리스트 내포\n",
    "[x for x in ~]"
   ]
  },
  {
   "cell_type": "code",
   "execution_count": 13,
   "id": "0484331d",
   "metadata": {},
   "outputs": [],
   "source": [
    "l = [ num for num in range(10)]"
   ]
  },
  {
   "cell_type": "code",
   "execution_count": 14,
   "id": "311b84c1",
   "metadata": {},
   "outputs": [
    {
     "name": "stdout",
     "output_type": "stream",
     "text": [
      "[0, 1, 2, 3, 4, 5, 6, 7, 8, 9]\n"
     ]
    }
   ],
   "source": [
    "print(l)"
   ]
  }
 ],
 "metadata": {
  "kernelspec": {
   "display_name": "Python 3",
   "language": "python",
   "name": "python3"
  },
  "language_info": {
   "codemirror_mode": {
    "name": "ipython",
    "version": 3
   },
   "file_extension": ".py",
   "mimetype": "text/x-python",
   "name": "python",
   "nbconvert_exporter": "python",
   "pygments_lexer": "ipython3",
   "version": "3.9.5"
  }
 },
 "nbformat": 4,
 "nbformat_minor": 5
}
