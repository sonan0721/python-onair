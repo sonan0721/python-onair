{
 "cells": [
  {
   "cell_type": "markdown",
   "id": "7a0376b8",
   "metadata": {},
   "source": [
    "## 조건문 사용방법\n",
    "`if 조건문` : 조건을 걸 수 있다. \n",
    "- 만약에 포켓몬 레벨이 16 이상이면 진화한다.\n",
    "\n",
    "`elif 조건문` : 특정 케이스를 다시 한번 더 조건을 걸 수 있다.\n",
    "- 만약에 16 이상이면 리자드 진화하고, 30 이상이면 리자몽이된다.\n",
    "\n",
    "`else` : 그외에 모든 케이스\n",
    "- 만약에 16 이상이면 리자드, 30이상이면 리자몽 아니면 그냥 파이리로 있는다.\n"
   ]
  },
  {
   "cell_type": "code",
   "execution_count": 3,
   "id": "19832720",
   "metadata": {},
   "outputs": [],
   "source": [
    "pokemon = {\"레벨\" : 1, \"이름\":\"파이리\"}\n",
    "if pokemon[\"레벨\"] > 16 :\n",
    "    print(\"진화\")"
   ]
  },
  {
   "cell_type": "code",
   "execution_count": 4,
   "id": "c4da57c0",
   "metadata": {},
   "outputs": [
    {
     "name": "stdout",
     "output_type": "stream",
     "text": [
      "진화\n"
     ]
    }
   ],
   "source": [
    "pokemon = {\"레벨\" : 20, \"이름\":\"파이리\"}\n",
    "if pokemon[\"레벨\"] > 16 :\n",
    "    print(\"진화\")"
   ]
  },
  {
   "cell_type": "markdown",
   "id": "80c9b356",
   "metadata": {},
   "source": [
    "### 실제로 진화 시켜보기"
   ]
  },
  {
   "cell_type": "code",
   "execution_count": 6,
   "id": "c112702d",
   "metadata": {},
   "outputs": [
    {
     "name": "stdout",
     "output_type": "stream",
     "text": [
      "만족하는 조건이 없음\n"
     ]
    }
   ],
   "source": [
    "pokemon = {\"레벨\" : 1, \"이름\":\"파이리\"}\n",
    "\n",
    "if pokemon[\"레벨\"] > 30 :\n",
    "    pokemon[\"이름\"] = \"리자몽\"\n",
    "    print(\"리자몽 됨\")\n",
    "elif pokemon[\"레벨\"] > 16 :\n",
    "    pokemon[\"이름\"] = \"리자드\"\n",
    "    print(\"리자드 됨\")\n",
    "elif pokemon[\"레벨\"] > 5 :\n",
    "    print(\"새로운 기술을 배움\")\n",
    "else :\n",
    "    print(\"만족하는 조건이 없음\")"
   ]
  },
  {
   "cell_type": "code",
   "execution_count": 9,
   "id": "0798e832",
   "metadata": {},
   "outputs": [
    {
     "name": "stdout",
     "output_type": "stream",
     "text": [
      "새로운 기술을 배움\n"
     ]
    }
   ],
   "source": [
    "pokemon = {\"레벨\" : 8, \"이름\":\"파이리\"}\n",
    "\n",
    "if pokemon[\"레벨\"] > 30 :\n",
    "    pokemon[\"이름\"] = \"리자몽\"\n",
    "    print(\"리자몽 됨\")\n",
    "elif pokemon[\"레벨\"] > 16 :\n",
    "    pokemon[\"이름\"] = \"리자드\"\n",
    "    print(\"리자드 됨\")\n",
    "elif pokemon[\"레벨\"] > 5 :\n",
    "    print(\"새로운 기술을 배움\")\n",
    "else :\n",
    "    print(\"만족하는 조건이 없음\")"
   ]
  },
  {
   "cell_type": "code",
   "execution_count": 16,
   "id": "cd6bca7e",
   "metadata": {},
   "outputs": [
    {
     "name": "stdout",
     "output_type": "stream",
     "text": [
      "리자드 됨\n"
     ]
    }
   ],
   "source": [
    "pokemon = {\"레벨\" : 20, \"이름\":\"파이리\"}\n",
    "\n",
    "if pokemon[\"레벨\"] > 30 :\n",
    "    pokemon[\"이름\"] = \"리자몽\"\n",
    "    print(\"리자몽 됨\")\n",
    "elif pokemon[\"레벨\"] > 16 :\n",
    "    pokemon[\"이름\"] = \"리자드\"\n",
    "    print(\"리자드 됨\")\n",
    "elif pokemon[\"레벨\"] > 5 :\n",
    "    print(\"새로운 기술을 배움\")\n",
    "else :\n",
    "    print(\"만족하는 조건이 없음\")"
   ]
  },
  {
   "cell_type": "code",
   "execution_count": 17,
   "id": "3c8c733a",
   "metadata": {},
   "outputs": [
    {
     "data": {
      "text/plain": [
       "'리자드'"
      ]
     },
     "execution_count": 17,
     "metadata": {},
     "output_type": "execute_result"
    }
   ],
   "source": [
    "pokemon[\"이름\"]"
   ]
  },
  {
   "cell_type": "code",
   "execution_count": 14,
   "id": "5c079c9e",
   "metadata": {},
   "outputs": [
    {
     "name": "stdout",
     "output_type": "stream",
     "text": [
      "리자몽 됨\n"
     ]
    }
   ],
   "source": [
    "pokemon = {\"레벨\" : 35, \"이름\":\"파이리\"}\n",
    "\n",
    "if pokemon[\"레벨\"] > 30 :\n",
    "    pokemon[\"이름\"] = \"리자몽\"\n",
    "    print(\"리자몽 됨\")\n",
    "elif pokemon[\"레벨\"] > 16 :\n",
    "    pokemon[\"이름\"] = \"리자드\"\n",
    "    print(\"리자드 됨\")\n",
    "elif pokemon[\"레벨\"] > 5 :\n",
    "    print(\"새로운 기술을 배움\")\n",
    "else :\n",
    "    print(\"만족하는 조건이 없음\")"
   ]
  },
  {
   "cell_type": "code",
   "execution_count": 19,
   "id": "2bcf003f",
   "metadata": {},
   "outputs": [
    {
     "data": {
      "text/plain": [
       "'리자드'"
      ]
     },
     "execution_count": 19,
     "metadata": {},
     "output_type": "execute_result"
    }
   ],
   "source": [
    "pokemon[\"이름\"]"
   ]
  },
  {
   "cell_type": "markdown",
   "id": "61ecd172",
   "metadata": {},
   "source": [
    "### 다음과 같이 좀더 복잡한 조건도 걸 수 있다."
   ]
  },
  {
   "cell_type": "code",
   "execution_count": 23,
   "id": "9d7c7de6",
   "metadata": {},
   "outputs": [
    {
     "name": "stdout",
     "output_type": "stream",
     "text": [
      "진화\n"
     ]
    }
   ],
   "source": [
    "pokemon = {\"레벨\" : 16, \"이름\":\"파이리\"}\n",
    "if pokemon[\"레벨\"] == 16  and pokemon[\"이름\"] == \"파이리\" : \n",
    "    print(\"진화\")\n",
    "    pokemon[\"이름\"] = \"리자드\""
   ]
  },
  {
   "cell_type": "code",
   "execution_count": 24,
   "id": "78661d91",
   "metadata": {},
   "outputs": [
    {
     "name": "stdout",
     "output_type": "stream",
     "text": [
      "리자드\n"
     ]
    }
   ],
   "source": [
    "print(pokemon[\"이름\"])"
   ]
  }
 ],
 "metadata": {
  "kernelspec": {
   "display_name": "Python 3",
   "language": "python",
   "name": "python3"
  },
  "language_info": {
   "codemirror_mode": {
    "name": "ipython",
    "version": 3
   },
   "file_extension": ".py",
   "mimetype": "text/x-python",
   "name": "python",
   "nbconvert_exporter": "python",
   "pygments_lexer": "ipython3",
   "version": "3.9.5"
  }
 },
 "nbformat": 4,
 "nbformat_minor": 5
}
