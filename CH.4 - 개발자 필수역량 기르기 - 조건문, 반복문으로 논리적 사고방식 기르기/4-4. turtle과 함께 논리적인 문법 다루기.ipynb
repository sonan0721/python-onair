{
 "cells": [
  {
   "cell_type": "markdown",
   "id": "fff0276b",
   "metadata": {},
   "source": [
    "### turtle\n",
    "`import turtle`\n",
    "\n",
    "### 유용한 함수\n",
    "- forward, backward\n",
    "- right(회전)\n",
    "- left(회전)\n",
    "- circle(반지름)\n",
    "- pensize\n",
    "- color\n",
    "- speed(1~10)\n",
    "- goto(x,y)"
   ]
  },
  {
   "cell_type": "code",
   "execution_count": null,
   "id": "fbc50ac7",
   "metadata": {},
   "outputs": [],
   "source": []
  },
  {
   "cell_type": "markdown",
   "id": "59e1036c",
   "metadata": {},
   "source": [
    "### turtle로 반복하거나 조건으로 움직이는거 직접 보기"
   ]
  },
  {
   "cell_type": "code",
   "execution_count": null,
   "id": "c90dbf3d",
   "metadata": {},
   "outputs": [],
   "source": []
  },
  {
   "cell_type": "markdown",
   "id": "3b0f50a0",
   "metadata": {},
   "source": [
    "### turtle로 그림 그리기\n",
    "- 삼각형, 사각형 \n",
    "- 다각형\n"
   ]
  },
  {
   "cell_type": "code",
   "execution_count": null,
   "id": "1ee4b5ca",
   "metadata": {},
   "outputs": [],
   "source": []
  },
  {
   "cell_type": "markdown",
   "id": "89021622",
   "metadata": {},
   "source": [
    "### turtle로 그림 심화\n",
    "- 계단 만들기\n",
    "- 별그리기"
   ]
  },
  {
   "cell_type": "code",
   "execution_count": null,
   "id": "dc3096a3",
   "metadata": {},
   "outputs": [],
   "source": []
  }
 ],
 "metadata": {
  "kernelspec": {
   "display_name": "Python 3",
   "language": "python",
   "name": "python3"
  },
  "language_info": {
   "codemirror_mode": {
    "name": "ipython",
    "version": 3
   },
   "file_extension": ".py",
   "mimetype": "text/x-python",
   "name": "python",
   "nbconvert_exporter": "python",
   "pygments_lexer": "ipython3",
   "version": "3.9.4"
  }
 },
 "nbformat": 4,
 "nbformat_minor": 5
}
