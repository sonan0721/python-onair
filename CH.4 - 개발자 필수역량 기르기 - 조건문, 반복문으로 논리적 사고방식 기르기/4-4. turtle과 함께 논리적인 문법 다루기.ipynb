{
 "cells": [
  {
   "cell_type": "markdown",
   "id": "fff0276b",
   "metadata": {},
   "source": [
    "### turtle\n",
    "`import turtle`\n",
    "\n",
    "### 유용한 함수\n",
    "- `forward(칸수)`, backward(칸수) : turtle을 앞/뒤로 움직입니다.\n",
    "- `right(회전각)` : turtle을 오른쪽 방향으로 회전합니다.\n",
    "- `left(회전각)` : turtle을 왼쪽 방향으로 회전합니다.\n",
    "- `circle(반지름)` : turtle이 반지름짜리 원을 그리게 합니다.\n",
    "\n",
    "### 터틀을 turtle 모양으로 만들기\n",
    "`turtle.shape('turtle')`\n"
   ]
  },
  {
   "cell_type": "markdown",
   "id": "3b0f50a0",
   "metadata": {},
   "source": [
    "### turtle로 그림을 그려보세요.\n",
    "- 삼각형, 사각형 \n",
    "- 다각형\n",
    "- 계단 만들기\n",
    "- 별그리기"
   ]
  }
 ],
 "metadata": {
  "kernelspec": {
   "display_name": "Python 3",
   "language": "python",
   "name": "python3"
  },
  "language_info": {
   "codemirror_mode": {
    "name": "ipython",
    "version": 3
   },
   "file_extension": ".py",
   "mimetype": "text/x-python",
   "name": "python",
   "nbconvert_exporter": "python",
   "pygments_lexer": "ipython3",
   "version": "3.9.5"
  }
 },
 "nbformat": 4,
 "nbformat_minor": 5
}
