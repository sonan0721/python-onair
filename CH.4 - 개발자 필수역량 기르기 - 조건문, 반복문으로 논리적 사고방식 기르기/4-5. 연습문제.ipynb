{
 "cells": [
  {
   "cell_type": "markdown",
   "id": "741f153f",
   "metadata": {},
   "source": [
    "### 173이 짝수면, “짝수입니다.” 홀수면, “홀수입니다.” 라고 출력해보세요.\n"
   ]
  },
  {
   "cell_type": "code",
   "execution_count": 1,
   "id": "66381763",
   "metadata": {},
   "outputs": [
    {
     "name": "stdout",
     "output_type": "stream",
     "text": [
      "홀수 입니다.\n"
     ]
    }
   ],
   "source": [
    "num = 173\n",
    "if num % 2 == 1 :\n",
    "    print(\"홀수 입니다.\")\n",
    "else :\n",
    "    print(\"짝수 입니다.\")"
   ]
  },
  {
   "cell_type": "code",
   "execution_count": 2,
   "id": "070b5bd1",
   "metadata": {},
   "outputs": [
    {
     "name": "stdout",
     "output_type": "stream",
     "text": [
      "숫자를 입력하세요 : 248\n",
      "짝수 입니다.\n"
     ]
    }
   ],
   "source": [
    "# 일반화 하기\n",
    "num = int(input(\"숫자를 입력하세요 : \"))\n",
    "if num % 2 == 1 :\n",
    "    print(\"홀수 입니다.\")\n",
    "else :\n",
    "    print(\"짝수 입니다.\")"
   ]
  },
  {
   "cell_type": "markdown",
   "id": "f7f800a7",
   "metadata": {},
   "source": [
    "### l이 가진 모든 값을 곱해보세요. \n",
    "`l = [3, 10, 22, 38, 100]`"
   ]
  },
  {
   "cell_type": "code",
   "execution_count": 5,
   "id": "53421183",
   "metadata": {},
   "outputs": [
    {
     "name": "stdout",
     "output_type": "stream",
     "text": [
      "2508000\n"
     ]
    }
   ],
   "source": [
    "# 반복문을 이용해서 계속 곱합니다.\n",
    "l = [3, 10, 22, 38, 100]\n",
    "answer = 1\n",
    "for n in l :\n",
    "    answer = answer*n\n",
    "print(answer)"
   ]
  },
  {
   "cell_type": "markdown",
   "id": "1bec7edb",
   "metadata": {},
   "source": [
    "### 1~100까지 더하는 반복문을 만들어보세요."
   ]
  },
  {
   "cell_type": "code",
   "execution_count": 6,
   "id": "50e6fa1a",
   "metadata": {},
   "outputs": [
    {
     "name": "stdout",
     "output_type": "stream",
     "text": [
      "5050\n"
     ]
    }
   ],
   "source": [
    "# for문을 이용\n",
    "s = 0\n",
    "for i in range(1, 101) :\n",
    "    s = s + i\n",
    "\n",
    "print(s)"
   ]
  },
  {
   "cell_type": "code",
   "execution_count": 7,
   "id": "e6249885",
   "metadata": {},
   "outputs": [
    {
     "name": "stdout",
     "output_type": "stream",
     "text": [
      "5050\n"
     ]
    }
   ],
   "source": [
    "# while 문을 이용\n",
    "s = 0\n",
    "i = 0\n",
    "while i < 101 : \n",
    "    s = s + i\n",
    "    i = i +1\n",
    "\n",
    "print(s)"
   ]
  },
  {
   "cell_type": "code",
   "execution_count": 8,
   "id": "28c017d5",
   "metadata": {},
   "outputs": [
    {
     "data": {
      "text/plain": [
       "5050"
      ]
     },
     "execution_count": 8,
     "metadata": {},
     "output_type": "execute_result"
    }
   ],
   "source": [
    "# list와 sum 함수를 이용\n",
    "sum(range(1,101))"
   ]
  },
  {
   "cell_type": "markdown",
   "id": "29bd445f",
   "metadata": {},
   "source": [
    "### 2347이 소수(Prime)인지 아닌지 판별해보세요."
   ]
  },
  {
   "cell_type": "code",
   "execution_count": 9,
   "id": "414d5a95",
   "metadata": {},
   "outputs": [],
   "source": [
    "# 소수의 정의가 1과 자기자신으로만 나눠지는 수이므로, %연산을 이용\n",
    "num = 2347\n",
    "for i in range(2, num):\n",
    "    if num%i == 0 :\n",
    "        print(\"이건 소수 아님 - \" + str(i))\n"
   ]
  },
  {
   "cell_type": "code",
   "execution_count": 10,
   "id": "f80065c7",
   "metadata": {},
   "outputs": [
    {
     "name": "stdout",
     "output_type": "stream",
     "text": [
      "이건 소수 아님 - 2\n",
      "이건 소수 아님 - 4\n",
      "이건 소수 아님 - 587\n",
      "이건 소수 아님 - 1174\n"
     ]
    }
   ],
   "source": [
    "# 잘 동작하는지 보기위해 2348을 대입\n",
    "num = 2348\n",
    "for i in range(2, num):\n",
    "    if num%i == 0 :\n",
    "        print(\"이건 소수 아님 - \" + str(i))"
   ]
  },
  {
   "cell_type": "markdown",
   "id": "7525d365",
   "metadata": {},
   "source": [
    "### al = [“A”, “C”, “b”, “D”, “d”, “e”, “F”]  소문자만 출력"
   ]
  },
  {
   "cell_type": "code",
   "execution_count": 11,
   "id": "e142510a",
   "metadata": {},
   "outputs": [
    {
     "name": "stdout",
     "output_type": "stream",
     "text": [
      "A\n",
      "C\n",
      "D\n",
      "F\n"
     ]
    }
   ],
   "source": [
    "# is upper를 이용\n",
    "al = [\"A\", \"C\", \"b\", \"D\", \"d\",\"e\",\"F\"]\n",
    "for a in al:\n",
    "    if a.isupper():\n",
    "        print(a)"
   ]
  },
  {
   "cell_type": "markdown",
   "id": "65c999f3",
   "metadata": {},
   "source": [
    "### 터틀을 이용해 16각형을 그려보세요"
   ]
  },
  {
   "cell_type": "code",
   "execution_count": 12,
   "id": "17260ec7",
   "metadata": {},
   "outputs": [],
   "source": [
    "import turtle\n",
    "for i in range(16):  #n각형이면 range(n)\n",
    "    turtle.forward(50)\n",
    "    turtle.right(360/16) # n각형이면 360/n"
   ]
  },
  {
   "cell_type": "markdown",
   "id": "31bded00",
   "metadata": {},
   "source": [
    "## a~b까지의 모든 숫자를 더하게 만들어보세요.\n",
    "a = 3\n",
    "b = 80"
   ]
  },
  {
   "cell_type": "code",
   "execution_count": 17,
   "id": "e59243a6",
   "metadata": {},
   "outputs": [
    {
     "data": {
      "text/plain": [
       "3237"
      ]
     },
     "execution_count": 17,
     "metadata": {},
     "output_type": "execute_result"
    }
   ],
   "source": [
    "# range는 range(~이상, ~미만) 이므로, \n",
    "# 80을 포함하려면 81로 해야 제대로 된 값을 구할 수 있습니다.\n",
    "sum(range(3,81))\n"
   ]
  }
 ],
 "metadata": {
  "kernelspec": {
   "display_name": "Python 3",
   "language": "python",
   "name": "python3"
  },
  "language_info": {
   "codemirror_mode": {
    "name": "ipython",
    "version": 3
   },
   "file_extension": ".py",
   "mimetype": "text/x-python",
   "name": "python",
   "nbconvert_exporter": "python",
   "pygments_lexer": "ipython3",
   "version": "3.9.5"
  }
 },
 "nbformat": 4,
 "nbformat_minor": 5
}
