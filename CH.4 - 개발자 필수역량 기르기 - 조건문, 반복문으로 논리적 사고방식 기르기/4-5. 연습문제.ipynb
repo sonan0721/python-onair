{
 "cells": [
  {
   "attachments": {},
   "cell_type": "markdown",
   "id": "741f153f",
   "metadata": {},
   "source": [
    "### 173이 짝수면, “짝수입니다.” 홀수면, “홀수입니다.” 라고 출력해보세요.\n"
   ]
  },
  {
   "cell_type": "code",
   "execution_count": null,
   "id": "66381763",
   "metadata": {},
   "outputs": [],
   "source": []
  },
  {
   "attachments": {},
   "cell_type": "markdown",
   "id": "f7f800a7",
   "metadata": {},
   "source": [
    "### l이 가진 모든 값을 곱해보세요. \n",
    "`l = [3, 10, 22, 38, 100]`"
   ]
  },
  {
   "cell_type": "code",
   "execution_count": null,
   "id": "53421183",
   "metadata": {},
   "outputs": [],
   "source": []
  },
  {
   "attachments": {},
   "cell_type": "markdown",
   "id": "1bec7edb",
   "metadata": {},
   "source": [
    "### 1~100까지 더하는 반복문을 만들어보세요."
   ]
  },
  {
   "cell_type": "code",
   "execution_count": null,
   "id": "50e6fa1a",
   "metadata": {},
   "outputs": [],
   "source": []
  },
  {
   "attachments": {},
   "cell_type": "markdown",
   "id": "29bd445f",
   "metadata": {},
   "source": [
    "### 2347이 소수(Prime)인지 아닌지 판별해보세요."
   ]
  },
  {
   "cell_type": "code",
   "execution_count": null,
   "id": "414d5a95",
   "metadata": {},
   "outputs": [],
   "source": []
  },
  {
   "attachments": {},
   "cell_type": "markdown",
   "id": "7525d365",
   "metadata": {},
   "source": [
    "### al = [“A”, “C”, “b”, “D”, “d”, “e”, “F”] "
   ]
  },
  {
   "cell_type": "code",
   "execution_count": null,
   "id": "e142510a",
   "metadata": {},
   "outputs": [],
   "source": []
  },
  {
   "attachments": {},
   "cell_type": "markdown",
   "id": "31bded00",
   "metadata": {},
   "source": [
    "### a~b까지의 모든 숫자를 곱하게 만들어보세요.\n",
    "a = 3\n",
    "b = 80"
   ]
  },
  {
   "cell_type": "code",
   "execution_count": null,
   "id": "e59243a6",
   "metadata": {},
   "outputs": [],
   "source": []
  }
 ],
 "metadata": {
  "kernelspec": {
   "display_name": "Python 3",
   "language": "python",
   "name": "python3"
  },
  "language_info": {
   "codemirror_mode": {
    "name": "ipython",
    "version": 3
   },
   "file_extension": ".py",
   "mimetype": "text/x-python",
   "name": "python",
   "nbconvert_exporter": "python",
   "pygments_lexer": "ipython3",
   "version": "3.9.4"
  }
 },
 "nbformat": 4,
 "nbformat_minor": 5
}
