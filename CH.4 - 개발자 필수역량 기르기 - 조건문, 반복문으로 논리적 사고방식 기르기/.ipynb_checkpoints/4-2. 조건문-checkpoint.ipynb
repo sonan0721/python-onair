{
 "cells": [
  {
   "cell_type": "markdown",
   "id": "7a0376b8",
   "metadata": {},
   "source": [
    "## 조건문 사용방법\n",
    "`if 조건 :`\n",
    "\n",
    "- input으로 레벨을 입력받는다.\n",
    "- 만약에 포켓몬 레벨이 10 이상이면\n",
    "- 진화한다.\n",
    "\n",
    "`elif`\n",
    "- 만약에 10 이상이면 리자드 진화하고, 30 이상이면 리자몽이된다.\n",
    "\n",
    "`else`\n",
    "- 만약에 10 이상이면 리자드, 30이상이면 리자몽 아니면 그냥 파이리로 있는다.\n"
   ]
  },
  {
   "cell_type": "code",
   "execution_count": 2,
   "id": "4760a6e8",
   "metadata": {},
   "outputs": [
    {
     "data": {
      "text/plain": [
       "True"
      ]
     },
     "execution_count": 2,
     "metadata": {},
     "output_type": "execute_result"
    }
   ],
   "source": [
    "not False"
   ]
  },
  {
   "cell_type": "markdown",
   "id": "3ebc4f7d",
   "metadata": {},
   "source": [
    "### 조건 연산자 \n",
    "- `<`, `==`, `<=` , `!=` 등 비교 연산\n",
    "- `and`, `or`, `not`\n",
    "- `in`, `not in`"
   ]
  },
  {
   "cell_type": "code",
   "execution_count": null,
   "id": "e6bd08c9",
   "metadata": {},
   "outputs": [],
   "source": []
  },
  {
   "cell_type": "markdown",
   "id": "b5de1a83",
   "metadata": {},
   "source": [
    "### 여러가지 조건\n",
    "- elif\n",
    "- else"
   ]
  },
  {
   "cell_type": "code",
   "execution_count": null,
   "id": "c227a285",
   "metadata": {},
   "outputs": [],
   "source": []
  }
 ],
 "metadata": {
  "kernelspec": {
   "display_name": "Python 3",
   "language": "python",
   "name": "python3"
  },
  "language_info": {
   "codemirror_mode": {
    "name": "ipython",
    "version": 3
   },
   "file_extension": ".py",
   "mimetype": "text/x-python",
   "name": "python",
   "nbconvert_exporter": "python",
   "pygments_lexer": "ipython3",
   "version": "3.9.4"
  }
 },
 "nbformat": 4,
 "nbformat_minor": 5
}
