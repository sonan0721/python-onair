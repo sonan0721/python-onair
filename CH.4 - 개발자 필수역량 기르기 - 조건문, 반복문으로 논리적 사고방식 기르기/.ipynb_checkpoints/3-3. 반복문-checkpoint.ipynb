{
 "cells": [
  {
   "cell_type": "markdown",
   "id": "6f03c30f",
   "metadata": {},
   "source": [
    "## while 문\n",
    "- while\n",
    "- break, continue"
   ]
  },
  {
   "cell_type": "code",
   "execution_count": null,
   "id": "c45a4cc8",
   "metadata": {},
   "outputs": [],
   "source": []
  },
  {
   "cell_type": "markdown",
   "id": "89af45f6",
   "metadata": {},
   "source": [
    "### for 문\n",
    "- list for 문\n",
    "- tuple for 문\n",
    "- dictionary for문\n",
    "- range for문"
   ]
  },
  {
   "cell_type": "code",
   "execution_count": null,
   "id": "93bdae7a",
   "metadata": {},
   "outputs": [],
   "source": []
  },
  {
   "cell_type": "markdown",
   "id": "7d8e66a7",
   "metadata": {},
   "source": [
    "### list compensation? \n",
    "- 리스트 내포\n",
    "[x for x in ~]"
   ]
  },
  {
   "cell_type": "code",
   "execution_count": null,
   "id": "0484331d",
   "metadata": {},
   "outputs": [],
   "source": []
  }
 ],
 "metadata": {
  "kernelspec": {
   "display_name": "Python 3",
   "language": "python",
   "name": "python3"
  },
  "language_info": {
   "codemirror_mode": {
    "name": "ipython",
    "version": 3
   },
   "file_extension": ".py",
   "mimetype": "text/x-python",
   "name": "python",
   "nbconvert_exporter": "python",
   "pygments_lexer": "ipython3",
   "version": "3.9.4"
  }
 },
 "nbformat": 4,
 "nbformat_minor": 5
}
