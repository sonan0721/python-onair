{
 "cells": [
  {
   "attachments": {},
   "cell_type": "markdown",
   "id": "d55f8c90",
   "metadata": {},
   "source": [
    "0보다 큰 정수 x에 대해, 함수 F(x) 를 만들어라.\n",
    "\n",
    "x가 10진수로 표현했을 때 K자리인 수라면,\n",
    "\n",
    "F(x) = (x를 제곱해서 10진수로 표현하고 마지막 K자리를 취한 값이 x와 같으면) 1,\n",
    "         (그렇지 않으면) 0\n",
    "         \n",
    "몇 가지 예를 들면\n",
    "\n",
    "F(1) = 1 이다. (1*1 = 1)\n",
    "\n",
    "F(2) = 0 이다. (2*2 = 4)\n",
    "\n",
    "F(3) = 0 이다. (3*3 = 9)\n",
    "\n",
    "F(10) = 0 이다. (10*10 = 100)\n",
    "\n",
    "F(625) = 1 이다. (625*625 = 390625)"
   ]
  },
  {
   "cell_type": "code",
   "execution_count": null,
   "id": "3eb9a65a",
   "metadata": {},
   "outputs": [],
   "source": []
  }
 ],
 "metadata": {
  "kernelspec": {
   "display_name": "Python 3",
   "language": "python",
   "name": "python3"
  },
  "language_info": {
   "codemirror_mode": {
    "name": "ipython",
    "version": 3
   },
   "file_extension": ".py",
   "mimetype": "text/x-python",
   "name": "python",
   "nbconvert_exporter": "python",
   "pygments_lexer": "ipython3",
   "version": "3.9.4"
  }
 },
 "nbformat": 4,
 "nbformat_minor": 5
}
