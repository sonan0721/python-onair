{
 "cells": [
  {
   "cell_type": "markdown",
   "id": "b974abcd",
   "metadata": {},
   "source": [
    "## 리스트를 선언하는 방법\n",
    "`[`,`]` \n"
   ]
  },
  {
   "cell_type": "code",
   "execution_count": 2,
   "id": "c5286871",
   "metadata": {},
   "outputs": [
    {
     "name": "stdout",
     "output_type": "stream",
     "text": [
      "[1, 3, 5]\n"
     ]
    }
   ],
   "source": [
    "l = [1,3,5] # 숫자만 선언가능\n",
    "print(l)"
   ]
  },
  {
   "cell_type": "code",
   "execution_count": 3,
   "id": "c73e1238",
   "metadata": {},
   "outputs": [
    {
     "name": "stdout",
     "output_type": "stream",
     "text": [
      "[1, '하이', 6]\n"
     ]
    }
   ],
   "source": [
    "l = [1, \"하이\", 6] # 문자와 숫자 둘다 혼용 가능\n",
    "print(l)"
   ]
  },
  {
   "cell_type": "code",
   "execution_count": 4,
   "id": "cf3cc1fe",
   "metadata": {},
   "outputs": [
    {
     "name": "stdout",
     "output_type": "stream",
     "text": [
      "[1, '하이', '추가', 6]\n"
     ]
    }
   ],
   "source": [
    "l.insert(2, \"추가\")\n",
    "print(l)"
   ]
  },
  {
   "cell_type": "markdown",
   "id": "09befc9e",
   "metadata": {},
   "source": [
    "### 리스트 인덱싱과 슬라이싱\n",
    "리스트도 문자열처럼 인덱싱이나 슬라이싱이 가능합니다."
   ]
  },
  {
   "cell_type": "code",
   "execution_count": 5,
   "id": "c16058bb",
   "metadata": {},
   "outputs": [
    {
     "data": {
      "text/plain": [
       "1"
      ]
     },
     "execution_count": 5,
     "metadata": {},
     "output_type": "execute_result"
    }
   ],
   "source": [
    "l[0]"
   ]
  },
  {
   "cell_type": "code",
   "execution_count": 6,
   "id": "b4b1e42d",
   "metadata": {},
   "outputs": [
    {
     "data": {
      "text/plain": [
       "[1, '하이']"
      ]
     },
     "execution_count": 6,
     "metadata": {},
     "output_type": "execute_result"
    }
   ],
   "source": [
    "l[0:2]"
   ]
  },
  {
   "cell_type": "markdown",
   "id": "87879e07",
   "metadata": {},
   "source": [
    "### 리스트 안에 리스트"
   ]
  },
  {
   "cell_type": "code",
   "execution_count": 11,
   "id": "d983d79c",
   "metadata": {},
   "outputs": [
    {
     "name": "stdout",
     "output_type": "stream",
     "text": [
      "[1, 3, ['안녕', 34], '하이']\n"
     ]
    }
   ],
   "source": [
    "l = [1,3, [\"안녕\", 34], \"하이\"]\n",
    "print(l)"
   ]
  },
  {
   "cell_type": "code",
   "execution_count": 12,
   "id": "a1572236",
   "metadata": {},
   "outputs": [
    {
     "name": "stdout",
     "output_type": "stream",
     "text": [
      "34\n"
     ]
    }
   ],
   "source": [
    "print(l[2][1])"
   ]
  },
  {
   "cell_type": "code",
   "execution_count": 10,
   "id": "d37c4881",
   "metadata": {},
   "outputs": [
    {
     "name": "stdout",
     "output_type": "stream",
     "text": [
      "[3, 3, ['안녕', 34], '하이']\n"
     ]
    }
   ],
   "source": [
    "# 리스트의 내용을 바꾸면, 실제 리스트가 바뀝니다.\n",
    "l[0] = 3\n",
    "print(l)"
   ]
  },
  {
   "cell_type": "markdown",
   "id": "6d3e1166",
   "metadata": {},
   "source": [
    "### 리스트 연산\n",
    "- 더하기\n",
    "- 반복하기\n",
    "- 길이 구하기"
   ]
  },
  {
   "cell_type": "code",
   "execution_count": 13,
   "id": "b7d96f29",
   "metadata": {},
   "outputs": [
    {
     "name": "stdout",
     "output_type": "stream",
     "text": [
      "[3, 4, 4, 5, 6, 10]\n"
     ]
    }
   ],
   "source": [
    "l = [3,4] + [4,5] + [6, 10]\n",
    "print(l)"
   ]
  },
  {
   "cell_type": "code",
   "execution_count": 14,
   "id": "d3430354",
   "metadata": {},
   "outputs": [],
   "source": [
    "l = [1,3,5]"
   ]
  },
  {
   "cell_type": "code",
   "execution_count": 14,
   "id": "8259aba2",
   "metadata": {},
   "outputs": [
    {
     "data": {
      "text/plain": [
       "[1, 3, 5, 1, 3, 5]"
      ]
     },
     "execution_count": 14,
     "metadata": {},
     "output_type": "execute_result"
    }
   ],
   "source": [
    "l*2"
   ]
  },
  {
   "cell_type": "code",
   "execution_count": 15,
   "id": "689466cd",
   "metadata": {},
   "outputs": [
    {
     "data": {
      "text/plain": [
       "3"
      ]
     },
     "execution_count": 15,
     "metadata": {},
     "output_type": "execute_result"
    }
   ],
   "source": [
    "#l은 대입되지 않으므로 바뀌지 않습니다.\n",
    "len(l)"
   ]
  },
  {
   "cell_type": "code",
   "execution_count": 16,
   "id": "28e6b354",
   "metadata": {},
   "outputs": [
    {
     "data": {
      "text/plain": [
       "6"
      ]
     },
     "execution_count": 16,
     "metadata": {},
     "output_type": "execute_result"
    }
   ],
   "source": [
    "len(l+l2)"
   ]
  },
  {
   "cell_type": "markdown",
   "id": "a507c589",
   "metadata": {},
   "source": [
    "### 리스트 몇가지 유용한 함수\n",
    "- append : 뒤에 요소를 추가하기\n",
    "- index : find와 같이 리스트에서 찾아내기\n",
    "- insert : 특정 위치에 추가하기\n",
    "- remove : 특정 요소를 제거하기\n",
    "- sort :리스트를 정렬하기\n",
    "- reverse : 리스트를 역순으로 만들기"
   ]
  },
  {
   "cell_type": "code",
   "execution_count": 15,
   "id": "36b055a6",
   "metadata": {},
   "outputs": [],
   "source": [
    "l = [1,3,5]"
   ]
  },
  {
   "cell_type": "code",
   "execution_count": 17,
   "id": "093e33b1",
   "metadata": {},
   "outputs": [
    {
     "name": "stdout",
     "output_type": "stream",
     "text": [
      "[1, 3, 5, 7, 7]\n"
     ]
    }
   ],
   "source": [
    "# 뒤에 7을 추가합니다.\n",
    "l.append(7)\n",
    "print(l)"
   ]
  },
  {
   "cell_type": "code",
   "execution_count": 18,
   "id": "8ea55ddf",
   "metadata": {},
   "outputs": [
    {
     "data": {
      "text/plain": [
       "1"
      ]
     },
     "execution_count": 18,
     "metadata": {},
     "output_type": "execute_result"
    }
   ],
   "source": [
    "# 리스트 안에 3이 어디있는지 찾아볼까요?\n",
    "l.index(3) ## find와 같은 기능을 합니다."
   ]
  },
  {
   "cell_type": "code",
   "execution_count": 19,
   "id": "540a90be",
   "metadata": {},
   "outputs": [
    {
     "name": "stdout",
     "output_type": "stream",
     "text": [
      "[-3, 1, 3, 5, 7, 7]\n"
     ]
    }
   ],
   "source": [
    "# 리스트에서 0번째 위치에 -3을 넣습니다.\n",
    "l.insert(0, -3)\n",
    "print(l)"
   ]
  },
  {
   "cell_type": "code",
   "execution_count": 20,
   "id": "b5c8e357",
   "metadata": {},
   "outputs": [
    {
     "name": "stdout",
     "output_type": "stream",
     "text": [
      "[1, 3, 5, 7, 7]\n"
     ]
    }
   ],
   "source": [
    "# 리스트에서 -3 을 제거할 수도 있어요.\n",
    "l.remove(-3)\n",
    "print(l)"
   ]
  },
  {
   "cell_type": "code",
   "execution_count": 21,
   "id": "108e3100",
   "metadata": {},
   "outputs": [
    {
     "name": "stdout",
     "output_type": "stream",
     "text": [
      "[1, 5, 3, 8, -3]\n",
      "[-3, 1, 3, 5, 8]\n"
     ]
    }
   ],
   "source": [
    "# 리스트를 정렬합니다.\n",
    "l = [1,5,3,8, -3]\n",
    "print(l)\n",
    "l.sort()\n",
    "print(l)"
   ]
  },
  {
   "cell_type": "code",
   "execution_count": 22,
   "id": "140de945",
   "metadata": {},
   "outputs": [
    {
     "name": "stdout",
     "output_type": "stream",
     "text": [
      "[8, 5, 3, 1, -3]\n"
     ]
    }
   ],
   "source": [
    "# l.sort(reverse=True) ## 이방식이 있지만, \n",
    "# 리스트를 역순으로 만듭니다.\n",
    "l.reverse()\n",
    "print(l)"
   ]
  }
 ],
 "metadata": {
  "kernelspec": {
   "display_name": "Python 3",
   "language": "python",
   "name": "python3"
  },
  "language_info": {
   "codemirror_mode": {
    "name": "ipython",
    "version": 3
   },
   "file_extension": ".py",
   "mimetype": "text/x-python",
   "name": "python",
   "nbconvert_exporter": "python",
   "pygments_lexer": "ipython3",
   "version": "3.9.5"
  }
 },
 "nbformat": 4,
 "nbformat_minor": 5
}
