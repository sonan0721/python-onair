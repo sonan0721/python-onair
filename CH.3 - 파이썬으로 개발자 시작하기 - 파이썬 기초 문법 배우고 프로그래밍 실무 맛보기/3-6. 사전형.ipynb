{
 "cells": [
  {
   "cell_type": "markdown",
   "id": "973c1bfd",
   "metadata": {},
   "source": [
    "## 사전형을 선언하는 방법\n",
    "`{` \"키\" : \" 밸류\" `}`\n"
   ]
  },
  {
   "cell_type": "code",
   "execution_count": 2,
   "id": "1618711c",
   "metadata": {},
   "outputs": [
    {
     "ename": "NameError",
     "evalue": "name 'name' is not defined",
     "output_type": "error",
     "traceback": [
      "\u001b[1;31m---------------------------------------------------------------------------\u001b[0m",
      "\u001b[1;31mNameError\u001b[0m                                 Traceback (most recent call last)",
      "\u001b[1;32m<ipython-input-2-df35a28ce490>\u001b[0m in \u001b[0;36m<module>\u001b[1;34m\u001b[0m\n\u001b[1;32m----> 1\u001b[1;33m \u001b[0mdic\u001b[0m \u001b[1;33m=\u001b[0m \u001b[1;33m{\u001b[0m\u001b[0mname\u001b[0m \u001b[1;33m:\u001b[0m \u001b[1;34m\"이도행\"\u001b[0m\u001b[1;33m}\u001b[0m\u001b[1;33m\u001b[0m\u001b[1;33m\u001b[0m\u001b[0m\n\u001b[0m",
      "\u001b[1;31mNameError\u001b[0m: name 'name' is not defined"
     ]
    }
   ],
   "source": [
    "dic = {name : \"이도행\"}"
   ]
  },
  {
   "cell_type": "code",
   "execution_count": 3,
   "id": "e14dfe8b",
   "metadata": {},
   "outputs": [
    {
     "name": "stdout",
     "output_type": "stream",
     "text": [
      "{'name': '이도행', 'level': 1}\n"
     ]
    }
   ],
   "source": [
    "dic = {\"name\" : \"이도행\", \"level\" : 1}\n",
    "print(dic)"
   ]
  },
  {
   "cell_type": "code",
   "execution_count": 6,
   "id": "52869bc6",
   "metadata": {},
   "outputs": [
    {
     "data": {
      "text/plain": [
       "(1, '이도행')"
      ]
     },
     "execution_count": 6,
     "metadata": {},
     "output_type": "execute_result"
    }
   ],
   "source": [
    "dic[\"level\"], dic[\"name\"]"
   ]
  },
  {
   "cell_type": "markdown",
   "id": "1d5ed02f",
   "metadata": {},
   "source": [
    "### 쌍을 새로 추가하고 삭제하기\n",
    "- 추가는 index 이용\n",
    "- 삭제는 del 이용"
   ]
  },
  {
   "cell_type": "code",
   "execution_count": 7,
   "id": "9b3db3ee",
   "metadata": {},
   "outputs": [
    {
     "name": "stdout",
     "output_type": "stream",
     "text": [
      "{'name': '이도행', 'level': 1, 'title': '개발자'}\n"
     ]
    }
   ],
   "source": [
    "dic[\"title\"] = \"개발자\"\n",
    "print(dic)"
   ]
  },
  {
   "cell_type": "code",
   "execution_count": 8,
   "id": "8c3ad68f",
   "metadata": {},
   "outputs": [
    {
     "name": "stdout",
     "output_type": "stream",
     "text": [
      "{'name': '이도행', 'title': '개발자'}\n"
     ]
    }
   ],
   "source": [
    "del dic['level']\n",
    "print(dic)"
   ]
  },
  {
   "cell_type": "markdown",
   "id": "9fc0c57e",
   "metadata": {},
   "source": [
    "### 사전형 관련 요소들\n",
    "- [] 이용하기\n",
    "- get\n",
    "- keys\n",
    "- values\n",
    "- items\n",
    "- clear\n",
    "- in\n"
   ]
  },
  {
   "cell_type": "code",
   "execution_count": 11,
   "id": "ce12960a",
   "metadata": {},
   "outputs": [
    {
     "data": {
      "text/plain": [
       "'개발자'"
      ]
     },
     "execution_count": 11,
     "metadata": {},
     "output_type": "execute_result"
    }
   ],
   "source": [
    "dic.get(\"title\")"
   ]
  },
  {
   "cell_type": "code",
   "execution_count": 12,
   "id": "726ac79b",
   "metadata": {},
   "outputs": [
    {
     "data": {
      "text/plain": [
       "'개발자'"
      ]
     },
     "execution_count": 12,
     "metadata": {},
     "output_type": "execute_result"
    }
   ],
   "source": [
    "dic['title']"
   ]
  },
  {
   "cell_type": "code",
   "execution_count": 13,
   "id": "97894367",
   "metadata": {},
   "outputs": [],
   "source": [
    "dic.get(\"level\") ## 에러에 안전하다."
   ]
  },
  {
   "cell_type": "code",
   "execution_count": 14,
   "id": "24f4e13e",
   "metadata": {},
   "outputs": [
    {
     "ename": "KeyError",
     "evalue": "'level'",
     "output_type": "error",
     "traceback": [
      "\u001b[1;31m---------------------------------------------------------------------------\u001b[0m",
      "\u001b[1;31mKeyError\u001b[0m                                  Traceback (most recent call last)",
      "\u001b[1;32m<ipython-input-14-819f9bb42dd4>\u001b[0m in \u001b[0;36m<module>\u001b[1;34m\u001b[0m\n\u001b[1;32m----> 1\u001b[1;33m \u001b[0mdic\u001b[0m\u001b[1;33m[\u001b[0m\u001b[1;34m\"level\"\u001b[0m\u001b[1;33m]\u001b[0m\u001b[1;33m\u001b[0m\u001b[1;33m\u001b[0m\u001b[0m\n\u001b[0m",
      "\u001b[1;31mKeyError\u001b[0m: 'level'"
     ]
    }
   ],
   "source": [
    "dic[\"level\"]"
   ]
  },
  {
   "cell_type": "code",
   "execution_count": 15,
   "id": "e95ad3da",
   "metadata": {},
   "outputs": [
    {
     "data": {
      "text/plain": [
       "dict_keys(['name', 'title'])"
      ]
     },
     "execution_count": 15,
     "metadata": {},
     "output_type": "execute_result"
    }
   ],
   "source": [
    "dic.keys()"
   ]
  },
  {
   "cell_type": "code",
   "execution_count": 17,
   "id": "79a98fda",
   "metadata": {},
   "outputs": [
    {
     "data": {
      "text/plain": [
       "dict_values(['이도행', '개발자'])"
      ]
     },
     "execution_count": 17,
     "metadata": {},
     "output_type": "execute_result"
    }
   ],
   "source": [
    "dic.values()"
   ]
  },
  {
   "cell_type": "code",
   "execution_count": 19,
   "id": "1e688d13",
   "metadata": {},
   "outputs": [
    {
     "data": {
      "text/plain": [
       "dict_items([('name', '이도행'), ('title', '개발자')])"
      ]
     },
     "execution_count": 19,
     "metadata": {},
     "output_type": "execute_result"
    }
   ],
   "source": [
    "dic.items()"
   ]
  },
  {
   "cell_type": "code",
   "execution_count": 20,
   "id": "ab8a4c57",
   "metadata": {},
   "outputs": [],
   "source": [
    "dic.clear()"
   ]
  },
  {
   "cell_type": "code",
   "execution_count": 22,
   "id": "6b17a7dd",
   "metadata": {},
   "outputs": [
    {
     "name": "stdout",
     "output_type": "stream",
     "text": [
      "{}\n"
     ]
    }
   ],
   "source": [
    "print(dic)"
   ]
  },
  {
   "cell_type": "code",
   "execution_count": 23,
   "id": "6e81a63c",
   "metadata": {},
   "outputs": [],
   "source": [
    "dic = {\"name\" : \"이도행\", \"level\" : 1}\n"
   ]
  },
  {
   "cell_type": "code",
   "execution_count": 24,
   "id": "76dccc1e",
   "metadata": {},
   "outputs": [
    {
     "data": {
      "text/plain": [
       "False"
      ]
     },
     "execution_count": 24,
     "metadata": {},
     "output_type": "execute_result"
    }
   ],
   "source": [
    "## in은 Key를 검사한다.\n",
    "\"이도행\" in dic"
   ]
  },
  {
   "cell_type": "code",
   "execution_count": 25,
   "id": "5bb8db3d",
   "metadata": {},
   "outputs": [
    {
     "data": {
      "text/plain": [
       "True"
      ]
     },
     "execution_count": 25,
     "metadata": {},
     "output_type": "execute_result"
    }
   ],
   "source": [
    "\"name\" in dic"
   ]
  }
 ],
 "metadata": {
  "kernelspec": {
   "display_name": "Python 3",
   "language": "python",
   "name": "python3"
  },
  "language_info": {
   "codemirror_mode": {
    "name": "ipython",
    "version": 3
   },
   "file_extension": ".py",
   "mimetype": "text/x-python",
   "name": "python",
   "nbconvert_exporter": "python",
   "pygments_lexer": "ipython3",
   "version": "3.9.4"
  }
 },
 "nbformat": 4,
 "nbformat_minor": 5
}
