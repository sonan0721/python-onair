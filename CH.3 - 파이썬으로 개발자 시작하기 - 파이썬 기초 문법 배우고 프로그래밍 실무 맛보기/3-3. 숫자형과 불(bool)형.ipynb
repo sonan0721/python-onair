{
 "cells": [
  {
   "cell_type": "markdown",
   "id": "89e8e010",
   "metadata": {},
   "source": [
    "## 숫자형\n",
    "\n",
    "일반적으로 많이 사용되는 숫자는\n",
    "\"정수\"와, \"실수\"로 나뉩니다.\n",
    "\n",
    "파이썬에서 정수는 int 라고 칭하고, 실수는 float로 칭하고 있습니다.\n"
   ]
  },
  {
   "cell_type": "code",
   "execution_count": 4,
   "id": "7ab8731b",
   "metadata": {},
   "outputs": [
    {
     "data": {
      "text/plain": [
       "int"
      ]
     },
     "execution_count": 4,
     "metadata": {},
     "output_type": "execute_result"
    }
   ],
   "source": [
    "type(100)"
   ]
  },
  {
   "cell_type": "markdown",
   "id": "da444972",
   "metadata": {},
   "source": [
    "음의 정수(-)도 정수입니다."
   ]
  },
  {
   "cell_type": "code",
   "execution_count": 5,
   "id": "89cec562",
   "metadata": {},
   "outputs": [
    {
     "data": {
      "text/plain": [
       "int"
      ]
     },
     "execution_count": 5,
     "metadata": {},
     "output_type": "execute_result"
    }
   ],
   "source": [
    "type(-50)"
   ]
  },
  {
   "cell_type": "markdown",
   "id": "698d9aab",
   "metadata": {},
   "source": [
    "소수점이 있는 타입은 `float` 입니다. 음의 소수도 `float` 입니다."
   ]
  },
  {
   "cell_type": "code",
   "execution_count": 6,
   "id": "ac2f6401",
   "metadata": {},
   "outputs": [
    {
     "data": {
      "text/plain": [
       "float"
      ]
     },
     "execution_count": 6,
     "metadata": {},
     "output_type": "execute_result"
    }
   ],
   "source": [
    "type(100.5)"
   ]
  },
  {
   "cell_type": "code",
   "execution_count": 7,
   "id": "10e67cab",
   "metadata": {},
   "outputs": [
    {
     "data": {
      "text/plain": [
       "float"
      ]
     },
     "execution_count": 7,
     "metadata": {},
     "output_type": "execute_result"
    }
   ],
   "source": [
    "type(-184.9)"
   ]
  },
  {
   "cell_type": "markdown",
   "id": "a073b42d",
   "metadata": {},
   "source": [
    "### 다양한 연산\n",
    "- `+`/`-`/ `*` / `/`\n",
    "- `*=`, `+=` 등\n",
    "- `**` / `%`\n"
   ]
  },
  {
   "cell_type": "code",
   "execution_count": 8,
   "id": "39fa39d8",
   "metadata": {},
   "outputs": [
    {
     "data": {
      "text/plain": [
       "8"
      ]
     },
     "execution_count": 8,
     "metadata": {},
     "output_type": "execute_result"
    }
   ],
   "source": [
    "# 덧셈(+)\n",
    "5+3"
   ]
  },
  {
   "cell_type": "code",
   "execution_count": 10,
   "id": "9c7d1df7",
   "metadata": {},
   "outputs": [
    {
     "data": {
      "text/plain": [
       "-1"
      ]
     },
     "execution_count": 10,
     "metadata": {},
     "output_type": "execute_result"
    }
   ],
   "source": [
    "# 뺄셈(-)\n",
    "6-7"
   ]
  },
  {
   "cell_type": "code",
   "execution_count": 11,
   "id": "706f5aeb",
   "metadata": {},
   "outputs": [
    {
     "data": {
      "text/plain": [
       "75"
      ]
     },
     "execution_count": 11,
     "metadata": {},
     "output_type": "execute_result"
    }
   ],
   "source": [
    "# 곱셈(*)\n",
    "5*15"
   ]
  },
  {
   "cell_type": "code",
   "execution_count": 12,
   "id": "9c58b2a1",
   "metadata": {},
   "outputs": [
    {
     "data": {
      "text/plain": [
       "1.0"
      ]
     },
     "execution_count": 12,
     "metadata": {},
     "output_type": "execute_result"
    }
   ],
   "source": [
    "# 나눗셈(/)\n",
    "3/3"
   ]
  },
  {
   "cell_type": "code",
   "execution_count": 13,
   "id": "c711bb89",
   "metadata": {},
   "outputs": [
    {
     "data": {
      "text/plain": [
       "1024"
      ]
     },
     "execution_count": 13,
     "metadata": {},
     "output_type": "execute_result"
    }
   ],
   "source": [
    "# 승수(**)\n",
    "2**10"
   ]
  },
  {
   "cell_type": "code",
   "execution_count": 15,
   "id": "e6e84bb7",
   "metadata": {},
   "outputs": [
    {
     "data": {
      "text/plain": [
       "1"
      ]
     },
     "execution_count": 15,
     "metadata": {},
     "output_type": "execute_result"
    }
   ],
   "source": [
    "# 나머지(%)\n",
    "10%3"
   ]
  },
  {
   "cell_type": "code",
   "execution_count": 16,
   "id": "fd9008c1",
   "metadata": {},
   "outputs": [],
   "source": [
    "test = 13+2-47+41"
   ]
  },
  {
   "cell_type": "code",
   "execution_count": 19,
   "id": "0e7ca9e4",
   "metadata": {},
   "outputs": [
    {
     "data": {
      "text/plain": [
       "1"
      ]
     },
     "execution_count": 19,
     "metadata": {},
     "output_type": "execute_result"
    }
   ],
   "source": [
    "test%2 # 홀수인지 짝수인지를 판별 가능"
   ]
  },
  {
   "cell_type": "code",
   "execution_count": 18,
   "id": "dece5ce4",
   "metadata": {},
   "outputs": [
    {
     "name": "stdout",
     "output_type": "stream",
     "text": [
      "9\n"
     ]
    }
   ],
   "source": [
    "print(test)"
   ]
  },
  {
   "cell_type": "markdown",
   "id": "dcc90768",
   "metadata": {},
   "source": [
    "### 파이썬의 정수는 무한의 크기를 가질 수 있습니다. \n"
   ]
  },
  {
   "cell_type": "code",
   "execution_count": 6,
   "id": "2183b255",
   "metadata": {},
   "outputs": [],
   "source": [
    "a = 123819078903478901725902379058129038590123859012783095712903570912375901723905712"
   ]
  },
  {
   "cell_type": "code",
   "execution_count": 35,
   "id": "8a4ce350",
   "metadata": {},
   "outputs": [
    {
     "data": {
      "text/plain": [
       "int"
      ]
     },
     "execution_count": 35,
     "metadata": {},
     "output_type": "execute_result"
    }
   ],
   "source": [
    "type(a)"
   ]
  },
  {
   "cell_type": "code",
   "execution_count": 31,
   "id": "57c7bd7d",
   "metadata": {},
   "outputs": [
    {
     "data": {
      "text/plain": [
       "-10"
      ]
     },
     "execution_count": 31,
     "metadata": {},
     "output_type": "execute_result"
    }
   ],
   "source": [
    "a"
   ]
  },
  {
   "cell_type": "code",
   "execution_count": 36,
   "id": "20c5a89e",
   "metadata": {},
   "outputs": [
    {
     "data": {
      "text/plain": [
       "20"
      ]
     },
     "execution_count": 36,
     "metadata": {},
     "output_type": "execute_result"
    }
   ],
   "source": [
    "2 + 3 * 6"
   ]
  },
  {
   "cell_type": "markdown",
   "id": "9ea16caf",
   "metadata": {},
   "source": [
    "## 불(bool) 형\n",
    "\n",
    "불(bool)은 참, 또는 거짓의 값을 가집니다.\n",
    "\n",
    "`True` / `False`\n",
    "\n",
    "를 표현하기 위해 다양한 비교 연산자들이 존재합니다.\n",
    "- `==` : 같은지를 판별\n",
    "- `>` `<`, `>=`. `<=` : 비교 연산\n",
    "- `!=` : 서로 다른지를 판별\n",
    "- `and` : 그리고\n",
    "- `or` : 또는"
   ]
  },
  {
   "cell_type": "code",
   "execution_count": 20,
   "id": "47737d51",
   "metadata": {},
   "outputs": [
    {
     "data": {
      "text/plain": [
       "bool"
      ]
     },
     "execution_count": 20,
     "metadata": {},
     "output_type": "execute_result"
    }
   ],
   "source": [
    "type(True)"
   ]
  },
  {
   "cell_type": "code",
   "execution_count": 22,
   "id": "2b60320d",
   "metadata": {},
   "outputs": [
    {
     "name": "stdout",
     "output_type": "stream",
     "text": [
      "False\n"
     ]
    }
   ],
   "source": [
    "print(False)"
   ]
  },
  {
   "cell_type": "code",
   "execution_count": 24,
   "id": "0caa7136",
   "metadata": {},
   "outputs": [],
   "source": [
    "b = True"
   ]
  },
  {
   "cell_type": "code",
   "execution_count": 37,
   "id": "72ad4e39",
   "metadata": {},
   "outputs": [
    {
     "data": {
      "text/plain": [
       "False"
      ]
     },
     "execution_count": 37,
     "metadata": {},
     "output_type": "execute_result"
    }
   ],
   "source": [
    "3+2 < 4"
   ]
  },
  {
   "cell_type": "code",
   "execution_count": 38,
   "id": "fc3cf810",
   "metadata": {},
   "outputs": [],
   "source": [
    "a= 3+2"
   ]
  },
  {
   "cell_type": "code",
   "execution_count": 39,
   "id": "d769238a",
   "metadata": {},
   "outputs": [
    {
     "data": {
      "text/plain": [
       "True"
      ]
     },
     "execution_count": 39,
     "metadata": {},
     "output_type": "execute_result"
    }
   ],
   "source": [
    "a <= a+1"
   ]
  },
  {
   "cell_type": "code",
   "execution_count": 41,
   "id": "4109dfcf",
   "metadata": {},
   "outputs": [
    {
     "data": {
      "text/plain": [
       "False"
      ]
     },
     "execution_count": 41,
     "metadata": {},
     "output_type": "execute_result"
    }
   ],
   "source": [
    "3 == 4"
   ]
  },
  {
   "cell_type": "code",
   "execution_count": 43,
   "id": "52b34d2a",
   "metadata": {},
   "outputs": [
    {
     "data": {
      "text/plain": [
       "True"
      ]
     },
     "execution_count": 43,
     "metadata": {},
     "output_type": "execute_result"
    }
   ],
   "source": [
    "3 != 4"
   ]
  },
  {
   "cell_type": "code",
   "execution_count": 44,
   "id": "f24f8394",
   "metadata": {},
   "outputs": [
    {
     "data": {
      "text/plain": [
       "True"
      ]
     },
     "execution_count": 44,
     "metadata": {},
     "output_type": "execute_result"
    }
   ],
   "source": [
    "3 == 3.0"
   ]
  },
  {
   "cell_type": "code",
   "execution_count": 45,
   "id": "0385e2b4",
   "metadata": {},
   "outputs": [
    {
     "data": {
      "text/plain": [
       "True"
      ]
     },
     "execution_count": 45,
     "metadata": {},
     "output_type": "execute_result"
    }
   ],
   "source": [
    "9/3 == 3"
   ]
  },
  {
   "cell_type": "code",
   "execution_count": 46,
   "id": "2639e8b7",
   "metadata": {},
   "outputs": [
    {
     "data": {
      "text/plain": [
       "False"
      ]
     },
     "execution_count": 46,
     "metadata": {},
     "output_type": "execute_result"
    }
   ],
   "source": [
    "1.66 == 1.666"
   ]
  },
  {
   "cell_type": "code",
   "execution_count": 47,
   "id": "c6301d08",
   "metadata": {},
   "outputs": [
    {
     "data": {
      "text/plain": [
       "True"
      ]
     },
     "execution_count": 47,
     "metadata": {},
     "output_type": "execute_result"
    }
   ],
   "source": [
    "3*3 > 5"
   ]
  },
  {
   "cell_type": "code",
   "execution_count": 48,
   "id": "918eeec6",
   "metadata": {},
   "outputs": [
    {
     "data": {
      "text/plain": [
       "True"
      ]
     },
     "execution_count": 48,
     "metadata": {},
     "output_type": "execute_result"
    }
   ],
   "source": [
    "3+3 > 5 and 9 != 8"
   ]
  },
  {
   "cell_type": "code",
   "execution_count": 49,
   "id": "ad188c5a",
   "metadata": {},
   "outputs": [],
   "source": [
    "a = 10"
   ]
  },
  {
   "cell_type": "code",
   "execution_count": 50,
   "id": "0e35e5c5",
   "metadata": {},
   "outputs": [
    {
     "data": {
      "text/plain": [
       "True"
      ]
     },
     "execution_count": 50,
     "metadata": {},
     "output_type": "execute_result"
    }
   ],
   "source": [
    "a < 2 or a > 9"
   ]
  },
  {
   "cell_type": "code",
   "execution_count": 56,
   "id": "e913e660",
   "metadata": {},
   "outputs": [
    {
     "data": {
      "text/plain": [
       "True"
      ]
     },
     "execution_count": 56,
     "metadata": {},
     "output_type": "execute_result"
    }
   ],
   "source": [
    "not(3 == 5)"
   ]
  },
  {
   "cell_type": "code",
   "execution_count": 57,
   "id": "673cca5d",
   "metadata": {},
   "outputs": [
    {
     "data": {
      "text/plain": [
       "False"
      ]
     },
     "execution_count": 57,
     "metadata": {},
     "output_type": "execute_result"
    }
   ],
   "source": [
    "not(True)"
   ]
  },
  {
   "cell_type": "code",
   "execution_count": 53,
   "id": "1705f521",
   "metadata": {},
   "outputs": [
    {
     "data": {
      "text/plain": [
       "True"
      ]
     },
     "execution_count": 53,
     "metadata": {},
     "output_type": "execute_result"
    }
   ],
   "source": [
    "True and True"
   ]
  },
  {
   "cell_type": "code",
   "execution_count": 54,
   "id": "81127bea",
   "metadata": {},
   "outputs": [
    {
     "data": {
      "text/plain": [
       "True"
      ]
     },
     "execution_count": 54,
     "metadata": {},
     "output_type": "execute_result"
    }
   ],
   "source": [
    "True or False"
   ]
  }
 ],
 "metadata": {
  "kernelspec": {
   "display_name": "Python 3",
   "language": "python",
   "name": "python3"
  },
  "language_info": {
   "codemirror_mode": {
    "name": "ipython",
    "version": 3
   },
   "file_extension": ".py",
   "mimetype": "text/x-python",
   "name": "python",
   "nbconvert_exporter": "python",
   "pygments_lexer": "ipython3",
   "version": "3.9.5"
  }
 },
 "nbformat": 4,
 "nbformat_minor": 5
}
