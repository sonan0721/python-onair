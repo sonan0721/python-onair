{
 "cells": [
  {
   "cell_type": "markdown",
   "id": "973c1bfd",
   "metadata": {},
   "source": [
    "## 사전형을 선언하는 방법\n",
    "`{ \"키\" : \" 밸류\" }`\n",
    "\n",
    "사전형은 독특한 형태로 자료를 보관하는 방식으로 많이 사용됩니다.\n"
   ]
  },
  {
   "cell_type": "code",
   "execution_count": 8,
   "id": "1618711c",
   "metadata": {},
   "outputs": [
    {
     "name": "stdout",
     "output_type": "stream",
     "text": [
      "{'pi': 3.14159}\n"
     ]
    }
   ],
   "source": [
    "# 리스트를 선언하는 것과는 다르게 출력되고, 다르게 선언됩니다.\n",
    "l = [1,2,3,4,5]\n",
    "\n",
    "# 사전 선언하기\n",
    "mydict = {\"pi\" : 3.14159}\n",
    "print(mydict)"
   ]
  },
  {
   "cell_type": "markdown",
   "id": "7321d2f8",
   "metadata": {},
   "source": [
    "## 사전에서 인덱싱은 `Key`를 이용합니다.\n",
    "\n",
    "`dic[key]`\n"
   ]
  },
  {
   "cell_type": "code",
   "execution_count": 6,
   "id": "e14dfe8b",
   "metadata": {},
   "outputs": [
    {
     "name": "stdout",
     "output_type": "stream",
     "text": [
      "{'name': '피카츄', 'level': 1}\n"
     ]
    }
   ],
   "source": [
    "dic = {\"name\" : \"피카츄\", \"level\" : 1}\n",
    "print(dic)"
   ]
  },
  {
   "cell_type": "code",
   "execution_count": 7,
   "id": "52869bc6",
   "metadata": {},
   "outputs": [
    {
     "data": {
      "text/plain": [
       "(1, '피카츄')"
      ]
     },
     "execution_count": 7,
     "metadata": {},
     "output_type": "execute_result"
    }
   ],
   "source": [
    "dic[\"level\"], dic[\"name\"]"
   ]
  },
  {
   "cell_type": "markdown",
   "id": "1d5ed02f",
   "metadata": {},
   "source": [
    "### 쌍을 새로 추가하고 삭제하기\n",
    "- 추가는 `[key]` 이용\n",
    "- 삭제는 del 이용"
   ]
  },
  {
   "cell_type": "code",
   "execution_count": 13,
   "id": "f9229d5c",
   "metadata": {},
   "outputs": [
    {
     "name": "stdout",
     "output_type": "stream",
     "text": [
      "{'치킨': 19000, '피자': 22000, '짜장면': 8000}\n"
     ]
    }
   ],
   "source": [
    "prices = {\"치킨\" : 19000, \"피자\" : 22000, \"짜장면\" : 8000}\n",
    "print(prices)"
   ]
  },
  {
   "cell_type": "code",
   "execution_count": 17,
   "id": "899fa447",
   "metadata": {},
   "outputs": [
    {
     "name": "stdout",
     "output_type": "stream",
     "text": [
      "{'치킨': 19000, '피자': 22000, '짜장면': 8000, '커피': 4000}\n"
     ]
    }
   ],
   "source": [
    "prices[\"커피\"] = 4000\n",
    "print(prices)"
   ]
  },
  {
   "cell_type": "code",
   "execution_count": 18,
   "id": "995613f6",
   "metadata": {},
   "outputs": [
    {
     "ename": "KeyError",
     "evalue": "'짬뽕'",
     "output_type": "error",
     "traceback": [
      "\u001b[1;31m---------------------------------------------------------------------------\u001b[0m",
      "\u001b[1;31mKeyError\u001b[0m                                  Traceback (most recent call last)",
      "\u001b[1;32m<ipython-input-18-3e49fc58509e>\u001b[0m in \u001b[0;36m<module>\u001b[1;34m\u001b[0m\n\u001b[1;32m----> 1\u001b[1;33m \u001b[0mprices\u001b[0m\u001b[1;33m[\u001b[0m\u001b[1;34m\"짬뽕\"\u001b[0m\u001b[1;33m]\u001b[0m \u001b[1;31m#Error! Key가 없기 때문\u001b[0m\u001b[1;33m\u001b[0m\u001b[1;33m\u001b[0m\u001b[0m\n\u001b[0m",
      "\u001b[1;31mKeyError\u001b[0m: '짬뽕'"
     ]
    }
   ],
   "source": [
    "prices[\"짬뽕\"] #Error! Key가 없기 때문"
   ]
  },
  {
   "cell_type": "code",
   "execution_count": 19,
   "id": "9b3db3ee",
   "metadata": {},
   "outputs": [],
   "source": [
    "# 사전에서 요소 삭제하기\n",
    "del prices[\"커피\"]\n"
   ]
  },
  {
   "cell_type": "markdown",
   "id": "9fc0c57e",
   "metadata": {},
   "source": [
    "### 사전형 관련 요소들\n",
    "- get : 안전하게 값을 가져오기\n",
    "- keys : 사전에서 Key들만 가져오기\n",
    "- values : 사전에서 Value들만 가져오기\n",
    "- items : 사전에서 Key,Value 둘다 가져오기\n",
    "- clear : 비우기\n",
    "- in : 안에 실제로 존재하는지 확인하기\n"
   ]
  },
  {
   "cell_type": "code",
   "execution_count": 21,
   "id": "ce12960a",
   "metadata": {},
   "outputs": [
    {
     "name": "stdout",
     "output_type": "stream",
     "text": [
      "{'치킨': 19000, '피자': 22000, '짜장면': 8000}\n"
     ]
    }
   ],
   "source": [
    "prices = {\"치킨\" : 19000, \"피자\" : 22000, \"짜장면\" : 8000}\n",
    "print(prices)"
   ]
  },
  {
   "cell_type": "code",
   "execution_count": 23,
   "id": "9f11ccb4",
   "metadata": {},
   "outputs": [
    {
     "data": {
      "text/plain": [
       "19000"
      ]
     },
     "execution_count": 23,
     "metadata": {},
     "output_type": "execute_result"
    }
   ],
   "source": [
    "prices.get(\"치킨\")"
   ]
  },
  {
   "cell_type": "code",
   "execution_count": 24,
   "id": "796827c2",
   "metadata": {},
   "outputs": [],
   "source": [
    "prices.get(\"짬뽕\") # 에러가 나지 않고, 아무것도 출력되지 않음 (안전)"
   ]
  },
  {
   "cell_type": "code",
   "execution_count": 28,
   "id": "726ac79b",
   "metadata": {},
   "outputs": [
    {
     "data": {
      "text/plain": [
       "dict_keys(['치킨', '피자', '짜장면'])"
      ]
     },
     "execution_count": 28,
     "metadata": {},
     "output_type": "execute_result"
    }
   ],
   "source": [
    "prices.keys() #key 만 출력하기"
   ]
  },
  {
   "cell_type": "code",
   "execution_count": 29,
   "id": "97894367",
   "metadata": {},
   "outputs": [
    {
     "data": {
      "text/plain": [
       "dict_values([19000, 22000, 8000])"
      ]
     },
     "execution_count": 29,
     "metadata": {},
     "output_type": "execute_result"
    }
   ],
   "source": [
    "prices.values() # 값만 출력하기"
   ]
  },
  {
   "cell_type": "code",
   "execution_count": 30,
   "id": "24f4e13e",
   "metadata": {},
   "outputs": [
    {
     "data": {
      "text/plain": [
       "dict_items([('치킨', 19000), ('피자', 22000), ('짜장면', 8000)])"
      ]
     },
     "execution_count": 30,
     "metadata": {},
     "output_type": "execute_result"
    }
   ],
   "source": [
    "prices.items() # 쌍으로 모두 출력하기"
   ]
  },
  {
   "cell_type": "code",
   "execution_count": 31,
   "id": "ab8a4c57",
   "metadata": {},
   "outputs": [],
   "source": [
    "prices.clear()"
   ]
  },
  {
   "cell_type": "code",
   "execution_count": 32,
   "id": "6b17a7dd",
   "metadata": {},
   "outputs": [
    {
     "name": "stdout",
     "output_type": "stream",
     "text": [
      "{}\n"
     ]
    }
   ],
   "source": [
    "print(prices)"
   ]
  },
  {
   "cell_type": "code",
   "execution_count": 33,
   "id": "6e81a63c",
   "metadata": {},
   "outputs": [
    {
     "name": "stdout",
     "output_type": "stream",
     "text": [
      "{'치킨': 19000, '피자': 22000, '짜장면': 8000}\n"
     ]
    }
   ],
   "source": [
    "prices = {\"치킨\" : 19000, \"피자\" : 22000, \"짜장면\" : 8000}\n",
    "print(prices)"
   ]
  },
  {
   "cell_type": "code",
   "execution_count": 35,
   "id": "76dccc1e",
   "metadata": {},
   "outputs": [
    {
     "data": {
      "text/plain": [
       "True"
      ]
     },
     "execution_count": 35,
     "metadata": {},
     "output_type": "execute_result"
    }
   ],
   "source": [
    "## in은 Key를 검사한다.\n",
    "\"치킨\" in prices"
   ]
  },
  {
   "cell_type": "code",
   "execution_count": 36,
   "id": "5bb8db3d",
   "metadata": {},
   "outputs": [
    {
     "data": {
      "text/plain": [
       "False"
      ]
     },
     "execution_count": 36,
     "metadata": {},
     "output_type": "execute_result"
    }
   ],
   "source": [
    "\"짬뽕\" in prices"
   ]
  }
 ],
 "metadata": {
  "kernelspec": {
   "display_name": "Python 3",
   "language": "python",
   "name": "python3"
  },
  "language_info": {
   "codemirror_mode": {
    "name": "ipython",
    "version": 3
   },
   "file_extension": ".py",
   "mimetype": "text/x-python",
   "name": "python",
   "nbconvert_exporter": "python",
   "pygments_lexer": "ipython3",
   "version": "3.9.5"
  }
 },
 "nbformat": 4,
 "nbformat_minor": 5
}
