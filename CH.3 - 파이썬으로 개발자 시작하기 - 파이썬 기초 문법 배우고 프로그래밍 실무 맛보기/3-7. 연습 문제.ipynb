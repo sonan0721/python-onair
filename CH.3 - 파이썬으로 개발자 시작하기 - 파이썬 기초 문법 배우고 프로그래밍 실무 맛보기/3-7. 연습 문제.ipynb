{
 "cells": [
  {
   "attachments": {},
   "cell_type": "markdown",
   "id": "d9e770d8",
   "metadata": {},
   "source": [
    "### 39가 홀수인지 짝수인지 어떻게 하면 알 수 있을까요?"
   ]
  },
  {
   "cell_type": "code",
   "execution_count": null,
   "id": "e549a822",
   "metadata": {},
   "outputs": [],
   "source": []
  },
  {
   "attachments": {},
   "cell_type": "markdown",
   "id": "db59d1a9",
   "metadata": {},
   "source": [
    "### 13, 80, 37 의 평균을 프로그래밍 하시오."
   ]
  },
  {
   "cell_type": "code",
   "execution_count": null,
   "id": "bf026193",
   "metadata": {},
   "outputs": [],
   "source": []
  },
  {
   "attachments": {},
   "cell_type": "markdown",
   "id": "8ce82b63",
   "metadata": {},
   "source": [
    "### 1897이 7의 배수라는 걸 어떻게 알 수 있을까요?"
   ]
  },
  {
   "cell_type": "code",
   "execution_count": null,
   "id": "5e35bf5f",
   "metadata": {},
   "outputs": [],
   "source": []
  },
  {
   "cell_type": "markdown",
   "id": "ec475147",
   "metadata": {},
   "source": [
    "```\n",
    "a = “3”\n",
    "b = “6”\n",
    "print(a+b)  \n",
    "```\n",
    "다음 결과는"
   ]
  },
  {
   "cell_type": "code",
   "execution_count": null,
   "id": "6409d71b",
   "metadata": {},
   "outputs": [],
   "source": []
  },
  {
   "attachments": {},
   "cell_type": "markdown",
   "id": "cea4775b",
   "metadata": {},
   "source": [
    "### 화면에 ‘=‘ 를 60개 출력 해보세요."
   ]
  },
  {
   "cell_type": "code",
   "execution_count": null,
   "id": "ba9a8afe",
   "metadata": {},
   "outputs": [],
   "source": []
  },
  {
   "attachments": {},
   "cell_type": "markdown",
   "id": "b6fc9ee9",
   "metadata": {},
   "source": [
    "### date = “2021-01-01” 해당 데이터를 연/월/일로 분리"
   ]
  },
  {
   "cell_type": "code",
   "execution_count": null,
   "id": "60133976",
   "metadata": {},
   "outputs": [],
   "source": []
  },
  {
   "cell_type": "markdown",
   "id": "29290fe0",
   "metadata": {},
   "source": [
    "### str = “#c#a#r#e#e#r#l#y”#을 제거"
   ]
  },
  {
   "cell_type": "code",
   "execution_count": null,
   "id": "9d750e8d",
   "metadata": {},
   "outputs": [],
   "source": []
  },
  {
   "attachments": {},
   "cell_type": "markdown",
   "id": "67c52299",
   "metadata": {},
   "source": [
    "### `l = [2,7,1,5,9,0]` 를 정렬"
   ]
  },
  {
   "cell_type": "code",
   "execution_count": null,
   "id": "129e24c2",
   "metadata": {},
   "outputs": [],
   "source": []
  },
  {
   "attachments": {},
   "cell_type": "markdown",
   "id": "d0b6fa2d",
   "metadata": {},
   "source": [
    "### 두 리스트를 합쳐서 0-9로 만들어 보세요.\n",
    "```l1 = [2,7,1,5,9,0]\n",
    "l2 = [3,4,6,8]```"
   ]
  },
  {
   "cell_type": "code",
   "execution_count": null,
   "id": "34d0b1a0",
   "metadata": {},
   "outputs": [],
   "source": []
  },
  {
   "attachments": {},
   "cell_type": "markdown",
   "id": "0708e7e2",
   "metadata": {},
   "source": [
    "```\n",
    "job = { “위치” : “판교”, \n",
    "             “연봉” : “5000”, \n",
    "             “직종” : “개발직”} \n",
    "```\n",
    "### job에서 연봉/위치/직종 정보를 출력해보세요."
   ]
  },
  {
   "cell_type": "code",
   "execution_count": null,
   "id": "9af70b7a",
   "metadata": {},
   "outputs": [],
   "source": []
  }
 ],
 "metadata": {
  "kernelspec": {
   "display_name": "Python 3",
   "language": "python",
   "name": "python3"
  },
  "language_info": {
   "codemirror_mode": {
    "name": "ipython",
    "version": 3
   },
   "file_extension": ".py",
   "mimetype": "text/x-python",
   "name": "python",
   "nbconvert_exporter": "python",
   "pygments_lexer": "ipython3",
   "version": "3.9.4"
  }
 },
 "nbformat": 4,
 "nbformat_minor": 5
}
