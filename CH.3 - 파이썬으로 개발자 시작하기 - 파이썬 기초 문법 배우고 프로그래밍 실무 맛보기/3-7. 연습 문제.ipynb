{
 "cells": [
  {
   "cell_type": "markdown",
   "id": "d9e770d8",
   "metadata": {},
   "source": [
    "### 39가 홀수인지 짝수인지 어떻게 하면 알 수 있을까요?"
   ]
  },
  {
   "cell_type": "code",
   "execution_count": 4,
   "id": "e549a822",
   "metadata": {},
   "outputs": [
    {
     "name": "stdout",
     "output_type": "stream",
     "text": [
      "True\n"
     ]
    }
   ],
   "source": [
    "t = 39\n",
    "# 홀수는 2로 나웠을 때 나머지가 1인 수이기 때문에\n",
    "# 홀수라면 True, 짝수라면 False가 나온다.\n",
    "print((t % 2) == 1) "
   ]
  },
  {
   "cell_type": "code",
   "execution_count": 5,
   "id": "8e6136d0",
   "metadata": {},
   "outputs": [
    {
     "name": "stdout",
     "output_type": "stream",
     "text": [
      "아무 숫자나 적어주세요 : 712784\n",
      "False\n"
     ]
    }
   ],
   "source": [
    "# 일반화 하기\n",
    "t = int(input(\"아무 숫자나 적어주세요 : \"))\n",
    "print((t % 2) == 1)"
   ]
  },
  {
   "cell_type": "markdown",
   "id": "db59d1a9",
   "metadata": {},
   "source": [
    "### 13, 80, 37 의 평균을 프로그래밍 하시오."
   ]
  },
  {
   "cell_type": "code",
   "execution_count": 6,
   "id": "bf026193",
   "metadata": {},
   "outputs": [],
   "source": [
    "# 평균은 합 / 갯수 이므로 쉽게 구현할 수 있다.\n",
    "avg = (13+80+37)/3"
   ]
  },
  {
   "cell_type": "markdown",
   "id": "36f6feeb",
   "metadata": {},
   "source": [
    "### 만약에 좀더 숫자들이 많아지면 어떻게 될까?\n",
    "`avg = (13+80+37+......... <- 계속 늘어난다.)/ (갯수)` 가 되서 그때 그때 바꿔줘야한다."
   ]
  },
  {
   "cell_type": "code",
   "execution_count": 8,
   "id": "d446a93b",
   "metadata": {},
   "outputs": [
    {
     "name": "stdout",
     "output_type": "stream",
     "text": [
      "56.0\n"
     ]
    }
   ],
   "source": [
    "# 리스트를 이용하자!\n",
    "# l에 어떤수가 계속 추가되도, 평균을 쉽게 구할 수 있다. \n",
    "l = [13,80,37, 81, 3, 45,133]\n",
    "\n",
    "print(sum(l)/len(l))"
   ]
  },
  {
   "cell_type": "markdown",
   "id": "8ce82b63",
   "metadata": {},
   "source": [
    "### 1897이 7의 배수라는 걸 어떻게 알 수 있을까요?"
   ]
  },
  {
   "cell_type": "code",
   "execution_count": 9,
   "id": "5e35bf5f",
   "metadata": {},
   "outputs": [
    {
     "name": "stdout",
     "output_type": "stream",
     "text": [
      "True\n"
     ]
    }
   ],
   "source": [
    "# 배수의 정의는 완전히 나누어 떨어지는 수를 의미한다.\n",
    "# 나머지 연산을 이용하자.\n",
    "\n",
    "# 7로 나눠서 나머지가 0이면 배수다!\n",
    "\n",
    "print(1897%7 == 0)"
   ]
  },
  {
   "cell_type": "markdown",
   "id": "ec475147",
   "metadata": {},
   "source": [
    "## 다음 결과는?\n",
    "`a = “3”`\n",
    "\n",
    "`b = “6”`\n",
    "\n",
    "`print(a+b)  `\n"
   ]
  },
  {
   "cell_type": "code",
   "execution_count": 12,
   "id": "6409d71b",
   "metadata": {},
   "outputs": [
    {
     "name": "stdout",
     "output_type": "stream",
     "text": [
      "36\n"
     ]
    }
   ],
   "source": [
    "# 3+6 = 9??? 결과는 전혀 다르다.\n",
    "a = \"3\"\n",
    "b = \"6\"\n",
    "print(a+b)"
   ]
  },
  {
   "cell_type": "code",
   "execution_count": 13,
   "id": "39d8116a",
   "metadata": {},
   "outputs": [
    {
     "name": "stdout",
     "output_type": "stream",
     "text": [
      "hi\n"
     ]
    }
   ],
   "source": [
    "# 문자열 합에 속한다.\n",
    "c = \"h\"\n",
    "d = \"i\"\n",
    "print(c+d)"
   ]
  },
  {
   "cell_type": "code",
   "execution_count": 14,
   "id": "1ea6d950",
   "metadata": {},
   "outputs": [
    {
     "name": "stdout",
     "output_type": "stream",
     "text": [
      "9\n"
     ]
    }
   ],
   "source": [
    "# 실제로 하려면 a,b를 숫자로 표현해야한다.\n",
    "a = 3\n",
    "b = 6\n",
    "print(a+b)"
   ]
  },
  {
   "cell_type": "markdown",
   "id": "cea4775b",
   "metadata": {},
   "source": [
    "### 화면에 ‘=‘ 를 60개 출력 해보세요."
   ]
  },
  {
   "cell_type": "code",
   "execution_count": 15,
   "id": "ba9a8afe",
   "metadata": {},
   "outputs": [
    {
     "data": {
      "text/plain": [
       "'============================================================'"
      ]
     },
     "execution_count": 15,
     "metadata": {},
     "output_type": "execute_result"
    }
   ],
   "source": [
    "# 문자열의 곱(*) 연산을 이용한다.\n",
    "\"=\" * 60"
   ]
  },
  {
   "cell_type": "markdown",
   "id": "b6fc9ee9",
   "metadata": {},
   "source": [
    "### date = “2021-01-01” 해당 데이터를 연/월/일로 분리"
   ]
  },
  {
   "cell_type": "code",
   "execution_count": 16,
   "id": "60133976",
   "metadata": {},
   "outputs": [],
   "source": [
    "# 먼저 날짜를 선언\n",
    "date = \"2021-01-01\"\n",
    "\n",
    "# 날짜는 아래와 같이 다양한 방식으로 선언될 수 있지만, \n",
    "# 큰 특징은 연/월/일을 기준으로 나뉜다는것!\n",
    "date1 = \"2021/01/01\"\n",
    "date2 = \"2021.01.01\""
   ]
  },
  {
   "cell_type": "code",
   "execution_count": 17,
   "id": "a9624ae5",
   "metadata": {},
   "outputs": [
    {
     "data": {
      "text/plain": [
       "['2021', '01', '01']"
      ]
     },
     "execution_count": 17,
     "metadata": {},
     "output_type": "execute_result"
    }
   ],
   "source": [
    "# split을 이용한다. (문자열을 특정 문자로 쪼개는함수)\n",
    "date.split(\"-\")"
   ]
  },
  {
   "cell_type": "code",
   "execution_count": 18,
   "id": "a54e4777",
   "metadata": {},
   "outputs": [
    {
     "name": "stdout",
     "output_type": "stream",
     "text": [
      "2021\n",
      "01\n",
      "01\n"
     ]
    }
   ],
   "source": [
    "# 쪼갠 결과값이 List이므로, [] 인덱싱을 이용해 각각 값을 가져오면된다.\n",
    "year = date.split(\"-\")[0]\n",
    "month = date.split(\"-\")[1]\n",
    "day = date.split(\"-\")[2]\n",
    "print(year)\n",
    "print(month)\n",
    "print(day)"
   ]
  },
  {
   "cell_type": "markdown",
   "id": "29290fe0",
   "metadata": {},
   "source": [
    "### str = “#c#a#r#e#e#r#l#y”#을 제거"
   ]
  },
  {
   "cell_type": "code",
   "execution_count": 19,
   "id": "9d750e8d",
   "metadata": {},
   "outputs": [
    {
     "name": "stdout",
     "output_type": "stream",
     "text": [
      "careerly\n"
     ]
    }
   ],
   "source": [
    "# replace로 빈문자로 치환이 가능하다.\n",
    "s = \"#c#a#r#e#e#r#l#y\"\n",
    "print(s.replace(\"#\",\"\"))"
   ]
  },
  {
   "cell_type": "markdown",
   "id": "67c52299",
   "metadata": {},
   "source": [
    "### `l = [2,7,1,5,9,0]` 를 정렬"
   ]
  },
  {
   "cell_type": "code",
   "execution_count": 20,
   "id": "129e24c2",
   "metadata": {},
   "outputs": [],
   "source": [
    "l = [2,7,1,5,9,0]"
   ]
  },
  {
   "cell_type": "code",
   "execution_count": 22,
   "id": "69fa6624",
   "metadata": {},
   "outputs": [
    {
     "name": "stdout",
     "output_type": "stream",
     "text": [
      "[0, 1, 2, 5, 7, 9]\n"
     ]
    }
   ],
   "source": [
    "# 정렬함수를 이용해 쉽게 해결\n",
    "l.sort()\n",
    "print(l)"
   ]
  },
  {
   "cell_type": "code",
   "execution_count": 23,
   "id": "be3168e7",
   "metadata": {},
   "outputs": [
    {
     "name": "stdout",
     "output_type": "stream",
     "text": [
      "[9, 7, 5, 2, 1, 0]\n"
     ]
    }
   ],
   "source": [
    "# 만약 역순 정렬이라면\n",
    "l.reverse()\n",
    "print(l)"
   ]
  },
  {
   "attachments": {},
   "cell_type": "markdown",
   "id": "d0b6fa2d",
   "metadata": {},
   "source": [
    "### 이 두개의 리스트를 합쳐서 하나의 정렬된 리스트인 [0,1,2,3,4,5,6,7,8,9]를 만들어보세요.\n",
    "```l1 = [2,7,1,5,9,0]\n",
    "l2 = [3,4,6,8]```"
   ]
  },
  {
   "cell_type": "code",
   "execution_count": 26,
   "id": "34d0b1a0",
   "metadata": {},
   "outputs": [
    {
     "name": "stdout",
     "output_type": "stream",
     "text": [
      "[0, 1, 2, 3, 4, 5, 6, 7, 8, 9]\n"
     ]
    }
   ],
   "source": [
    "l1 = [2,7,1,5,9,0]\n",
    "l2 = [3,4,6,8]\n",
    "# 리스트의 합(+) 연산을 이용한다.\n",
    "suml = l1+l2\n",
    "# 그리고, 정렬한다. \n",
    "suml.sort()\n",
    "print(suml)"
   ]
  },
  {
   "cell_type": "markdown",
   "id": "0708e7e2",
   "metadata": {},
   "source": [
    "### job에서 연봉/위치/직종 정보를 출력해보세요.\n",
    "`job = { “위치” : “판교”,`\n",
    "\n",
    "`             “연봉” : “5000”, `\n",
    "\n",
    "`             “직종” : “개발직”} `\n"
   ]
  },
  {
   "cell_type": "code",
   "execution_count": 27,
   "id": "9af70b7a",
   "metadata": {},
   "outputs": [],
   "source": [
    "job = {\"위치\":\"판교\", \"연봉\":\"5000\", \"직종\":\"개발직\"}"
   ]
  },
  {
   "cell_type": "code",
   "execution_count": 28,
   "id": "c6372f3c",
   "metadata": {},
   "outputs": [
    {
     "name": "stdout",
     "output_type": "stream",
     "text": [
      "dict_keys(['위치', '연봉', '직종'])\n",
      "dict_values(['판교', '5000', '개발직'])\n"
     ]
    }
   ],
   "source": [
    "print(job.keys())\n",
    "print(job.values())"
   ]
  },
  {
   "cell_type": "code",
   "execution_count": 29,
   "id": "335c548d",
   "metadata": {},
   "outputs": [
    {
     "name": "stdout",
     "output_type": "stream",
     "text": [
      "위치 : 판교\n",
      "연봉 : 5000\n",
      "직종 : 개발직\n"
     ]
    }
   ],
   "source": [
    "## 쉽게 접근하면 된다.\n",
    "print(\"위치 : \" + job[\"위치\"])\n",
    "print(\"연봉 : \" + job[\"연봉\"])\n",
    "print(\"직종 : \" + job[\"직종\"])\n"
   ]
  }
 ],
 "metadata": {
  "kernelspec": {
   "display_name": "Python 3",
   "language": "python",
   "name": "python3"
  },
  "language_info": {
   "codemirror_mode": {
    "name": "ipython",
    "version": 3
   },
   "file_extension": ".py",
   "mimetype": "text/x-python",
   "name": "python",
   "nbconvert_exporter": "python",
   "pygments_lexer": "ipython3",
   "version": "3.9.5"
  }
 },
 "nbformat": 4,
 "nbformat_minor": 5
}
