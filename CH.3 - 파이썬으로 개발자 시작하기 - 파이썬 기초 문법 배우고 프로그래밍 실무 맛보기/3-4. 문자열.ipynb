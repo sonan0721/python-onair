{
 "cells": [
  {
   "cell_type": "markdown",
   "id": "acc81681",
   "metadata": {},
   "source": [
    "## 문자열을 만드는 방법\n",
    "\n",
    "1. `\"` 큰따움표\n",
    "2. `'` 작은 따움표\n",
    "3. `\"\"\"` 큰따움표 세개\n",
    "4. 엔터를 나타내는 특수 기호 `\\n`"
   ]
  },
  {
   "cell_type": "code",
   "execution_count": 1,
   "id": "11768999",
   "metadata": {},
   "outputs": [
    {
     "name": "stdout",
     "output_type": "stream",
     "text": [
      "퍼블리\n"
     ]
    }
   ],
   "source": [
    "s = '퍼블리'\n",
    "print(s)"
   ]
  },
  {
   "cell_type": "code",
   "execution_count": 3,
   "id": "d29a90a9",
   "metadata": {},
   "outputs": [
    {
     "name": "stdout",
     "output_type": "stream",
     "text": [
      "커리어리\n"
     ]
    }
   ],
   "source": [
    "ss = \"커리어리\"\n",
    "print(ss)"
   ]
  },
  {
   "cell_type": "code",
   "execution_count": 4,
   "id": "74c964b8",
   "metadata": {},
   "outputs": [
    {
     "name": "stdout",
     "output_type": "stream",
     "text": [
      "커리어리's 스킬업\n"
     ]
    }
   ],
   "source": [
    "sss = '커리어리\\'s 스킬업'\n",
    "print(sss)"
   ]
  },
  {
   "cell_type": "code",
   "execution_count": 6,
   "id": "cd6b054f",
   "metadata": {},
   "outputs": [
    {
     "name": "stdout",
     "output_type": "stream",
     "text": [
      "철수가 말했다 : \"안녕\"\n"
     ]
    }
   ],
   "source": [
    "ssss = \"철수가 말했다 : \\\"안녕\\\"\"\n",
    "print(ssss)"
   ]
  },
  {
   "cell_type": "code",
   "execution_count": 9,
   "id": "bb14df50",
   "metadata": {},
   "outputs": [
    {
     "name": "stdout",
     "output_type": "stream",
     "text": [
      "퍼블리\n",
      "커리어리\n",
      "스킬업\n"
     ]
    }
   ],
   "source": [
    "c = \"퍼블리\\n커리어리\\n스킬업\"\n",
    "print(c)"
   ]
  },
  {
   "cell_type": "code",
   "execution_count": 11,
   "id": "b292d452",
   "metadata": {},
   "outputs": [
    {
     "name": "stdout",
     "output_type": "stream",
     "text": [
      "피카츄 백만볼트!!!\n"
     ]
    }
   ],
   "source": [
    "s = \"피카츄 백만볼트!!!\"\n",
    "print(s)"
   ]
  },
  {
   "cell_type": "code",
   "execution_count": 12,
   "id": "8c5200ec",
   "metadata": {},
   "outputs": [
    {
     "name": "stdout",
     "output_type": "stream",
     "text": [
      "\n",
      "1. 커리어리\n",
      "2. 퍼블리\n",
      "\n"
     ]
    }
   ],
   "source": [
    "c = \"\"\"\n",
    "1. 커리어리\n",
    "2. 퍼블리\n",
    "\"\"\"\n",
    "print(c)"
   ]
  },
  {
   "cell_type": "markdown",
   "id": "d856a5c8",
   "metadata": {},
   "source": [
    "## 문자열 인덱싱과 슬라이싱\n",
    "\n",
    "`[숫자]` : **인덱싱**,\n",
    "특정 위치에 있는 문자를 가져옵니다.\n",
    "\n",
    "`[숫자:숫자]` : **슬라이싱**,\n",
    "특정 위치부터 문자들을 가져옵니다."
   ]
  },
  {
   "cell_type": "code",
   "execution_count": 17,
   "id": "c4b9f13a",
   "metadata": {},
   "outputs": [
    {
     "name": "stdout",
     "output_type": "stream",
     "text": [
      "2\n",
      "퍼블리\n"
     ]
    }
   ],
   "source": [
    "print(c[9]) # c에 9번째칸에 있는 문자를 가져옵니다. \n",
    "print(c[12:15]) #c에서 12~15문자들을 가져옵니다."
   ]
  },
  {
   "cell_type": "code",
   "execution_count": 18,
   "id": "426bbe88",
   "metadata": {},
   "outputs": [],
   "source": [
    "addr = 'https://publy.co'"
   ]
  },
  {
   "cell_type": "code",
   "execution_count": 35,
   "id": "49120db6",
   "metadata": {
    "scrolled": true
   },
   "outputs": [
    {
     "data": {
      "text/plain": [
       "':'"
      ]
     },
     "execution_count": 35,
     "metadata": {},
     "output_type": "execute_result"
    }
   ],
   "source": [
    "addr[5] # 앞에서 5칸"
   ]
  },
  {
   "cell_type": "code",
   "execution_count": 47,
   "id": "c43dea94",
   "metadata": {},
   "outputs": [
    {
     "data": {
      "text/plain": [
       "'publy.co'"
      ]
     },
     "execution_count": 47,
     "metadata": {},
     "output_type": "execute_result"
    }
   ],
   "source": [
    "addr[8:] # 8번부터 끝까지"
   ]
  },
  {
   "cell_type": "code",
   "execution_count": 48,
   "id": "18755d2d",
   "metadata": {},
   "outputs": [
    {
     "data": {
      "text/plain": [
       "'https://publy.co'"
      ]
     },
     "execution_count": 48,
     "metadata": {},
     "output_type": "execute_result"
    }
   ],
   "source": [
    "addr[:] # 전부다"
   ]
  },
  {
   "cell_type": "code",
   "execution_count": 61,
   "id": "e363e58c",
   "metadata": {},
   "outputs": [
    {
     "name": "stdout",
     "output_type": "stream",
     "text": [
      ".co\n"
     ]
    }
   ],
   "source": [
    "domain = addr[-3:]\n",
    "print(domain)"
   ]
  },
  {
   "cell_type": "markdown",
   "id": "b4914d93",
   "metadata": {},
   "source": [
    "### 문자열 관련 함수\n",
    "- `+`, `*`\n",
    "- find 찾기\n",
    "- replace로 대체하기\n",
    "- count 갯수 세기\n",
    "- upper /lower 소문/대문자\n",
    "- len으로 길이 구하기\n",
    "- islower, startswith 등의 문자열 검사 함수"
   ]
  },
  {
   "cell_type": "code",
   "execution_count": 21,
   "id": "5ffeb7bf",
   "metadata": {},
   "outputs": [
    {
     "name": "stdout",
     "output_type": "stream",
     "text": [
      "커리어리 스킬업\n"
     ]
    }
   ],
   "source": [
    "# 덧셈(+)\n",
    "s = \"커리어리\" + \" \" + \"스킬업\"\n",
    "print(s)"
   ]
  },
  {
   "cell_type": "code",
   "execution_count": 23,
   "id": "37cc262f",
   "metadata": {},
   "outputs": [
    {
     "name": "stdout",
     "output_type": "stream",
     "text": [
      "커리어리커리어리커리어리커리어리커리어리커리어리커리어리커리어리커리어리커리어리\n"
     ]
    }
   ],
   "source": [
    "# 곱셈(*)\n",
    "s = \"커리어리\"*10\n",
    "print(s)"
   ]
  },
  {
   "cell_type": "code",
   "execution_count": 25,
   "id": "a919eb10",
   "metadata": {},
   "outputs": [
    {
     "data": {
      "text/plain": [
       "2"
      ]
     },
     "execution_count": 25,
     "metadata": {},
     "output_type": "execute_result"
    }
   ],
   "source": [
    "# find : 문자를 찾기\n",
    "s.find(\"어리\")"
   ]
  },
  {
   "cell_type": "code",
   "execution_count": 35,
   "id": "c5ed04ee",
   "metadata": {},
   "outputs": [
    {
     "name": "stdout",
     "output_type": "stream",
     "text": [
      "라이츄 백만볼트!!!\n"
     ]
    }
   ],
   "source": [
    "# replace로 문자열 내용을 바꾸기\n",
    "s = \"피카츄 백만볼트!!!\"\n",
    "l = s.replace(\"피카츄\", \"라이츄\")\n",
    "print(l)"
   ]
  },
  {
   "cell_type": "code",
   "execution_count": 29,
   "id": "84d479bf",
   "metadata": {},
   "outputs": [
    {
     "data": {
      "text/plain": [
       "3"
      ]
     },
     "execution_count": 29,
     "metadata": {},
     "output_type": "execute_result"
    }
   ],
   "source": [
    "# 특정 문자의 갯수를 구하기\n",
    "s.count(\"!\")\n"
   ]
  },
  {
   "cell_type": "code",
   "execution_count": 31,
   "id": "b584e99a",
   "metadata": {},
   "outputs": [],
   "source": [
    "p = \"Publy Careerly\""
   ]
  },
  {
   "cell_type": "code",
   "execution_count": 32,
   "id": "3738fedc",
   "metadata": {},
   "outputs": [
    {
     "data": {
      "text/plain": [
       "'publy careerly'"
      ]
     },
     "execution_count": 32,
     "metadata": {},
     "output_type": "execute_result"
    }
   ],
   "source": [
    "# 문자를 소문자로 만들기\n",
    "p.lower()"
   ]
  },
  {
   "cell_type": "code",
   "execution_count": 36,
   "id": "63733fab",
   "metadata": {},
   "outputs": [
    {
     "data": {
      "text/plain": [
       "'PUBLY CAREERLY'"
      ]
     },
     "execution_count": 36,
     "metadata": {},
     "output_type": "execute_result"
    }
   ],
   "source": [
    "# 문자를 대문자로 만들기\n",
    "p.upper()\n"
   ]
  },
  {
   "cell_type": "code",
   "execution_count": 38,
   "id": "12f2db6b",
   "metadata": {},
   "outputs": [
    {
     "name": "stdout",
     "output_type": "stream",
     "text": [
      "Publy Careerly\n"
     ]
    }
   ],
   "source": [
    "# lower랑 upper는 문자열안에 내용을 바꾸진 않음\n",
    "# p를 다시 출력하면 원본이 존재합니다.\n",
    "print(p)\n"
   ]
  },
  {
   "cell_type": "code",
   "execution_count": 39,
   "id": "fa87e55c",
   "metadata": {},
   "outputs": [
    {
     "data": {
      "text/plain": [
       "14"
      ]
     },
     "execution_count": 39,
     "metadata": {},
     "output_type": "execute_result"
    }
   ],
   "source": [
    "# len 문자열의 길이를 구하기\n",
    "len(p)"
   ]
  },
  {
   "cell_type": "code",
   "execution_count": 40,
   "id": "fb63f1a3",
   "metadata": {},
   "outputs": [
    {
     "name": "stdout",
     "output_type": "stream",
     "text": [
      "피카츄 백만볼트!!!\n",
      "True\n",
      "라이츄 백만볼트!!!\n",
      "False\n"
     ]
    }
   ],
   "source": [
    "print(s)\n",
    "# s가 피카츄로 시작하나요?\n",
    "print(s.startswith(\"피카츄\")) \n",
    "\n",
    "print(l)\n",
    "# l이 피카츄로 시작하나요?\n",
    "print(l.startswith(\"피카츄\"))"
   ]
  },
  {
   "cell_type": "code",
   "execution_count": 41,
   "id": "944662d9",
   "metadata": {},
   "outputs": [
    {
     "name": "stdout",
     "output_type": "stream",
     "text": [
      "Publy Careerly\n",
      "False\n",
      "publy careerly\n",
      "True\n"
     ]
    }
   ],
   "source": [
    "# p가 소문자로만 되어있나요?\n",
    "print(p)\n",
    "print(p.islower())\n",
    "\n",
    "pp = p.lower()\n",
    "## pp는 소문자로만 되어있나요?\n",
    "print(pp)\n",
    "print(pp.islower())\n"
   ]
  }
 ],
 "metadata": {
  "kernelspec": {
   "display_name": "Python 3",
   "language": "python",
   "name": "python3"
  },
  "language_info": {
   "codemirror_mode": {
    "name": "ipython",
    "version": 3
   },
   "file_extension": ".py",
   "mimetype": "text/x-python",
   "name": "python",
   "nbconvert_exporter": "python",
   "pygments_lexer": "ipython3",
   "version": "3.9.5"
  }
 },
 "nbformat": 4,
 "nbformat_minor": 5
}
