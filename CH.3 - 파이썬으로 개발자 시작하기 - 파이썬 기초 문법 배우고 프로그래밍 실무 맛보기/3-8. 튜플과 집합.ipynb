{
 "cells": [
  {
   "cell_type": "markdown",
   "id": "23f12722",
   "metadata": {},
   "source": [
    "### 튜플 선언 방법\n",
    "`(`, `)`\n"
   ]
  },
  {
   "cell_type": "code",
   "execution_count": 1,
   "id": "8ca656c6",
   "metadata": {},
   "outputs": [],
   "source": [
    "a = (3,5)"
   ]
  },
  {
   "cell_type": "markdown",
   "id": "e0433001",
   "metadata": {},
   "source": [
    "### 튜플 다루기\n",
    "- 삭제 (del)\n",
    "- 인덱싱([])\n",
    "- 슬라이싱(:)\n",
    "- 더하기(+)\n",
    "- 곱하기(*)\n",
    "- 길이 구하기(len)"
   ]
  },
  {
   "cell_type": "code",
   "execution_count": null,
   "id": "d2ec35e1",
   "metadata": {},
   "outputs": [],
   "source": []
  },
  {
   "cell_type": "markdown",
   "id": "0c429506",
   "metadata": {},
   "source": [
    "### 리스트와 튜플이 다른점\n",
    "- 값을 바꿀수 없다.\n"
   ]
  },
  {
   "cell_type": "code",
   "execution_count": null,
   "id": "450a4269",
   "metadata": {},
   "outputs": [],
   "source": []
  },
  {
   "cell_type": "markdown",
   "id": "b5f7b92a",
   "metadata": {},
   "source": [
    "### 집합\n",
    "`{`, `}` 이용"
   ]
  },
  {
   "cell_type": "code",
   "execution_count": null,
   "id": "40a23444",
   "metadata": {},
   "outputs": [],
   "source": []
  },
  {
   "cell_type": "markdown",
   "id": "3aadae6d",
   "metadata": {},
   "source": [
    "### 중복 요소를 지울 때 사용\n",
    "리스트 -> set 으로 바꾸면 중복된게 없어진다."
   ]
  },
  {
   "cell_type": "code",
   "execution_count": null,
   "id": "4ce65385",
   "metadata": {},
   "outputs": [],
   "source": []
  },
  {
   "cell_type": "markdown",
   "id": "968e435b",
   "metadata": {},
   "source": [
    "### 집합 다루기\n",
    "- 교집합 (&)\n",
    "- 합집합 (|)\n",
    "- 차집합 (-)\n",
    "- 값 추가 (add)\n",
    "- 값 여러개 추가(update)\n",
    "- 값 제거 (remove)"
   ]
  },
  {
   "cell_type": "code",
   "execution_count": null,
   "id": "ddedbf5c",
   "metadata": {},
   "outputs": [],
   "source": []
  },
  {
   "cell_type": "code",
   "execution_count": null,
   "id": "68811bcd",
   "metadata": {},
   "outputs": [],
   "source": []
  }
 ],
 "metadata": {
  "kernelspec": {
   "display_name": "Python 3",
   "language": "python",
   "name": "python3"
  },
  "language_info": {
   "codemirror_mode": {
    "name": "ipython",
    "version": 3
   },
   "file_extension": ".py",
   "mimetype": "text/x-python",
   "name": "python",
   "nbconvert_exporter": "python",
   "pygments_lexer": "ipython3",
   "version": "3.9.4"
  }
 },
 "nbformat": 4,
 "nbformat_minor": 5
}
