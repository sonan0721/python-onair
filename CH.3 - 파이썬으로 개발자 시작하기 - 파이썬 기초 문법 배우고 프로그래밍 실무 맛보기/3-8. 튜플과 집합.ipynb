{
 "cells": [
  {
   "cell_type": "markdown",
   "id": "23f12722",
   "metadata": {},
   "source": [
    "### 튜플 선언 방법\n",
    "`(`, `)`\n"
   ]
  },
  {
   "cell_type": "code",
   "execution_count": 1,
   "id": "8ca656c6",
   "metadata": {},
   "outputs": [],
   "source": [
    "t = (1,3,5,7,9)"
   ]
  },
  {
   "cell_type": "markdown",
   "id": "544c466f",
   "metadata": {},
   "source": [
    "튜플의 특징은, 각 요소를 바로 변수에 넣을 수 있다는 점"
   ]
  },
  {
   "cell_type": "code",
   "execution_count": 4,
   "id": "0309ed5e",
   "metadata": {},
   "outputs": [
    {
     "name": "stdout",
     "output_type": "stream",
     "text": [
      "개발자\n",
      "5000\n",
      "강남\n"
     ]
    }
   ],
   "source": [
    "name, price, location = (\"개발자\", 5000, \"강남\")\n",
    "print(name)\n",
    "print(price)\n",
    "print(location)"
   ]
  },
  {
   "cell_type": "markdown",
   "id": "0c429506",
   "metadata": {},
   "source": [
    "### 리스트와 튜플이 다른점\n",
    "- 값을 바꿀수 없다.\n"
   ]
  },
  {
   "cell_type": "markdown",
   "id": "b5f7b92a",
   "metadata": {},
   "source": [
    "### 집합\n",
    "`{`, `}` 이용"
   ]
  },
  {
   "cell_type": "code",
   "execution_count": 5,
   "id": "40a23444",
   "metadata": {},
   "outputs": [],
   "source": [
    "s = { 1,3,5,7,9 }"
   ]
  },
  {
   "cell_type": "markdown",
   "id": "3aadae6d",
   "metadata": {},
   "source": [
    "### 중복 요소를 지울 때 사용\n",
    "리스트 -> set 으로 바꾸면 중복된게 없어진다."
   ]
  },
  {
   "cell_type": "code",
   "execution_count": 6,
   "id": "4ce65385",
   "metadata": {},
   "outputs": [
    {
     "name": "stdout",
     "output_type": "stream",
     "text": [
      "{1, 3, 5}\n",
      "[1, 1, 1, 1, 1, 3, 4, 5, 5, 5, 5, 5]\n"
     ]
    }
   ],
   "source": [
    "s = { 1,1,1,1,1,1,1, 3,3,3,3,3,5,5,5}\n",
    "print(s)\n",
    "a = [1,1,1,1,1,3,4,5,5,5,5,5]\n",
    "print(a)"
   ]
  },
  {
   "cell_type": "code",
   "execution_count": 7,
   "id": "68811bcd",
   "metadata": {},
   "outputs": [
    {
     "data": {
      "text/plain": [
       "[1, 3, 4, 5]"
      ]
     },
     "execution_count": 7,
     "metadata": {},
     "output_type": "execute_result"
    }
   ],
   "source": [
    "# set으로 바꾸고, list화를 이용해, 중복값을 없앨 수 있다. \n",
    "list(set(a))"
   ]
  }
 ],
 "metadata": {
  "kernelspec": {
   "display_name": "Python 3",
   "language": "python",
   "name": "python3"
  },
  "language_info": {
   "codemirror_mode": {
    "name": "ipython",
    "version": 3
   },
   "file_extension": ".py",
   "mimetype": "text/x-python",
   "name": "python",
   "nbconvert_exporter": "python",
   "pygments_lexer": "ipython3",
   "version": "3.9.5"
  }
 },
 "nbformat": 4,
 "nbformat_minor": 5
}
