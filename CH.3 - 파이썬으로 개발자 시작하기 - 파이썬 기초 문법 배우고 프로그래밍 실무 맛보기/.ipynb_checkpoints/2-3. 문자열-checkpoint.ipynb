{
 "cells": [
  {
   "cell_type": "markdown",
   "id": "acc81681",
   "metadata": {},
   "source": [
    "## 문자열을 만드는 방법\n",
    "\n",
    "1. `\"` 큰따움표\n",
    "2. `'` 작은 따움표\n",
    "3. `\"\"\"` 큰따움표 세개\n"
   ]
  },
  {
   "cell_type": "code",
   "execution_count": 3,
   "id": "11768999",
   "metadata": {},
   "outputs": [
    {
     "name": "stdout",
     "output_type": "stream",
     "text": [
      "성공\n"
     ]
    }
   ],
   "source": [
    "result = \"성공\"\n",
    "print(result)"
   ]
  },
  {
   "cell_type": "code",
   "execution_count": 4,
   "id": "7315bcbc",
   "metadata": {},
   "outputs": [
    {
     "name": "stdout",
     "output_type": "stream",
     "text": [
      "성공\n"
     ]
    }
   ],
   "source": [
    "result = '성공'\n",
    "print(result)"
   ]
  },
  {
   "cell_type": "code",
   "execution_count": 5,
   "id": "91b1e663",
   "metadata": {},
   "outputs": [
    {
     "ename": "SyntaxError",
     "evalue": "EOL while scanning string literal (<ipython-input-5-601242def3ba>, line 1)",
     "output_type": "error",
     "traceback": [
      "\u001b[1;36m  File \u001b[1;32m\"<ipython-input-5-601242def3ba>\"\u001b[1;36m, line \u001b[1;32m1\u001b[0m\n\u001b[1;33m    result = '실패\u001b[0m\n\u001b[1;37m                ^\u001b[0m\n\u001b[1;31mSyntaxError\u001b[0m\u001b[1;31m:\u001b[0m EOL while scanning string literal\n"
     ]
    }
   ],
   "source": [
    "result = '실패\n",
    "연속'"
   ]
  },
  {
   "cell_type": "code",
   "execution_count": 7,
   "id": "5356e29e",
   "metadata": {},
   "outputs": [
    {
     "name": "stdout",
     "output_type": "stream",
     "text": [
      "실패\n",
      "연속\n"
     ]
    }
   ],
   "source": [
    "result = \"\"\"실패\n",
    "연속\"\"\"\n",
    "print(result)"
   ]
  },
  {
   "cell_type": "code",
   "execution_count": 8,
   "id": "cd561c1f",
   "metadata": {},
   "outputs": [
    {
     "name": "stdout",
     "output_type": "stream",
     "text": [
      "성공 '하였다'\n"
     ]
    }
   ],
   "source": [
    "# 큰따움표나 작은따움표 포함시키기\n",
    "result = \"성공 '하였다'\"\n",
    "print(result)"
   ]
  },
  {
   "cell_type": "code",
   "execution_count": 9,
   "id": "00e49ab4",
   "metadata": {},
   "outputs": [
    {
     "name": "stdout",
     "output_type": "stream",
     "text": [
      "성공 \"하였다\"\n"
     ]
    }
   ],
   "source": [
    "result = '성공 \"하였다\"'\n",
    "print(result)"
   ]
  },
  {
   "cell_type": "code",
   "execution_count": 11,
   "id": "d29a90a9",
   "metadata": {},
   "outputs": [
    {
     "name": "stdout",
     "output_type": "stream",
     "text": [
      "\"성공\" 하였다.\n"
     ]
    }
   ],
   "source": [
    "result = \"\\\"성공\\\" 하였다.\"\n",
    "print(result)"
   ]
  },
  {
   "cell_type": "markdown",
   "id": "573de99e",
   "metadata": {},
   "source": [
    "### 줄바꾸기"
   ]
  },
  {
   "cell_type": "code",
   "execution_count": 13,
   "id": "27d5504d",
   "metadata": {},
   "outputs": [
    {
     "name": "stdout",
     "output_type": "stream",
     "text": [
      "안녕하세요.\n",
      "저는 파이썬이 처음입니다.\n"
     ]
    }
   ],
   "source": [
    "multiline = \"안녕하세요.\\n저는 파이썬이 처음입니다.\"\n",
    "print(multiline)"
   ]
  },
  {
   "cell_type": "code",
   "execution_count": 15,
   "id": "3fe27c59",
   "metadata": {},
   "outputs": [
    {
     "name": "stdout",
     "output_type": "stream",
     "text": [
      "\n",
      "안녕하세요.\n",
      "저는 파이썬이 처음입니다.\n",
      "\n"
     ]
    }
   ],
   "source": [
    "multiline = \"\"\"\n",
    "안녕하세요.\n",
    "저는 파이썬이 처음입니다.\n",
    "\"\"\"\n",
    "print(multiline)"
   ]
  },
  {
   "cell_type": "code",
   "execution_count": 16,
   "id": "560aae58",
   "metadata": {},
   "outputs": [],
   "source": [
    "a = \"python\"\n",
    "b = \"publy\"\n",
    "c = \"only\""
   ]
  },
  {
   "cell_type": "code",
   "execution_count": 19,
   "id": "ca65fae0",
   "metadata": {},
   "outputs": [
    {
     "data": {
      "text/plain": [
       "'pythonpublyonly'"
      ]
     },
     "execution_count": 19,
     "metadata": {},
     "output_type": "execute_result"
    }
   ],
   "source": [
    "a+b+c"
   ]
  },
  {
   "cell_type": "code",
   "execution_count": 20,
   "id": "d3b4e4e3",
   "metadata": {},
   "outputs": [
    {
     "data": {
      "text/plain": [
       "'python publy only'"
      ]
     },
     "execution_count": 20,
     "metadata": {},
     "output_type": "execute_result"
    }
   ],
   "source": [
    "a + \" \" + b + \" \" + c"
   ]
  },
  {
   "cell_type": "code",
   "execution_count": 18,
   "id": "235a723a",
   "metadata": {},
   "outputs": [
    {
     "data": {
      "text/plain": [
       "'publypubly'"
      ]
     },
     "execution_count": 18,
     "metadata": {},
     "output_type": "execute_result"
    }
   ],
   "source": [
    "b*2"
   ]
  },
  {
   "cell_type": "code",
   "execution_count": 21,
   "id": "9011b563",
   "metadata": {},
   "outputs": [
    {
     "name": "stdout",
     "output_type": "stream",
     "text": [
      "####################\n",
      "Publy on air, Python!\n",
      "####################\n"
     ]
    }
   ],
   "source": [
    "print(\"#\"*20)\n",
    "print(\"Publy on air, Python!\")\n",
    "print(\"#\"*20)"
   ]
  },
  {
   "cell_type": "code",
   "execution_count": 22,
   "id": "0ac01d84",
   "metadata": {},
   "outputs": [
    {
     "data": {
      "text/plain": [
       "6"
      ]
     },
     "execution_count": 22,
     "metadata": {},
     "output_type": "execute_result"
    }
   ],
   "source": [
    "len(a)"
   ]
  },
  {
   "cell_type": "code",
   "execution_count": 24,
   "id": "98b62268",
   "metadata": {},
   "outputs": [
    {
     "data": {
      "text/plain": [
       "6"
      ]
     },
     "execution_count": 24,
     "metadata": {},
     "output_type": "execute_result"
    }
   ],
   "source": [
    "len(\"python\")"
   ]
  },
  {
   "cell_type": "code",
   "execution_count": 25,
   "id": "6bbf31d3",
   "metadata": {},
   "outputs": [
    {
     "data": {
      "text/plain": [
       "3"
      ]
     },
     "execution_count": 25,
     "metadata": {},
     "output_type": "execute_result"
    }
   ],
   "source": [
    "len(\"파이썬\")"
   ]
  },
  {
   "cell_type": "code",
   "execution_count": 26,
   "id": "583a49c8",
   "metadata": {},
   "outputs": [
    {
     "data": {
      "text/plain": [
       "6"
      ]
     },
     "execution_count": 26,
     "metadata": {},
     "output_type": "execute_result"
    }
   ],
   "source": [
    "len(\"안녕하세요.\")"
   ]
  },
  {
   "cell_type": "code",
   "execution_count": 27,
   "id": "b5cf3af8",
   "metadata": {},
   "outputs": [
    {
     "data": {
      "text/plain": [
       "10"
      ]
     },
     "execution_count": 27,
     "metadata": {},
     "output_type": "execute_result"
    }
   ],
   "source": [
    "len(\"\"\"안녕하세요.\n",
    "파이썬\"\"\")"
   ]
  },
  {
   "cell_type": "code",
   "execution_count": 29,
   "id": "c4634bde",
   "metadata": {},
   "outputs": [
    {
     "data": {
      "text/plain": [
       "10"
      ]
     },
     "execution_count": 29,
     "metadata": {},
     "output_type": "execute_result"
    }
   ],
   "source": [
    "len(\"안녕하세요.\\n파이썬\")"
   ]
  },
  {
   "cell_type": "markdown",
   "id": "d856a5c8",
   "metadata": {},
   "source": [
    "## 문자열 인덱싱\n",
    "\n",
    "`[]` 문법\n"
   ]
  },
  {
   "cell_type": "code",
   "execution_count": 30,
   "id": "c4b9f13a",
   "metadata": {},
   "outputs": [],
   "source": [
    "addr = \"https://publy.co\""
   ]
  },
  {
   "cell_type": "code",
   "execution_count": 34,
   "id": "714867ad",
   "metadata": {},
   "outputs": [
    {
     "data": {
      "text/plain": [
       "'h'"
      ]
     },
     "execution_count": 34,
     "metadata": {},
     "output_type": "execute_result"
    }
   ],
   "source": [
    "addr[0] "
   ]
  },
  {
   "cell_type": "code",
   "execution_count": 35,
   "id": "49120db6",
   "metadata": {},
   "outputs": [
    {
     "data": {
      "text/plain": [
       "':'"
      ]
     },
     "execution_count": 35,
     "metadata": {},
     "output_type": "execute_result"
    }
   ],
   "source": [
    "addr[5] # 앞에서 5칸"
   ]
  },
  {
   "cell_type": "code",
   "execution_count": 33,
   "id": "499446a2",
   "metadata": {},
   "outputs": [
    {
     "data": {
      "text/plain": [
       "'o'"
      ]
     },
     "execution_count": 33,
     "metadata": {},
     "output_type": "execute_result"
    }
   ],
   "source": [
    "addr[-1] # 뒤로도 가능"
   ]
  },
  {
   "cell_type": "code",
   "execution_count": 36,
   "id": "c4f55614",
   "metadata": {},
   "outputs": [
    {
     "data": {
      "text/plain": [
       "'.'"
      ]
     },
     "execution_count": 36,
     "metadata": {},
     "output_type": "execute_result"
    }
   ],
   "source": [
    "addr[-3] "
   ]
  },
  {
   "cell_type": "markdown",
   "id": "f0dfac31",
   "metadata": {},
   "source": [
    "### 문자열 슬라이싱\n",
    "`[ : ]`"
   ]
  },
  {
   "cell_type": "code",
   "execution_count": 38,
   "id": "79ef08ec",
   "metadata": {},
   "outputs": [
    {
     "data": {
      "text/plain": [
       "'https'"
      ]
     },
     "execution_count": 38,
     "metadata": {},
     "output_type": "execute_result"
    }
   ],
   "source": [
    "addr[0:5]"
   ]
  },
  {
   "cell_type": "code",
   "execution_count": 45,
   "id": "24cdca2f",
   "metadata": {},
   "outputs": [
    {
     "data": {
      "text/plain": [
       "'publy.co'"
      ]
     },
     "execution_count": 45,
     "metadata": {},
     "output_type": "execute_result"
    }
   ],
   "source": [
    "addr[8:16]"
   ]
  },
  {
   "cell_type": "code",
   "execution_count": 46,
   "id": "1e7c8b4c",
   "metadata": {},
   "outputs": [
    {
     "data": {
      "text/plain": [
       "'https'"
      ]
     },
     "execution_count": 46,
     "metadata": {},
     "output_type": "execute_result"
    }
   ],
   "source": [
    "addr[:5] # 처음부터 5번째까지"
   ]
  },
  {
   "cell_type": "code",
   "execution_count": 47,
   "id": "c43dea94",
   "metadata": {},
   "outputs": [
    {
     "data": {
      "text/plain": [
       "'publy.co'"
      ]
     },
     "execution_count": 47,
     "metadata": {},
     "output_type": "execute_result"
    }
   ],
   "source": [
    "addr[8:] # 8번부터 끝까지"
   ]
  },
  {
   "cell_type": "code",
   "execution_count": 48,
   "id": "18755d2d",
   "metadata": {},
   "outputs": [
    {
     "data": {
      "text/plain": [
       "'https://publy.co'"
      ]
     },
     "execution_count": 48,
     "metadata": {},
     "output_type": "execute_result"
    }
   ],
   "source": [
    "addr[:] # 전부다"
   ]
  },
  {
   "cell_type": "code",
   "execution_count": 50,
   "id": "784326c4",
   "metadata": {},
   "outputs": [
    {
     "name": "stdout",
     "output_type": "stream",
     "text": [
      "publy\n"
     ]
    }
   ],
   "source": [
    "name = addr[8:13]\n",
    "print(name)"
   ]
  },
  {
   "cell_type": "code",
   "execution_count": 61,
   "id": "e363e58c",
   "metadata": {},
   "outputs": [
    {
     "name": "stdout",
     "output_type": "stream",
     "text": [
      ".co\n"
     ]
    }
   ],
   "source": [
    "domain = addr[-3:]\n",
    "print(domain)"
   ]
  },
  {
   "cell_type": "markdown",
   "id": "7fbccb9e",
   "metadata": {},
   "source": [
    "### 문자열 바꾸기"
   ]
  },
  {
   "cell_type": "code",
   "execution_count": 57,
   "id": "d176ec9a",
   "metadata": {},
   "outputs": [],
   "source": [
    "s = \"퍼블리 온네어\""
   ]
  },
  {
   "cell_type": "code",
   "execution_count": 60,
   "id": "0eed717a",
   "metadata": {},
   "outputs": [
    {
     "ename": "TypeError",
     "evalue": "'str' object does not support item assignment",
     "output_type": "error",
     "traceback": [
      "\u001b[1;31m---------------------------------------------------------------------------\u001b[0m",
      "\u001b[1;31mTypeError\u001b[0m                                 Traceback (most recent call last)",
      "\u001b[1;32m<ipython-input-60-3100e0e6319f>\u001b[0m in \u001b[0;36m<module>\u001b[1;34m\u001b[0m\n\u001b[1;32m----> 1\u001b[1;33m \u001b[0ms\u001b[0m\u001b[1;33m[\u001b[0m\u001b[1;33m-\u001b[0m\u001b[1;36m2\u001b[0m\u001b[1;33m]\u001b[0m \u001b[1;33m=\u001b[0m \u001b[1;34m\"에\"\u001b[0m\u001b[1;33m\u001b[0m\u001b[1;33m\u001b[0m\u001b[0m\n\u001b[0m",
      "\u001b[1;31mTypeError\u001b[0m: 'str' object does not support item assignment"
     ]
    }
   ],
   "source": [
    "s[-2] = \"에\""
   ]
  },
  {
   "cell_type": "markdown",
   "id": "7b3809c0",
   "metadata": {},
   "source": [
    "에러가 납니다. 이는, 문자열은 수정불가능 하기 때문입니다. \n",
    "수정하려면 `replace`를 쓰거나, 새로 문자를 구성해야합니다. "
   ]
  },
  {
   "cell_type": "code",
   "execution_count": 64,
   "id": "8da519dd",
   "metadata": {},
   "outputs": [
    {
     "name": "stdout",
     "output_type": "stream",
     "text": [
      "퍼블리 온에어\n",
      "퍼블리 온네어\n"
     ]
    }
   ],
   "source": [
    "ss = s.replace(\"네\", \"에\") # 이렇게 해도, s가 바뀌진 않는다.\n",
    "print(ss)\n",
    "print(s)"
   ]
  },
  {
   "cell_type": "code",
   "execution_count": 69,
   "id": "e73fe582",
   "metadata": {
    "scrolled": true
   },
   "outputs": [
    {
     "data": {
      "text/plain": [
       "'퍼블리 온'"
      ]
     },
     "execution_count": 69,
     "metadata": {},
     "output_type": "execute_result"
    }
   ],
   "source": [
    "s[:5]"
   ]
  },
  {
   "cell_type": "code",
   "execution_count": 70,
   "id": "f2c0d8c1",
   "metadata": {},
   "outputs": [
    {
     "data": {
      "text/plain": [
       "'어'"
      ]
     },
     "execution_count": 70,
     "metadata": {},
     "output_type": "execute_result"
    }
   ],
   "source": [
    "s[6:]"
   ]
  },
  {
   "cell_type": "code",
   "execution_count": 71,
   "id": "cddfa87f",
   "metadata": {},
   "outputs": [
    {
     "name": "stdout",
     "output_type": "stream",
     "text": [
      "퍼블리 온에어\n"
     ]
    }
   ],
   "source": [
    "ss = s[:5] + \"에\" + s[6:]\n",
    "print(ss)"
   ]
  },
  {
   "cell_type": "markdown",
   "id": "b4914d93",
   "metadata": {},
   "source": [
    "### 문자열 관련 함수\n",
    "- find/rfind 찾기\n",
    "- count 갯수 세기\n",
    "- upper /lower 소문/대문자\n",
    "- split 쪼개기\n",
    "- strip(lstrip, rstrip) 공백 지우기\n",
    "- replace"
   ]
  },
  {
   "cell_type": "code",
   "execution_count": 72,
   "id": "4a063b7c",
   "metadata": {},
   "outputs": [],
   "source": [
    "t = \"Hello World\""
   ]
  },
  {
   "cell_type": "code",
   "execution_count": 75,
   "id": "50917995",
   "metadata": {},
   "outputs": [
    {
     "data": {
      "text/plain": [
       "4"
      ]
     },
     "execution_count": 75,
     "metadata": {},
     "output_type": "execute_result"
    }
   ],
   "source": [
    "t.find(\"o\")"
   ]
  },
  {
   "cell_type": "code",
   "execution_count": 76,
   "id": "bfb5837c",
   "metadata": {},
   "outputs": [
    {
     "data": {
      "text/plain": [
       "7"
      ]
     },
     "execution_count": 76,
     "metadata": {},
     "output_type": "execute_result"
    }
   ],
   "source": [
    "t.rfind(\"o\")"
   ]
  },
  {
   "cell_type": "code",
   "execution_count": 78,
   "id": "a4fe71ae",
   "metadata": {},
   "outputs": [
    {
     "data": {
      "text/plain": [
       "2"
      ]
     },
     "execution_count": 78,
     "metadata": {},
     "output_type": "execute_result"
    }
   ],
   "source": [
    "t.count(\"o\")"
   ]
  },
  {
   "cell_type": "code",
   "execution_count": 81,
   "id": "65bca7da",
   "metadata": {},
   "outputs": [
    {
     "data": {
      "text/plain": [
       "'hello world'"
      ]
     },
     "execution_count": 81,
     "metadata": {},
     "output_type": "execute_result"
    }
   ],
   "source": [
    "t.lower()"
   ]
  },
  {
   "cell_type": "code",
   "execution_count": 82,
   "id": "82621ceb",
   "metadata": {},
   "outputs": [
    {
     "data": {
      "text/plain": [
       "'HELLO WORLD'"
      ]
     },
     "execution_count": 82,
     "metadata": {},
     "output_type": "execute_result"
    }
   ],
   "source": [
    "t.upper()"
   ]
  },
  {
   "cell_type": "code",
   "execution_count": 84,
   "id": "55821281",
   "metadata": {},
   "outputs": [],
   "source": [
    "l = t.split(\" \")"
   ]
  },
  {
   "cell_type": "code",
   "execution_count": 85,
   "id": "0697dd9f",
   "metadata": {},
   "outputs": [
    {
     "name": "stdout",
     "output_type": "stream",
     "text": [
      "['Hello', 'World']\n"
     ]
    }
   ],
   "source": [
    "print(l)"
   ]
  },
  {
   "cell_type": "code",
   "execution_count": 86,
   "id": "f25ef9bb",
   "metadata": {},
   "outputs": [
    {
     "data": {
      "text/plain": [
       "'Hello'"
      ]
     },
     "execution_count": 86,
     "metadata": {},
     "output_type": "execute_result"
    }
   ],
   "source": [
    "l[0]"
   ]
  },
  {
   "cell_type": "code",
   "execution_count": 87,
   "id": "c7e7ddd7",
   "metadata": {},
   "outputs": [
    {
     "data": {
      "text/plain": [
       "'World'"
      ]
     },
     "execution_count": 87,
     "metadata": {},
     "output_type": "execute_result"
    }
   ],
   "source": [
    "l[1]"
   ]
  },
  {
   "cell_type": "code",
   "execution_count": 88,
   "id": "61d01f49",
   "metadata": {},
   "outputs": [],
   "source": [
    "ss = \"  온에어  퍼블리  좋아요     \""
   ]
  },
  {
   "cell_type": "code",
   "execution_count": 91,
   "id": "21560e4d",
   "metadata": {},
   "outputs": [
    {
     "data": {
      "text/plain": [
       "'  온에어  퍼블리  좋아요'"
      ]
     },
     "execution_count": 91,
     "metadata": {},
     "output_type": "execute_result"
    }
   ],
   "source": [
    "ss.rstrip()"
   ]
  },
  {
   "cell_type": "code",
   "execution_count": 92,
   "id": "497e28ab",
   "metadata": {},
   "outputs": [
    {
     "data": {
      "text/plain": [
       "'온에어  퍼블리  좋아요     '"
      ]
     },
     "execution_count": 92,
     "metadata": {},
     "output_type": "execute_result"
    }
   ],
   "source": [
    "ss.lstrip()"
   ]
  },
  {
   "cell_type": "code",
   "execution_count": 93,
   "id": "af9616e0",
   "metadata": {},
   "outputs": [
    {
     "data": {
      "text/plain": [
       "'온에어  퍼블리  좋아요'"
      ]
     },
     "execution_count": 93,
     "metadata": {},
     "output_type": "execute_result"
    }
   ],
   "source": [
    "ss.strip()"
   ]
  },
  {
   "cell_type": "code",
   "execution_count": 94,
   "id": "745e95b9",
   "metadata": {},
   "outputs": [
    {
     "data": {
      "text/plain": [
       "'Hell# W#rld'"
      ]
     },
     "execution_count": 94,
     "metadata": {},
     "output_type": "execute_result"
    }
   ],
   "source": [
    "t.replace(\"o\", \"#\")"
   ]
  }
 ],
 "metadata": {
  "kernelspec": {
   "display_name": "Python 3",
   "language": "python",
   "name": "python3"
  },
  "language_info": {
   "codemirror_mode": {
    "name": "ipython",
    "version": 3
   },
   "file_extension": ".py",
   "mimetype": "text/x-python",
   "name": "python",
   "nbconvert_exporter": "python",
   "pygments_lexer": "ipython3",
   "version": "3.9.4"
  }
 },
 "nbformat": 4,
 "nbformat_minor": 5
}
