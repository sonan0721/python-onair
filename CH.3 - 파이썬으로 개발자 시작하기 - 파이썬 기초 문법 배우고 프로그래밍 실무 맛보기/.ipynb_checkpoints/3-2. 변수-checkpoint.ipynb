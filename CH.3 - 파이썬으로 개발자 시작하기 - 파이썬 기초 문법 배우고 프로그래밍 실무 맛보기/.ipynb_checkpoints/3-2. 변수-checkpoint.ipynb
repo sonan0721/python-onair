{
 "cells": [
  {
   "cell_type": "markdown",
   "id": "64a925e3",
   "metadata": {},
   "source": [
    "## 배울 함수\n",
    "- print\n",
    "- input \n",
    "- type"
   ]
  },
  {
   "cell_type": "code",
   "execution_count": 2,
   "id": "4d34b6b8",
   "metadata": {},
   "outputs": [
    {
     "name": "stdout",
     "output_type": "stream",
     "text": [
      "안녕:a\n"
     ]
    }
   ],
   "source": [
    "a = input(\"안녕:\")"
   ]
  },
  {
   "cell_type": "markdown",
   "id": "a3cede8a",
   "metadata": {},
   "source": [
    "## 변수\n",
    "변수는 모든 값을 저장할 수 있습니다.\n",
    "\n",
    "`=` 을 이용해 할당합니다.\n"
   ]
  },
  {
   "cell_type": "code",
   "execution_count": 7,
   "id": "c4e3928f",
   "metadata": {},
   "outputs": [],
   "source": [
    "test = 1200"
   ]
  },
  {
   "cell_type": "code",
   "execution_count": 8,
   "id": "4fe8fe51",
   "metadata": {},
   "outputs": [
    {
     "name": "stdout",
     "output_type": "stream",
     "text": [
      "1200\n"
     ]
    }
   ],
   "source": [
    "print(test)"
   ]
  },
  {
   "cell_type": "markdown",
   "id": "cc94a939",
   "metadata": {},
   "source": [
    "덮어쓰기가 가능합니다."
   ]
  },
  {
   "cell_type": "code",
   "execution_count": 12,
   "id": "e24b866a",
   "metadata": {},
   "outputs": [],
   "source": [
    "test = \"Hello\""
   ]
  },
  {
   "cell_type": "code",
   "execution_count": 13,
   "id": "2ec5ad2c",
   "metadata": {},
   "outputs": [
    {
     "name": "stdout",
     "output_type": "stream",
     "text": [
      "Hello\n"
     ]
    }
   ],
   "source": [
    "print(test)"
   ]
  },
  {
   "cell_type": "markdown",
   "id": "84032d1f",
   "metadata": {},
   "source": [
    "함수도 호출 가능합니다."
   ]
  },
  {
   "cell_type": "code",
   "execution_count": 11,
   "id": "7f099aa0",
   "metadata": {},
   "outputs": [
    {
     "name": "stdout",
     "output_type": "stream",
     "text": [
      "Publy Air\n",
      "Publy Air\n",
      "Publy On-Air\n"
     ]
    }
   ],
   "source": [
    "name = \"Publy Air\"\n",
    "print(name)\n",
    "name2 = name.replace(\"Air\", \"On-Air\")\n",
    "print(name)\n",
    "print(name2)"
   ]
  },
  {
   "cell_type": "markdown",
   "id": "9ed7e801",
   "metadata": {},
   "source": [
    "변수는 타입(type)을 가지며, `type` 을 통해 확인해볼 수 있습니다."
   ]
  },
  {
   "cell_type": "code",
   "execution_count": 15,
   "id": "a0525ec4",
   "metadata": {},
   "outputs": [
    {
     "name": "stdout",
     "output_type": "stream",
     "text": [
      "<class 'str'>\n",
      "<class 'float'>\n"
     ]
    }
   ],
   "source": [
    "name = \"이도행\"\n",
    "print(type(name))\n",
    "\n",
    "pi = 3.1415\n",
    "print(type(pi))"
   ]
  },
  {
   "cell_type": "code",
   "execution_count": 16,
   "id": "f39fd472",
   "metadata": {},
   "outputs": [
    {
     "name": "stdout",
     "output_type": "stream",
     "text": [
      "13\n"
     ]
    }
   ],
   "source": [
    "a = 3\n",
    "b = 10\n",
    "c = a+b\n",
    "print(c)"
   ]
  },
  {
   "cell_type": "code",
   "execution_count": 17,
   "id": "fc997868",
   "metadata": {},
   "outputs": [
    {
     "name": "stdout",
     "output_type": "stream",
     "text": [
      "13\n"
     ]
    }
   ],
   "source": [
    "c = a+b\n",
    "a = 5\n",
    "print(c) # ?? \n"
   ]
  },
  {
   "cell_type": "markdown",
   "id": "070be1d2",
   "metadata": {},
   "source": [
    "변수는 선언될 당시 계산되며, 그 후에 값을 바꾸면 다시 재연산을 해야합니다."
   ]
  },
  {
   "cell_type": "code",
   "execution_count": 19,
   "id": "a2bc404f",
   "metadata": {
    "scrolled": true
   },
   "outputs": [
    {
     "ename": "TypeError",
     "evalue": "unsupported operand type(s) for +: 'int' and 'str'",
     "output_type": "error",
     "traceback": [
      "\u001b[1;31m---------------------------------------------------------------------------\u001b[0m",
      "\u001b[1;31mTypeError\u001b[0m                                 Traceback (most recent call last)",
      "\u001b[1;32m<ipython-input-19-90e3981b2209>\u001b[0m in \u001b[0;36m<module>\u001b[1;34m\u001b[0m\n\u001b[0;32m      1\u001b[0m \u001b[0ma\u001b[0m \u001b[1;33m=\u001b[0m \u001b[1;36m3\u001b[0m\u001b[1;33m\u001b[0m\u001b[1;33m\u001b[0m\u001b[0m\n\u001b[0;32m      2\u001b[0m \u001b[0mb\u001b[0m \u001b[1;33m=\u001b[0m \u001b[1;34m\"hello\"\u001b[0m\u001b[1;33m\u001b[0m\u001b[1;33m\u001b[0m\u001b[0m\n\u001b[1;32m----> 3\u001b[1;33m \u001b[0mc\u001b[0m \u001b[1;33m=\u001b[0m \u001b[0ma\u001b[0m\u001b[1;33m+\u001b[0m\u001b[0mb\u001b[0m\u001b[1;33m\u001b[0m\u001b[1;33m\u001b[0m\u001b[0m\n\u001b[0m\u001b[0;32m      4\u001b[0m \u001b[0mprint\u001b[0m\u001b[1;33m(\u001b[0m\u001b[0mc\u001b[0m\u001b[1;33m)\u001b[0m\u001b[1;33m\u001b[0m\u001b[1;33m\u001b[0m\u001b[0m\n",
      "\u001b[1;31mTypeError\u001b[0m: unsupported operand type(s) for +: 'int' and 'str'"
     ]
    }
   ],
   "source": [
    "a = 3\n",
    "b = \"hello\"\n",
    "c = a+b\n",
    "print(c)"
   ]
  },
  {
   "cell_type": "markdown",
   "id": "a91ee712",
   "metadata": {},
   "source": [
    "다른 타입의 변수는 이렇게 같이 연산할 수 없습니다."
   ]
  },
  {
   "cell_type": "code",
   "execution_count": 1,
   "id": "49156528",
   "metadata": {},
   "outputs": [
    {
     "name": "stdout",
     "output_type": "stream",
     "text": [
      "13\n",
      "hello\n"
     ]
    }
   ],
   "source": [
    "a = 3\n",
    "b = 10\n",
    "c = a+b\n",
    "b = \"hello\"\n",
    "\n",
    "print(c)\n",
    "print(b)"
   ]
  },
  {
   "cell_type": "markdown",
   "id": "d4435ac0",
   "metadata": {},
   "source": [
    "정수형으로 쓴 변수를 문자형 변수로 바꾸는것도 얼마든지 가능합니다."
   ]
  }
 ],
 "metadata": {
  "kernelspec": {
   "display_name": "Python 3",
   "language": "python",
   "name": "python3"
  },
  "language_info": {
   "codemirror_mode": {
    "name": "ipython",
    "version": 3
   },
   "file_extension": ".py",
   "mimetype": "text/x-python",
   "name": "python",
   "nbconvert_exporter": "python",
   "pygments_lexer": "ipython3",
   "version": "3.9.4"
  }
 },
 "nbformat": 4,
 "nbformat_minor": 5
}
