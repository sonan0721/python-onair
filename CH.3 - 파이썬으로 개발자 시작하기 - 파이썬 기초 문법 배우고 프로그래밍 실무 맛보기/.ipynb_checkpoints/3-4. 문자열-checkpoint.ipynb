{
 "cells": [
  {
   "cell_type": "markdown",
   "id": "acc81681",
   "metadata": {},
   "source": [
    "## 문자열을 만드는 방법\n",
    "\n",
    "1. `\"` 큰따움표\n",
    "2. `'` 작은 따움표\n",
    "3. `\"\"\"` 큰따움표 세개\n"
   ]
  },
  {
   "cell_type": "code",
   "execution_count": 3,
   "id": "11768999",
   "metadata": {},
   "outputs": [
    {
     "name": "stdout",
     "output_type": "stream",
     "text": [
      "성공\n"
     ]
    }
   ],
   "source": [
    "result = \"성공\"\n",
    "print(result)"
   ]
  },
  {
   "cell_type": "code",
   "execution_count": 11,
   "id": "d29a90a9",
   "metadata": {},
   "outputs": [
    {
     "name": "stdout",
     "output_type": "stream",
     "text": [
      "\"성공\" 하였다.\n"
     ]
    }
   ],
   "source": [
    "result = \"\\\"성공\\\" 하였다.\"\n",
    "print(result)"
   ]
  },
  {
   "cell_type": "markdown",
   "id": "573de99e",
   "metadata": {},
   "source": [
    "### 간단한 문자열 연산\n",
    "- \\n\n",
    "- `+` / `*`\n",
    "- len"
   ]
  },
  {
   "cell_type": "markdown",
   "id": "d856a5c8",
   "metadata": {},
   "source": [
    "## 문자열 인덱싱\n",
    "\n",
    "`[]` 문법\n"
   ]
  },
  {
   "cell_type": "code",
   "execution_count": 30,
   "id": "c4b9f13a",
   "metadata": {},
   "outputs": [],
   "source": [
    "addr = \"https://publy.co\""
   ]
  },
  {
   "cell_type": "code",
   "execution_count": 35,
   "id": "49120db6",
   "metadata": {},
   "outputs": [
    {
     "data": {
      "text/plain": [
       "':'"
      ]
     },
     "execution_count": 35,
     "metadata": {},
     "output_type": "execute_result"
    }
   ],
   "source": [
    "addr[5] # 앞에서 5칸"
   ]
  },
  {
   "cell_type": "markdown",
   "id": "f0dfac31",
   "metadata": {},
   "source": [
    "### 문자열 슬라이싱\n",
    "`[ : ]`"
   ]
  },
  {
   "cell_type": "code",
   "execution_count": 47,
   "id": "c43dea94",
   "metadata": {},
   "outputs": [
    {
     "data": {
      "text/plain": [
       "'publy.co'"
      ]
     },
     "execution_count": 47,
     "metadata": {},
     "output_type": "execute_result"
    }
   ],
   "source": [
    "addr[8:] # 8번부터 끝까지"
   ]
  },
  {
   "cell_type": "code",
   "execution_count": 48,
   "id": "18755d2d",
   "metadata": {},
   "outputs": [
    {
     "data": {
      "text/plain": [
       "'https://publy.co'"
      ]
     },
     "execution_count": 48,
     "metadata": {},
     "output_type": "execute_result"
    }
   ],
   "source": [
    "addr[:] # 전부다"
   ]
  },
  {
   "cell_type": "code",
   "execution_count": 61,
   "id": "e363e58c",
   "metadata": {},
   "outputs": [
    {
     "name": "stdout",
     "output_type": "stream",
     "text": [
      ".co\n"
     ]
    }
   ],
   "source": [
    "domain = addr[-3:]\n",
    "print(domain)"
   ]
  },
  {
   "cell_type": "markdown",
   "id": "b4914d93",
   "metadata": {},
   "source": [
    "### 문자열 관련 함수\n",
    "- find/rfind 찾기\n",
    "- count 갯수 세기\n",
    "- upper /lower 소문/대문자\n",
    "- split 쪼개기\n",
    "- strip(lstrip, rstrip) 공백 지우기\n",
    "- replace"
   ]
  },
  {
   "cell_type": "code",
   "execution_count": 88,
   "id": "61d01f49",
   "metadata": {},
   "outputs": [],
   "source": [
    "ss = \"  온에어  퍼블리  좋아요     \""
   ]
  },
  {
   "cell_type": "code",
   "execution_count": 91,
   "id": "21560e4d",
   "metadata": {},
   "outputs": [
    {
     "data": {
      "text/plain": [
       "'  온에어  퍼블리  좋아요'"
      ]
     },
     "execution_count": 91,
     "metadata": {},
     "output_type": "execute_result"
    }
   ],
   "source": [
    "ss.rstrip()"
   ]
  },
  {
   "cell_type": "code",
   "execution_count": 92,
   "id": "497e28ab",
   "metadata": {},
   "outputs": [
    {
     "data": {
      "text/plain": [
       "'온에어  퍼블리  좋아요     '"
      ]
     },
     "execution_count": 92,
     "metadata": {},
     "output_type": "execute_result"
    }
   ],
   "source": [
    "ss.lstrip()"
   ]
  },
  {
   "cell_type": "code",
   "execution_count": 93,
   "id": "af9616e0",
   "metadata": {},
   "outputs": [
    {
     "data": {
      "text/plain": [
       "'온에어  퍼블리  좋아요'"
      ]
     },
     "execution_count": 93,
     "metadata": {},
     "output_type": "execute_result"
    }
   ],
   "source": [
    "ss.strip()"
   ]
  },
  {
   "cell_type": "code",
   "execution_count": 94,
   "id": "745e95b9",
   "metadata": {},
   "outputs": [
    {
     "data": {
      "text/plain": [
       "'Hell# W#rld'"
      ]
     },
     "execution_count": 94,
     "metadata": {},
     "output_type": "execute_result"
    }
   ],
   "source": [
    "t.replace(\"o\", \"#\")"
   ]
  }
 ],
 "metadata": {
  "kernelspec": {
   "display_name": "Python 3",
   "language": "python",
   "name": "python3"
  },
  "language_info": {
   "codemirror_mode": {
    "name": "ipython",
    "version": 3
   },
   "file_extension": ".py",
   "mimetype": "text/x-python",
   "name": "python",
   "nbconvert_exporter": "python",
   "pygments_lexer": "ipython3",
   "version": "3.9.4"
  }
 },
 "nbformat": 4,
 "nbformat_minor": 5
}
