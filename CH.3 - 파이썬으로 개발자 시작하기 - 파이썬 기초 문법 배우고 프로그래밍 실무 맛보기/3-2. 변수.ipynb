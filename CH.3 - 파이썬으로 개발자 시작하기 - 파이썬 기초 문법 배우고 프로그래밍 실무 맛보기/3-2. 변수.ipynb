{
 "cells": [
  {
   "cell_type": "markdown",
   "id": "64a925e3",
   "metadata": {},
   "source": [
    "## 배울 함수\n",
    "- print\n",
    "- input \n",
    "- type"
   ]
  },
  {
   "cell_type": "code",
   "execution_count": 1,
   "id": "4d34b6b8",
   "metadata": {},
   "outputs": [
    {
     "name": "stdout",
     "output_type": "stream",
     "text": [
      "Hello\n"
     ]
    }
   ],
   "source": [
    "print(\"Hello\")"
   ]
  },
  {
   "cell_type": "markdown",
   "id": "a3cede8a",
   "metadata": {},
   "source": [
    "## 변수\n",
    "변수는 모든 값을 저장할 수 있습니다.\n",
    "\n",
    "`=` 을 이용해 할당합니다.\n"
   ]
  },
  {
   "cell_type": "code",
   "execution_count": 2,
   "id": "8e131abe",
   "metadata": {},
   "outputs": [
    {
     "name": "stdout",
     "output_type": "stream",
     "text": [
      "이도행\n"
     ]
    }
   ],
   "source": [
    "name = \"이도행\"\n",
    "print(name)"
   ]
  },
  {
   "cell_type": "code",
   "execution_count": 3,
   "id": "4a9da79c",
   "metadata": {},
   "outputs": [
    {
     "name": "stdout",
     "output_type": "stream",
     "text": [
      "당신의 이름은 무엇입니까?: 퍼블리\n"
     ]
    }
   ],
   "source": [
    "name = input(\"당신의 이름은 무엇입니까?: \")"
   ]
  },
  {
   "cell_type": "code",
   "execution_count": 4,
   "id": "2341446a",
   "metadata": {},
   "outputs": [
    {
     "name": "stdout",
     "output_type": "stream",
     "text": [
      "퍼블리\n"
     ]
    }
   ],
   "source": [
    "print(name)"
   ]
  },
  {
   "cell_type": "markdown",
   "id": "9ed7e801",
   "metadata": {},
   "source": [
    "변수는 타입(type)을 가지며, `type` 을 통해 확인해볼 수 있습니다."
   ]
  },
  {
   "cell_type": "code",
   "execution_count": 5,
   "id": "9fdb521d",
   "metadata": {},
   "outputs": [
    {
     "data": {
      "text/plain": [
       "str"
      ]
     },
     "execution_count": 5,
     "metadata": {},
     "output_type": "execute_result"
    }
   ],
   "source": [
    "type(name)"
   ]
  },
  {
   "cell_type": "code",
   "execution_count": 8,
   "id": "daeaa26f",
   "metadata": {},
   "outputs": [
    {
     "data": {
      "text/plain": [
       "float"
      ]
     },
     "execution_count": 8,
     "metadata": {},
     "output_type": "execute_result"
    }
   ],
   "source": [
    "pi = 3.14\n",
    "type(pi)"
   ]
  },
  {
   "cell_type": "markdown",
   "id": "d4435ac0",
   "metadata": {},
   "source": [
    "변수는 자유롭게 변경이 가능하고, 연산은 항상 순서대로 이뤄집니다"
   ]
  },
  {
   "cell_type": "code",
   "execution_count": 9,
   "id": "3b573c57",
   "metadata": {},
   "outputs": [],
   "source": [
    "pi = 3.14\n",
    "a = pi * 10\n",
    "pi = 5"
   ]
  },
  {
   "cell_type": "code",
   "execution_count": 11,
   "id": "2df7755c",
   "metadata": {
    "scrolled": true
   },
   "outputs": [
    {
     "name": "stdout",
     "output_type": "stream",
     "text": [
      "31.400000000000002\n"
     ]
    }
   ],
   "source": [
    "print(a)"
   ]
  },
  {
   "cell_type": "code",
   "execution_count": 12,
   "id": "a920322f",
   "metadata": {},
   "outputs": [
    {
     "data": {
      "text/plain": [
       "list"
      ]
     },
     "execution_count": 12,
     "metadata": {},
     "output_type": "execute_result"
    }
   ],
   "source": [
    "l = [1, 5, 7]\n",
    "type(l)"
   ]
  }
 ],
 "metadata": {
  "kernelspec": {
   "display_name": "Python 3",
   "language": "python",
   "name": "python3"
  },
  "language_info": {
   "codemirror_mode": {
    "name": "ipython",
    "version": 3
   },
   "file_extension": ".py",
   "mimetype": "text/x-python",
   "name": "python",
   "nbconvert_exporter": "python",
   "pygments_lexer": "ipython3",
   "version": "3.9.5"
  }
 },
 "nbformat": 4,
 "nbformat_minor": 5
}
