{
 "cells": [
  {
   "cell_type": "markdown",
   "id": "191a5a9e",
   "metadata": {},
   "source": [
    "## 다음 문제를 재귀함수를 이용해서 풀어보시오\n",
    "30개의 계단이 있습니다.\n",
    "\n",
    "당신은 계단을 1칸, 2칸, 또는 3칸까지 한번에 오를 수 있습니다.\n",
    "\n",
    "당신이 30개의 계단을 오르는 가지수는 몇 개인지, 프로그램으로 짜보세요."
   ]
  },
  {
   "cell_type": "code",
   "execution_count": 3,
   "id": "75237511",
   "metadata": {},
   "outputs": [],
   "source": [
    "def goupstair(num_stair):\n",
    "    # 만약에 남은 계단이 0이면, 정확하게 계단을 밟은게 되므로, 횟수를 1 더해준다.\n",
    "    if num_stair == 0 :\n",
    "        return 1\n",
    "    # 만약에 남은 계단이 음수(-)면, 계단을 초과해서 밟은것이므로 횟수를 더해주지 않는다.\n",
    "    elif num_stair <0 :\n",
    "        return 0\n",
    "    \n",
    "    # 계단을 3칸,2칸,1칸씩 오를수 있다.\n",
    "    return goupstair(num_stair-1) + goupstair(num_stair-2) + goupstair(num_stair-3) \n",
    "    "
   ]
  },
  {
   "cell_type": "code",
   "execution_count": 2,
   "id": "a1f6da8b",
   "metadata": {},
   "outputs": [
    {
     "data": {
      "text/plain": [
       "53798080"
      ]
     },
     "execution_count": 2,
     "metadata": {},
     "output_type": "execute_result"
    }
   ],
   "source": [
    "goupstair(30)"
   ]
  }
 ],
 "metadata": {
  "kernelspec": {
   "display_name": "Python 3",
   "language": "python",
   "name": "python3"
  },
  "language_info": {
   "codemirror_mode": {
    "name": "ipython",
    "version": 3
   },
   "file_extension": ".py",
   "mimetype": "text/x-python",
   "name": "python",
   "nbconvert_exporter": "python",
   "pygments_lexer": "ipython3",
   "version": "3.9.5"
  }
 },
 "nbformat": 4,
 "nbformat_minor": 5
}
