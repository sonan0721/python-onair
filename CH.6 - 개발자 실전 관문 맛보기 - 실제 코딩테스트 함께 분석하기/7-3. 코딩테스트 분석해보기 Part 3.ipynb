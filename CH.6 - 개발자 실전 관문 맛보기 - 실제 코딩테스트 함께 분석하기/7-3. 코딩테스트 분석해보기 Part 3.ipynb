{
 "cells": [
  {
   "attachments": {},
   "cell_type": "markdown",
   "id": "191a5a9e",
   "metadata": {},
   "source": [
    "30개의 계단이 있습니다.\n",
    "\n",
    "당신은 계단을 1칸, 2칸, 또는 3칸까지 한번에 오를 수 있습니다.\n",
    "\n",
    "\n",
    "당신이 30개의 계단을 오르는 가지수는 몇 개인지, 프로그램으로 짜보세요."
   ]
  }
 ],
 "metadata": {
  "kernelspec": {
   "display_name": "Python 3",
   "language": "python",
   "name": "python3"
  },
  "language_info": {
   "codemirror_mode": {
    "name": "ipython",
    "version": 3
   },
   "file_extension": ".py",
   "mimetype": "text/x-python",
   "name": "python",
   "nbconvert_exporter": "python",
   "pygments_lexer": "ipython3",
   "version": "3.9.4"
  }
 },
 "nbformat": 4,
 "nbformat_minor": 5
}
