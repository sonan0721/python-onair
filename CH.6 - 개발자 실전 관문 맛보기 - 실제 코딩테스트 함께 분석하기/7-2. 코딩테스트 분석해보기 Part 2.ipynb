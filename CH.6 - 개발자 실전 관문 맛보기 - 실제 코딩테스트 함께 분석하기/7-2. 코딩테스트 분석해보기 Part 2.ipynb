{
 "cells": [
  {
   "attachments": {},
   "cell_type": "markdown",
   "id": "5e995427",
   "metadata": {},
   "source": [
    "다음 규칙을 수행하는 함수를 짜보세요.\n",
    "\n",
    "1단계 new_id의 모든 대문자를 대응되는 소문자로 치환합니다.\n",
    "\n",
    "2단계 new_id에서 알파벳 소문자, 숫자, 빼기(-), 밑줄(_), 마침표(.)를 제외한 모든 문자를 제거합니다.\n",
    "\n",
    "3단계 new_id에서 마침표(.)가 2번 이상 연속된 부분을 하나의 마침표(.)로 치환합니다.\n",
    "\n",
    "4단계 new_id에서 마침표(.)가 처음이나 끝에 위치한다면 제거합니다.\n",
    "\n",
    "5단계 new_id가 빈 문자열이라면, new_id에 \"a\"를 대입합니다.\n",
    "\n",
    "6단계 new_id의 길이가 16자 이상이면, new_id의 첫 15개의 문자를 제외한 나머지 문자들을 모두 제거합니다.\n",
    " 만약 제거 후 마침표(.)가 new_id의 끝에 위치한다면 끝에 위치한 마침표(.) 문자를 제거합니다.\n",
    "     \n",
    "7단계 new_id의 길이가 2자 이하라면, new_id의 마지막 문자를 new_id의 길이가 3이 될 때까지 반복해서 끝에 붙입니다.\n"
   ]
  },
  {
   "cell_type": "markdown",
   "id": "f179408f",
   "metadata": {},
   "source": [
    "|no|new_id|result|\n",
    "|---|---|---|\n",
    "|예1|\"...!@BaT#*..y.abcdefghijklm\"|\"bat.y.abcdefghi\"|\n",
    "|예2|\"z-+.^.\"|\"z--\"|\n",
    "|예3|\"=.=\"|\"aaa\"|\n",
    "|예4|\"123_.def\"|\"123_.def\"|\n",
    "|예5|\"abcdefghijklmn.p\"|\"abcdefghijklmn\"|"
   ]
  }
 ],
 "metadata": {
  "kernelspec": {
   "display_name": "Python 3",
   "language": "python",
   "name": "python3"
  },
  "language_info": {
   "codemirror_mode": {
    "name": "ipython",
    "version": 3
   },
   "file_extension": ".py",
   "mimetype": "text/x-python",
   "name": "python",
   "nbconvert_exporter": "python",
   "pygments_lexer": "ipython3",
   "version": "3.9.4"
  }
 },
 "nbformat": 4,
 "nbformat_minor": 5
}
