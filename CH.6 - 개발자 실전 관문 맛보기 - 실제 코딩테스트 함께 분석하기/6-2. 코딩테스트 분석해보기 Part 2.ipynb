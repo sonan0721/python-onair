{
 "cells": [
  {
   "cell_type": "markdown",
   "id": "5e995427",
   "metadata": {},
   "source": [
    "### 다음 규칙을 수행하는 함수를 짜보세요.\n",
    "\n",
    "- 1단계 new_id의 모든 대문자를 대응되는 소문자로 치환합니다.\n",
    "- 2단계 new_id에서 알파벳 소문자, 숫자, 빼기(-), 밑줄(_), 마침표(.)를 제외한 모든 문자를 제거합니다.\n",
    "- 3단계 new_id에서 마침표(.)가 2번 이상 연속된 부분을 하나의 마침표(.)로 치환합니다.\n",
    "- 4단계 new_id에서 마침표(.)가 처음이나 끝에 위치한다면 제거합니다.\n",
    "- 5단계 new_id가 빈 문자열이라면, new_id에 \"a\"를 대입합니다.\n",
    "- 6단계 new_id의 길이가 16자 이상이면, new_id의 첫 15개의 문자를 제외한 나머지 문자들을 모두 제거합니다. 만약 제거 후 마침표(.)가 new_id의 끝에 위치한다면 끝에 위치한 마침표(.) 문자를 제거합니다.\n",
    "- 7단계 new_id의 길이가 2자 이하라면, new_id의 마지막 문자를 new_id의 길이가 3이 될 때까지 반복해서 끝에 붙입니다.\n"
   ]
  },
  {
   "cell_type": "code",
   "execution_count": 34,
   "id": "cc3175f1",
   "metadata": {},
   "outputs": [],
   "source": [
    "def step1(new_id):\n",
    "    return new_id.lower() ## lower는 모두 소문자로 바꾼다.\n"
   ]
  },
  {
   "cell_type": "code",
   "execution_count": 35,
   "id": "47a10b65",
   "metadata": {},
   "outputs": [],
   "source": [
    "def step2(new_id):\n",
    "    # 조건을 제외한 모든 문자를 제거한다는건, 해당 조건의 문자만 남긴다는 뜻이다.\n",
    "    s = \"\"\n",
    "    for ch in new_id:\n",
    "        if ch.isalpha():\n",
    "            s = s + ch\n",
    "        elif ch.isdigit():\n",
    "            s = s + ch\n",
    "        elif ch in \"-_.\" :\n",
    "            s = s + ch\n",
    "    return s"
   ]
  },
  {
   "cell_type": "code",
   "execution_count": 36,
   "id": "ede2c0fb",
   "metadata": {},
   "outputs": [],
   "source": [
    "def step3(new_id):\n",
    "    # .. -> . 으로 바뀌지 않을때까지 반복하면, \n",
    "    # 임의의 .이 연속으로 있는걸 .으로 바꿀 수 있다. \n",
    "    while new_id.replace(\"..\", \".\") != new_id :\n",
    "        new_id = new_id.replace(\"..\", \".\")\n",
    "    return new_id"
   ]
  },
  {
   "cell_type": "code",
   "execution_count": 37,
   "id": "a1eb9008",
   "metadata": {},
   "outputs": [],
   "source": [
    "def step4(new_id):\n",
    "    if new_id != \"\" and new_id[0] == \".\" :\n",
    "        new_id = new_id[1:]\n",
    "    if new_id != \"\" and new_id[-1] == \".\":\n",
    "        new_id = new_id[:-1]\n",
    "    return new_id"
   ]
  },
  {
   "cell_type": "code",
   "execution_count": 38,
   "id": "db07f194",
   "metadata": {},
   "outputs": [],
   "source": [
    "def step5(new_id):\n",
    "    # 만약 문자열이 비어있으면 a로 채운다.\n",
    "    if new_id == \"\":\n",
    "        new_id = \"a\"\n",
    "    return new_id\n",
    "        "
   ]
  },
  {
   "cell_type": "code",
   "execution_count": 39,
   "id": "dbd9f4aa",
   "metadata": {},
   "outputs": [],
   "source": [
    "def step6(new_id):\n",
    "    if len(new_id) >= 16: # 16자 이상이라면\n",
    "        new_id = new_id[:15] # 15자까지만 남기고, 다른건 자른다. \n",
    "        if new_id[-1] == \".\":\n",
    "            new_id = new_id[:-1]\n",
    "            \n",
    "    return new_id"
   ]
  },
  {
   "cell_type": "code",
   "execution_count": 40,
   "id": "0e5ec469",
   "metadata": {},
   "outputs": [],
   "source": [
    "def step7(new_id):\n",
    "    while len(new_id) < 3 :\n",
    "        new_id = new_id + new_id[-1]\n",
    "    return new_id"
   ]
  },
  {
   "cell_type": "code",
   "execution_count": 41,
   "id": "fb38c9bf",
   "metadata": {},
   "outputs": [],
   "source": [
    "# 모든 스텝을 진행한다. \n",
    "def kakaoblind1(new_id):\n",
    "    step1_new_id = step1(new_id)\n",
    "    step2_new_id = step2(step1_new_id)\n",
    "    step3_new_id = step3(step2_new_id)\n",
    "    step4_new_id = step4(step3_new_id)\n",
    "    step5_new_id = step5(step4_new_id)\n",
    "    step6_new_id = step6(step5_new_id)\n",
    "    step7_new_id = step7(step6_new_id)\n",
    "    return step7_new_id"
   ]
  },
  {
   "cell_type": "markdown",
   "id": "f179408f",
   "metadata": {},
   "source": [
    "### 테스트 용 문자\n",
    "|no|new_id|result|\n",
    "|---|---|---|\n",
    "|예1|\"...!@BaT#*..y.abcdefghijklm\"|\"bat.y.abcdefghi\"|\n",
    "|예2|\"z-+.^.\"|\"z--\"|\n",
    "|예3|\"=.=\"|\"aaa\"|\n",
    "|예4|\"123_.def\"|\"123_.def\"|\n",
    "|예5|\"abcdefghijklmn.p\"|\"abcdefghijklmn\"|"
   ]
  },
  {
   "cell_type": "code",
   "execution_count": 42,
   "id": "caa24d86",
   "metadata": {},
   "outputs": [
    {
     "name": "stdout",
     "output_type": "stream",
     "text": [
      "bat.y.abcdefghi\n",
      "z--\n",
      "aaa\n",
      "123_.def\n",
      "abcdefghijklmn\n"
     ]
    }
   ],
   "source": [
    "print(kakaoblind1(\"...!@BaT#*..y.abcdefghijklm\"))\n",
    "print(kakaoblind1(\"z-+.^.\"))\n",
    "print(kakaoblind1(\"=.=\"))\n",
    "print(kakaoblind1(\"123_.def\"))\n",
    "print(kakaoblind1(\"abcdefghijklmn.p\"))"
   ]
  }
 ],
 "metadata": {
  "kernelspec": {
   "display_name": "Python 3",
   "language": "python",
   "name": "python3"
  },
  "language_info": {
   "codemirror_mode": {
    "name": "ipython",
    "version": 3
   },
   "file_extension": ".py",
   "mimetype": "text/x-python",
   "name": "python",
   "nbconvert_exporter": "python",
   "pygments_lexer": "ipython3",
   "version": "3.9.5"
  }
 },
 "nbformat": 4,
 "nbformat_minor": 5
}
