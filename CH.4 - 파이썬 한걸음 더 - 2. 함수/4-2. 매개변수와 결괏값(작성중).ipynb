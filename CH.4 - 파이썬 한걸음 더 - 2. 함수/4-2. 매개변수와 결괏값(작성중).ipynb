{
 "cells": [
  {
   "cell_type": "markdown",
   "id": "7ed1f281",
   "metadata": {},
   "source": [
    "## 스코프 개념\n",
    "전역변수, 로컬변수, 변수의 전달 등을 배워야함"
   ]
  }
 ],
 "metadata": {
  "kernelspec": {
   "display_name": "Python 3",
   "language": "python",
   "name": "python3"
  },
  "language_info": {
   "codemirror_mode": {
    "name": "ipython",
    "version": 3
   },
   "file_extension": ".py",
   "mimetype": "text/x-python",
   "name": "python",
   "nbconvert_exporter": "python",
   "pygments_lexer": "ipython3",
   "version": "3.9.4"
  }
 },
 "nbformat": 4,
 "nbformat_minor": 5
}
