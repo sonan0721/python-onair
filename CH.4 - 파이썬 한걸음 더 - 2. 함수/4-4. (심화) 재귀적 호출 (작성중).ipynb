{
 "cells": [
  {
   "cell_type": "markdown",
   "id": "69aed0cc",
   "metadata": {},
   "source": [
    "## 실습 주제\n",
    "\n",
    "피보나치, 팩토리얼, 프랙탈 하나"
   ]
  },
  {
   "cell_type": "code",
   "execution_count": null,
   "id": "ad26bdfa",
   "metadata": {},
   "outputs": [],
   "source": []
  }
 ],
 "metadata": {
  "kernelspec": {
   "display_name": "Python 3",
   "language": "python",
   "name": "python3"
  },
  "language_info": {
   "codemirror_mode": {
    "name": "ipython",
    "version": 3
   },
   "file_extension": ".py",
   "mimetype": "text/x-python",
   "name": "python",
   "nbconvert_exporter": "python",
   "pygments_lexer": "ipython3",
   "version": "3.9.4"
  }
 },
 "nbformat": 4,
 "nbformat_minor": 5
}
