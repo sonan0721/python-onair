{
 "cells": [
  {
   "attachments": {},
   "cell_type": "markdown",
   "id": "51574c6c",
   "metadata": {},
   "source": [
    "### 사용자 입력을 받아, 평균값을 반환하는 프로그램을 짜보세요."
   ]
  },
  {
   "cell_type": "code",
   "execution_count": null,
   "id": "1111bd06",
   "metadata": {},
   "outputs": [],
   "source": []
  },
  {
   "cell_type": "markdown",
   "id": "17c274d0",
   "metadata": {},
   "source": [
    "### 사용자 입력을 받아, 그 숫자가 소수인지 아닌지 판별하는 프로그램을 만드세요.\n"
   ]
  },
  {
   "cell_type": "code",
   "execution_count": null,
   "id": "7dd3ca34",
   "metadata": {},
   "outputs": [],
   "source": []
  }
 ],
 "metadata": {
  "kernelspec": {
   "display_name": "Python 3",
   "language": "python",
   "name": "python3"
  },
  "language_info": {
   "codemirror_mode": {
    "name": "ipython",
    "version": 3
   },
   "file_extension": ".py",
   "mimetype": "text/x-python",
   "name": "python",
   "nbconvert_exporter": "python",
   "pygments_lexer": "ipython3",
   "version": "3.9.4"
  }
 },
 "nbformat": 4,
 "nbformat_minor": 5
}
