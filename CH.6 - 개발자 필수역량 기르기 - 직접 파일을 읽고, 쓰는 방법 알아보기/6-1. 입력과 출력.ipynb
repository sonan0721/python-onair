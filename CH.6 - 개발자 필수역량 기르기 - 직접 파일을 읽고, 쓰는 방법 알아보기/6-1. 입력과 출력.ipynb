{
 "cells": [
  {
   "cell_type": "markdown",
   "id": "4ca085df",
   "metadata": {},
   "source": [
    "## input, print 다루기"
   ]
  },
  {
   "cell_type": "code",
   "execution_count": null,
   "id": "29a68f6f",
   "metadata": {},
   "outputs": [],
   "source": []
  },
  {
   "cell_type": "markdown",
   "id": "05986478",
   "metadata": {},
   "source": [
    "### input으로 문자열이나 데이터 받기\n",
    "- type 변환 해야함\n",
    "- 안전하게 타입 변환?"
   ]
  },
  {
   "cell_type": "code",
   "execution_count": null,
   "id": "714b598e",
   "metadata": {},
   "outputs": [],
   "source": []
  }
 ],
 "metadata": {
  "kernelspec": {
   "display_name": "Python 3",
   "language": "python",
   "name": "python3"
  },
  "language_info": {
   "codemirror_mode": {
    "name": "ipython",
    "version": 3
   },
   "file_extension": ".py",
   "mimetype": "text/x-python",
   "name": "python",
   "nbconvert_exporter": "python",
   "pygments_lexer": "ipython3",
   "version": "3.9.4"
  }
 },
 "nbformat": 4,
 "nbformat_minor": 5
}
